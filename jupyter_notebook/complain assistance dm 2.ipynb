{
 "cells": [
  {
   "cell_type": "markdown",
   "metadata": {},
   "source": [
    "# Import Library"
   ]
  },
  {
   "cell_type": "code",
   "execution_count": 106,
   "metadata": {},
   "outputs": [],
   "source": [
    "from twython import Twython\n",
    "import sqlite3\n",
    "from time import sleep\n",
    "import numpy as np\n",
    "import pandas as pd\n",
    "import pickle\n",
    "import warnings\n",
    "from util import JSONParser\n",
    "from Sastrawi.Stemmer.StemmerFactory import StemmerFactory\n",
    "import re\n",
    "import string\n",
    "import math\n",
    "import random\n",
    "warnings.simplefilter(action='ignore', category=FutureWarning)\n",
    "from pandas.core.common import SettingWithCopyWarning\n",
    "warnings.simplefilter(action=\"ignore\", category=SettingWithCopyWarning)"
   ]
  },
  {
   "cell_type": "markdown",
   "metadata": {},
   "source": [
    "# Access API"
   ]
  },
  {
   "cell_type": "code",
   "execution_count": 2,
   "metadata": {},
   "outputs": [
    {
     "name": "stdout",
     "output_type": "stream",
     "text": [
      "Authentication OK\n"
     ]
    }
   ],
   "source": [
    "import tweepy\n",
    "\n",
    "# Authenticate to Twitter\n",
    "auth = tweepy.OAuthHandler(\"CkhGa0z1CKMlK7GY56Zxh0250\", \n",
    "    \"Iq1o1IwRzuFw6xCandQbGUX1gzx6GezPD7ek1ptbcw46eni3LB\")\n",
    "auth.set_access_token(\"492948056-n4H0mlG3efeuJnDKkkoyeW9BWbl7kBrI95Dmlup1\", \n",
    "    \"jMSNiTz1mo764Xnz1x8cEAuu2CQRIhRbstAgRiD5WY7cP\")\n",
    "\n",
    "api = tweepy.API(auth)\n",
    "\n",
    "try:\n",
    "    api.verify_credentials()\n",
    "    print(\"Authentication OK\")\n",
    "except:\n",
    "    print(\"Error during authentication\")"
   ]
  },
  {
   "cell_type": "markdown",
   "metadata": {},
   "source": [
    "## Connection Database"
   ]
  },
  {
   "cell_type": "code",
   "execution_count": 3,
   "metadata": {},
   "outputs": [],
   "source": [
    "def create_connection(db_file):\n",
    "    conn = None\n",
    "    try:\n",
    "        conn = sqlite3.connect(db_file)\n",
    "    except Exception as e:\n",
    "        print(e)\n",
    "    return conn"
   ]
  },
  {
   "cell_type": "code",
   "execution_count": 4,
   "metadata": {},
   "outputs": [],
   "source": [
    "con = create_connection(\"twit copy.db\")\n",
    "cursor=con.cursor()"
   ]
  },
  {
   "cell_type": "markdown",
   "metadata": {},
   "source": [
    "# import json parser"
   ]
  },
  {
   "cell_type": "code",
   "execution_count": 5,
   "metadata": {},
   "outputs": [],
   "source": [
    "jp=JSONParser()\n",
    "jp.parse(\"data/intents.json\")"
   ]
  },
  {
   "cell_type": "markdown",
   "metadata": {},
   "source": [
    "# Important Function"
   ]
  },
  {
   "cell_type": "markdown",
   "metadata": {},
   "source": [
    "## open model pkl"
   ]
  },
  {
   "cell_type": "code",
   "execution_count": null,
   "metadata": {},
   "outputs": [],
   "source": [
    "def open_model(model_path):\n",
    "    with open (model_path, 'rb') as f:\n",
    "        model = pickle.load(f)\n",
    "    return model\n",
    "model=open_model(\"model/model_2.pkl\")"
   ]
  },
  {
   "cell_type": "markdown",
   "metadata": {},
   "source": [
    "## Document Preprocessing"
   ]
  },
  {
   "cell_type": "code",
   "execution_count": 7,
   "metadata": {},
   "outputs": [],
   "source": [
    "def document_processing(document):\n",
    "    document = document.lower()\n",
    "    document = document.translate(str.maketrans(\"\",\"\",string.punctuation))\n",
    "    document = re.sub(\"[^A-Za-z\\s']\",\" \", document)\n",
    "    document = re.sub(r'http\\S+', '', document) # remove links\n",
    "    document = re.sub(r\"www.\\S+\", \" \", document) # remove link\n",
    "    document = document.strip()\n",
    "    stemmer = StemmerFactory().create_stemmer()\n",
    "    document = stemmer.stem(document)\n",
    "    return document"
   ]
  },
  {
   "cell_type": "markdown",
   "metadata": {},
   "source": [
    "## get response"
   ]
  },
  {
   "cell_type": "code",
   "execution_count": 117,
   "metadata": {},
   "outputs": [],
   "source": [
    "def generateOTP() :\n",
    "    digits = \"0123456789\"\n",
    "    OTP = \"\"\n",
    "    for i in range(5) :\n",
    "        OTP += digits[math.floor(random.random() * 10)]\n",
    "    return OTP"
   ]
  },
  {
   "cell_type": "code",
   "execution_count": 121,
   "metadata": {},
   "outputs": [],
   "source": [
    "def response_trouble(teks, phase):\n",
    "    if phase==0:\n",
    "        if teks == '#gantiATM':\n",
    "            response= \"\"\"Baik kak aku bantu proses pergantian ATM ya, Sebelumnya ada beberapa syarat yang harus dilengkapi yaitu dengan isi data diri. Pertama silahkan ketikkan data dengan format *Nama, Nomor Rekening, No Handphone, Email*\n",
    "            \"\"\"\n",
    "            return True, response, 1\n",
    "        else:\n",
    "            proba=model.predict_proba([teks])[0]\n",
    "            if proba.max()<0.25: response=\"Maaf Kak Saya Tidak Mengerti(from response trouble)\"\n",
    "            else:\n",
    "                tag=model.predict([teks])[0]\n",
    "                response=jp.get_response(tag)\n",
    "                return False, response, None\n",
    "    elif phase==1:\n",
    "        data_nasabah=teks.split(',')\n",
    "        data_nasabah=[dt.strip() for dt in data_nasabah]\n",
    "        try:\n",
    "            query=f\"select * from nasabah where no_rekening='{data_nasabah[1]}' and nama= '{data_nasabah[0]}' and no_hp='{data_nasabah[2]}' and email='{data_nasabah[3]}'\"\n",
    "            data_f_sql=cursor.execute(query).fetchall()[0]\n",
    "            otp=generateOTP()\n",
    "            query_2=f\"UPDATE nasabah set otp={otp} WHERE no_rekening='{data_nasabah[1]}'\"\n",
    "            cursor.execute(query_2)\n",
    "            con.commit()\n",
    "            response=\"Kami telah mengirim kode OTP melalui no HP Anda. Silakan balas pesan ini dengan format *no rekening, otp*\"\n",
    "            return True, response, 2\n",
    "        except Exception as error:\n",
    "            print(error)\n",
    "            response='data yang anda masukkan salah'\n",
    "            return True, response, 1\n",
    "    elif phase==2:\n",
    "        data_nasabah=teks.split(',')\n",
    "        data_nasabah=[dt.strip() for dt in data_nasabah]\n",
    "        try:\n",
    "            query=\"SELECT * FROM nasabah WHERE no_rekening = '001002003' AND otp=11000\"\n",
    "            data_f_sql=cursor.execute(query).fetchall()[0]\n",
    "            response=\"Selamat kakak akan menerima kartu ATM baru! Tunggu kami ya kak maksimal 3x24 jam kartu ATM baru kakak sampai rumah\"\n",
    "            query_2=f\"UPDATE nasabah set otp=null WHERE no_rekening='{data_nasabah[0]}'\"\n",
    "            cursor.execute(query_2)\n",
    "            con.commit()\n",
    "            return False, response, None\n",
    "        except Exception as error:\n",
    "            print(error)\n",
    "            response='data yang anda masukkan salah'\n",
    "            return True, response, 2\n",
    "\n",
    "        "
   ]
  },
  {
   "cell_type": "code",
   "execution_count": 93,
   "metadata": {},
   "outputs": [],
   "source": [
    "def response(data):\n",
    "    data.iloc[:]['text']=data['text'].apply(document_processing)\n",
    "    resp=[]\n",
    "    for d in data.values:\n",
    "        try:\n",
    "            trouble,phase=cursor.execute(f\"\"\"SELECT is_trouble, phase FROM direct_massage \n",
    "                                        WHERE \n",
    "                                            sender={d[1]} AND\n",
    "                                            ID=(SELECT MAX(ID) FROM direct_massage WHERE sender={d[1]})\n",
    "                                        ORDER BY \"ID\" desc\"\"\").fetchall()[0] \n",
    "            t, r, phase=response_trouble(d[0],phase)\n",
    "            resp.append([r, t, phase])\n",
    "        except Exception as error:\n",
    "            proba=model.predict_proba([d[0]])[0]\n",
    "            if proba.max()<0.25: resp.append([\"Maaf Kak Saya Tidak Mengerti(from respons)\", False, None])\n",
    "            else:\n",
    "                tag=model.predict([d[0]])[0]\n",
    "                t=np.where(tag=='ganti ATM', True, False)\n",
    "                resp.append([jp.get_response(tag), t, 0])\n",
    "    \n",
    "    return np.array(resp)\n"
   ]
  },
  {
   "cell_type": "code",
   "execution_count": 10,
   "metadata": {},
   "outputs": [
    {
     "data": {
      "text/plain": [
       "(1,)"
      ]
     },
     "execution_count": 10,
     "metadata": {},
     "output_type": "execute_result"
    }
   ],
   "source": [
    "cursor.execute(f\"\"\"SELECT phase FROM direct_massage \n",
    "                                        WHERE \n",
    "                                            sender=1003299484632211456 AND\n",
    "                                            ID=(SELECT MAX(ID) FROM direct_massage WHERE sender=1003299484632211456)\n",
    "                                        \"\"\").fetchall()[0] "
   ]
  },
  {
   "cell_type": "code",
   "execution_count": 11,
   "metadata": {},
   "outputs": [],
   "source": [
    "df=pd.DataFrame(data=[[1554293720396115974, 1659407474980, '#gantiATM',\t492948056, 1003299484632211456]],\n",
    "            columns=['ID',\t'created at', 'text', 'recipient', 'sender'])"
   ]
  },
  {
   "cell_type": "markdown",
   "metadata": {},
   "source": [
    "## grab massage"
   ]
  },
  {
   "cell_type": "code",
   "execution_count": 21,
   "metadata": {},
   "outputs": [],
   "source": [
    "def get_massage(api):\n",
    "    pesan=api.get_direct_messages()\n",
    "    df= pd.DataFrame([[int(s.id), s.created_timestamp, s.message_create['message_data']['text'], s.message_create['target']['recipient_id'], s.message_create['sender_id']] for s in pesan], columns=('ID', 'created at', 'text', 'recipient', 'sender' ))\n",
    "    return df[df.sender!='492948056']"
   ]
  },
  {
   "cell_type": "markdown",
   "metadata": {},
   "source": [
    "## check new massage"
   ]
  },
  {
   "cell_type": "code",
   "execution_count": 22,
   "metadata": {},
   "outputs": [],
   "source": [
    "def cek_response(api, cursor):\n",
    "    max_id=cursor.execute('SELECT MAX(ID) FROM direct_massage').fetchall()[0][0]\n",
    "    if max_id==None:max_id=0\n",
    "    new_massage=get_massage(api)\n",
    "    if new_massage.ID.max()>max_id:\n",
    "        massage=new_massage[new_massage.ID>max_id]\n",
    "        massage[['response','is_trouble', 'phase']]=response(massage[['text','sender']])\n",
    "        for mas in massage['ID'].values:\n",
    "            print(massage[massage.ID==mas].response.values[0])\n",
    "        #     try:\n",
    "        #         api.send_direct_message(massage[massage.ID==mas].sender[0], massage[massage.ID==mas].response[0])\n",
    "        #     except Exception as error:\n",
    "        #         print(error)\n",
    "        return True, massage\n",
    "    else:\n",
    "        return False, None\n",
    "        # print(\"tidak ada pesan baru\")"
   ]
  },
  {
   "cell_type": "markdown",
   "metadata": {},
   "source": [
    "# Main Menu"
   ]
  },
  {
   "cell_type": "markdown",
   "metadata": {},
   "source": [
    "## run bot"
   ]
  },
  {
   "cell_type": "code",
   "execution_count": 127,
   "metadata": {},
   "outputs": [
    {
     "name": "stdout",
     "output_type": "stream",
     "text": [
      "Sampai jumpa lagi lain waktu\n",
      "Data baru sejumlah 1\n"
     ]
    }
   ],
   "source": [
    "while True:    \n",
    "    got, data=cek_response(api, cursor)\n",
    "    if got: \n",
    "        data.to_sql('direct_massage', con=con, method='multi', if_exists='append', index=False)\n",
    "        print(f'Data baru sejumlah {data.shape[0]}')\n",
    "    else: print(\"No Massage\")\n",
    "    sleep(60)"
   ]
  }
 ],
 "metadata": {
  "kernelspec": {
   "display_name": "Python 3.9.12 ('base')",
   "language": "python",
   "name": "python3"
  },
  "language_info": {
   "codemirror_mode": {
    "name": "ipython",
    "version": 3
   },
   "file_extension": ".py",
   "mimetype": "text/x-python",
   "name": "python",
   "nbconvert_exporter": "python",
   "pygments_lexer": "ipython3",
   "version": "3.9.12"
  },
  "vscode": {
   "interpreter": {
    "hash": "9048cbf2aa5c5605910089358556f0bf71534cc3a4ea7c995cde1c5f16d23cd7"
   }
  }
 },
 "nbformat": 4,
 "nbformat_minor": 1
}
