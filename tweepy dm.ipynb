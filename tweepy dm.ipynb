{
 "cells": [
  {
   "cell_type": "markdown",
   "metadata": {},
   "source": [
    "Import Library"
   ]
  },
  {
   "cell_type": "code",
   "execution_count": 4,
   "metadata": {},
   "outputs": [],
   "source": [
    "from twython import Twython\n",
    "import sqlite3\n",
    "from time import sleep\n",
    "import numpy as np\n",
    "import requests\n",
    "import json\n",
    "import pandas as pd\n",
    "import io\n",
    "import pickle\n",
    "from tqdm import tqdm\n",
    "import warnings\n",
    "from util import JSONParser\n",
    "warnings.simplefilter(action='ignore', category=FutureWarning)"
   ]
  },
  {
   "cell_type": "markdown",
   "metadata": {},
   "source": [
    "Access API"
   ]
  },
  {
   "cell_type": "code",
   "execution_count": 2,
   "metadata": {},
   "outputs": [
    {
     "name": "stdout",
     "output_type": "stream",
     "text": [
      "Authentication OK\n"
     ]
    }
   ],
   "source": [
    "import tweepy\n",
    "\n",
    "# Authenticate to Twitter\n",
    "auth = tweepy.OAuthHandler(\"CkhGa0z1CKMlK7GY56Zxh0250\", \n",
    "    \"Iq1o1IwRzuFw6xCandQbGUX1gzx6GezPD7ek1ptbcw46eni3LB\")\n",
    "auth.set_access_token(\"492948056-n4H0mlG3efeuJnDKkkoyeW9BWbl7kBrI95Dmlup1\", \n",
    "    \"jMSNiTz1mo764Xnz1x8cEAuu2CQRIhRbstAgRiD5WY7cP\")\n",
    "\n",
    "api = tweepy.API(auth)\n",
    "\n",
    "try:\n",
    "    api.verify_credentials()\n",
    "    print(\"Authentication OK\")\n",
    "except:\n",
    "    print(\"Error during authentication\")"
   ]
  },
  {
   "cell_type": "code",
   "execution_count": 18,
   "metadata": {},
   "outputs": [],
   "source": [
    "jp=JSONParser()\n",
    "jp.parse(\"data/intents.json\")"
   ]
  },
  {
   "cell_type": "markdown",
   "metadata": {},
   "source": [
    "Important Function"
   ]
  },
  {
   "cell_type": "code",
   "execution_count": null,
   "metadata": {},
   "outputs": [],
   "source": [
    "def open_model(model_path):\n",
    "    with open (model_path, 'rb') as f:\n",
    "        model = pickle.load(f)\n",
    "    return model\n",
    "model=open_model(\"pipe.pkl\")"
   ]
  },
  {
   "cell_type": "code",
   "execution_count": null,
   "metadata": {},
   "outputs": [],
   "source": [
    "def response(data):\n",
    "    tag=model.predict(data)\n",
    "    response=[]\n",
    "    for t in tag:\n",
    "        response.append(jp.get_response(t))\n",
    "    return response\n"
   ]
  },
  {
   "cell_type": "code",
   "execution_count": 6,
   "metadata": {},
   "outputs": [],
   "source": [
    "def create_connection(db_file):\n",
    "    conn = None\n",
    "    try:\n",
    "        conn = sqlite3.connect(db_file)\n",
    "    except Error as e:\n",
    "        print(e)\n",
    "    return conn"
   ]
  },
  {
   "cell_type": "code",
   "execution_count": 7,
   "metadata": {},
   "outputs": [],
   "source": [
    "def get_massage(api):\n",
    "    pesan=api.get_direct_messages()\n",
    "    df= pd.DataFrame([[s.id, s.created_timestamp, s.message_create['message_data']['text'], s.message_create['target']['recipient_id'], s.message_create['sender_id']] for s in pesan], columns=('ID', 'created at', 'text', 'recipient', 'sender' ))\n",
    "    return df[df.sender!='492948056']"
   ]
  },
  {
   "cell_type": "code",
   "execution_count": 15,
   "metadata": {},
   "outputs": [],
   "source": [
    "URL = 'http://tf-serving-sentiment.herokuapp.com/v1/models/sentiment:predict'\n",
    "def get_predict(series, URL_Serving):\n",
    "    X=[]\n",
    "    for con in series.tolist():\n",
    "        X.append([con])\n",
    "\n",
    "    input_data_json = json.dumps({\n",
    "        \"signature_name\": \"serving_default\",\n",
    "        \"instances\": X,\n",
    "        })\n",
    "        \n",
    "    r=requests.post(URL_Serving, input_data_json)\n",
    "    result=r.json()\n",
    "    result= np.argmax(result['predictions'], axis=1)\n",
    "    return np.where(result==0,'Negative', np.where(result==1, 'Neutral', 'Positive'))"
   ]
  },
  {
   "cell_type": "code",
   "execution_count": 46,
   "metadata": {},
   "outputs": [],
   "source": [
    "def check_new_massage(api):\n",
    "    old_massage=get_massage(api)\n",
    "    while True:\n",
    "        max=old_massage.ID.max()\n",
    "        new_massage=get_massage(api)\n",
    "        if new_massage.ID.max()>old_massage.ID.max():\n",
    "            massage=new_massage[new_massage.ID>max]\n",
    "            massage['response']=response(massage['text'])\n",
    "            print(f\"Ada {massage.shape[0]} pesan baru\")\n",
    "            old_massage=new_massage\n",
    "            for mas in massage.ID:\n",
    "                api.send_direct_message(massage[massage.ID==mas].sender[0], massage[massage.ID==mas].response[0])\n",
    "        else:\n",
    "            print(\"tidak ada pesan baru\")\n",
    "        sleep(65)"
   ]
  },
  {
   "cell_type": "markdown",
   "metadata": {},
   "source": [
    "Connection"
   ]
  },
  {
   "cell_type": "code",
   "execution_count": 8,
   "metadata": {},
   "outputs": [],
   "source": [
    "con = create_connection(\"twit copy.db\")\n",
    "cursor=con.cursor()"
   ]
  },
  {
   "cell_type": "code",
   "execution_count": 48,
   "metadata": {},
   "outputs": [
    {
     "ename": "TooManyRequests",
     "evalue": "429 Too Many Requests\n88 - Rate limit exceeded",
     "output_type": "error",
     "traceback": [
      "\u001b[1;31m---------------------------------------------------------------------------\u001b[0m",
      "\u001b[1;31mTooManyRequests\u001b[0m                           Traceback (most recent call last)",
      "\u001b[1;32mc:\\Users\\wahyu\\github-classroom\\H8-Assignments-Bay\\final\\p2---final-project-ftds-012-group-003\\tweepy dm.ipynb Cell 15\u001b[0m in \u001b[0;36m<cell line: 1>\u001b[1;34m()\u001b[0m\n\u001b[1;32m----> <a href='vscode-notebook-cell:/c%3A/Users/wahyu/github-classroom/H8-Assignments-Bay/final/p2---final-project-ftds-012-group-003/tweepy%20dm.ipynb#ch0000013?line=0'>1</a>\u001b[0m check_new_massage(api)\n",
      "\u001b[1;32mc:\\Users\\wahyu\\github-classroom\\H8-Assignments-Bay\\final\\p2---final-project-ftds-012-group-003\\tweepy dm.ipynb Cell 15\u001b[0m in \u001b[0;36mcheck_new_massage\u001b[1;34m(api)\u001b[0m\n\u001b[0;32m      <a href='vscode-notebook-cell:/c%3A/Users/wahyu/github-classroom/H8-Assignments-Bay/final/p2---final-project-ftds-012-group-003/tweepy%20dm.ipynb#ch0000013?line=0'>1</a>\u001b[0m \u001b[39mdef\u001b[39;00m \u001b[39mcheck_new_massage\u001b[39m(api):\n\u001b[1;32m----> <a href='vscode-notebook-cell:/c%3A/Users/wahyu/github-classroom/H8-Assignments-Bay/final/p2---final-project-ftds-012-group-003/tweepy%20dm.ipynb#ch0000013?line=1'>2</a>\u001b[0m     old_massage\u001b[39m=\u001b[39mget_massage(api)\n\u001b[0;32m      <a href='vscode-notebook-cell:/c%3A/Users/wahyu/github-classroom/H8-Assignments-Bay/final/p2---final-project-ftds-012-group-003/tweepy%20dm.ipynb#ch0000013?line=2'>3</a>\u001b[0m     \u001b[39mwhile\u001b[39;00m \u001b[39mTrue\u001b[39;00m:\n\u001b[0;32m      <a href='vscode-notebook-cell:/c%3A/Users/wahyu/github-classroom/H8-Assignments-Bay/final/p2---final-project-ftds-012-group-003/tweepy%20dm.ipynb#ch0000013?line=3'>4</a>\u001b[0m         \u001b[39mmax\u001b[39m\u001b[39m=\u001b[39mold_massage\u001b[39m.\u001b[39mID\u001b[39m.\u001b[39mmax()\n",
      "\u001b[1;32mc:\\Users\\wahyu\\github-classroom\\H8-Assignments-Bay\\final\\p2---final-project-ftds-012-group-003\\tweepy dm.ipynb Cell 15\u001b[0m in \u001b[0;36mget_massage\u001b[1;34m(api)\u001b[0m\n\u001b[0;32m      <a href='vscode-notebook-cell:/c%3A/Users/wahyu/github-classroom/H8-Assignments-Bay/final/p2---final-project-ftds-012-group-003/tweepy%20dm.ipynb#ch0000013?line=0'>1</a>\u001b[0m \u001b[39mdef\u001b[39;00m \u001b[39mget_massage\u001b[39m(api):\n\u001b[1;32m----> <a href='vscode-notebook-cell:/c%3A/Users/wahyu/github-classroom/H8-Assignments-Bay/final/p2---final-project-ftds-012-group-003/tweepy%20dm.ipynb#ch0000013?line=1'>2</a>\u001b[0m     pesan\u001b[39m=\u001b[39mapi\u001b[39m.\u001b[39;49mget_direct_messages()\n\u001b[0;32m      <a href='vscode-notebook-cell:/c%3A/Users/wahyu/github-classroom/H8-Assignments-Bay/final/p2---final-project-ftds-012-group-003/tweepy%20dm.ipynb#ch0000013?line=2'>3</a>\u001b[0m     df\u001b[39m=\u001b[39m pd\u001b[39m.\u001b[39mDataFrame([[s\u001b[39m.\u001b[39mid, s\u001b[39m.\u001b[39mcreated_timestamp, s\u001b[39m.\u001b[39mmessage_create[\u001b[39m'\u001b[39m\u001b[39mmessage_data\u001b[39m\u001b[39m'\u001b[39m][\u001b[39m'\u001b[39m\u001b[39mtext\u001b[39m\u001b[39m'\u001b[39m], s\u001b[39m.\u001b[39mmessage_create[\u001b[39m'\u001b[39m\u001b[39mtarget\u001b[39m\u001b[39m'\u001b[39m][\u001b[39m'\u001b[39m\u001b[39mrecipient_id\u001b[39m\u001b[39m'\u001b[39m], s\u001b[39m.\u001b[39mmessage_create[\u001b[39m'\u001b[39m\u001b[39msender_id\u001b[39m\u001b[39m'\u001b[39m]] \u001b[39mfor\u001b[39;00m s \u001b[39min\u001b[39;00m pesan], columns\u001b[39m=\u001b[39m(\u001b[39m'\u001b[39m\u001b[39mID\u001b[39m\u001b[39m'\u001b[39m, \u001b[39m'\u001b[39m\u001b[39mcreated at\u001b[39m\u001b[39m'\u001b[39m, \u001b[39m'\u001b[39m\u001b[39mtext\u001b[39m\u001b[39m'\u001b[39m, \u001b[39m'\u001b[39m\u001b[39mrecipient\u001b[39m\u001b[39m'\u001b[39m, \u001b[39m'\u001b[39m\u001b[39msender\u001b[39m\u001b[39m'\u001b[39m ))\n\u001b[0;32m      <a href='vscode-notebook-cell:/c%3A/Users/wahyu/github-classroom/H8-Assignments-Bay/final/p2---final-project-ftds-012-group-003/tweepy%20dm.ipynb#ch0000013?line=3'>4</a>\u001b[0m     \u001b[39mreturn\u001b[39;00m df[df\u001b[39m.\u001b[39msender\u001b[39m!=\u001b[39m\u001b[39m'\u001b[39m\u001b[39m492948056\u001b[39m\u001b[39m'\u001b[39m]\n",
      "File \u001b[1;32mc:\\Users\\wahyu\\anaconda3\\lib\\site-packages\\tweepy\\api.py:33\u001b[0m, in \u001b[0;36mpagination.<locals>.decorator.<locals>.wrapper\u001b[1;34m(*args, **kwargs)\u001b[0m\n\u001b[0;32m     31\u001b[0m \u001b[39m@functools\u001b[39m\u001b[39m.\u001b[39mwraps(method)\n\u001b[0;32m     32\u001b[0m \u001b[39mdef\u001b[39;00m \u001b[39mwrapper\u001b[39m(\u001b[39m*\u001b[39margs, \u001b[39m*\u001b[39m\u001b[39m*\u001b[39mkwargs):\n\u001b[1;32m---> 33\u001b[0m     \u001b[39mreturn\u001b[39;00m method(\u001b[39m*\u001b[39margs, \u001b[39m*\u001b[39m\u001b[39m*\u001b[39mkwargs)\n",
      "File \u001b[1;32mc:\\Users\\wahyu\\anaconda3\\lib\\site-packages\\tweepy\\api.py:46\u001b[0m, in \u001b[0;36mpayload.<locals>.decorator.<locals>.wrapper\u001b[1;34m(*args, **kwargs)\u001b[0m\n\u001b[0;32m     44\u001b[0m kwargs[\u001b[39m'\u001b[39m\u001b[39mpayload_list\u001b[39m\u001b[39m'\u001b[39m] \u001b[39m=\u001b[39m payload_list\n\u001b[0;32m     45\u001b[0m kwargs[\u001b[39m'\u001b[39m\u001b[39mpayload_type\u001b[39m\u001b[39m'\u001b[39m] \u001b[39m=\u001b[39m payload_type\n\u001b[1;32m---> 46\u001b[0m \u001b[39mreturn\u001b[39;00m method(\u001b[39m*\u001b[39margs, \u001b[39m*\u001b[39m\u001b[39m*\u001b[39mkwargs)\n",
      "File \u001b[1;32mc:\\Users\\wahyu\\anaconda3\\lib\\site-packages\\tweepy\\api.py:3306\u001b[0m, in \u001b[0;36mAPI.get_direct_messages\u001b[1;34m(self, **kwargs)\u001b[0m\n\u001b[0;32m   3280\u001b[0m \u001b[39m@pagination\u001b[39m(mode\u001b[39m=\u001b[39m\u001b[39m'\u001b[39m\u001b[39mdm_cursor\u001b[39m\u001b[39m'\u001b[39m)\n\u001b[0;32m   3281\u001b[0m \u001b[39m@payload\u001b[39m(\u001b[39m'\u001b[39m\u001b[39mdirect_message\u001b[39m\u001b[39m'\u001b[39m, \u001b[39mlist\u001b[39m\u001b[39m=\u001b[39m\u001b[39mTrue\u001b[39;00m)\n\u001b[0;32m   3282\u001b[0m \u001b[39mdef\u001b[39;00m \u001b[39mget_direct_messages\u001b[39m(\u001b[39mself\u001b[39m, \u001b[39m*\u001b[39m\u001b[39m*\u001b[39mkwargs):\n\u001b[0;32m   3283\u001b[0m     \u001b[39m\"\"\"get_direct_messages(*, count, cursor)\u001b[39;00m\n\u001b[0;32m   3284\u001b[0m \n\u001b[0;32m   3285\u001b[0m \u001b[39m    Returns all Direct Message events (both sent and received) within the\u001b[39;00m\n\u001b[1;32m   (...)\u001b[0m\n\u001b[0;32m   3304\u001b[0m \u001b[39m    https://developer.twitter.com/en/docs/twitter-api/v1/direct-messages/sending-and-receiving/api-reference/list-events\u001b[39;00m\n\u001b[0;32m   3305\u001b[0m \u001b[39m    \"\"\"\u001b[39;00m\n\u001b[1;32m-> 3306\u001b[0m     \u001b[39mreturn\u001b[39;00m \u001b[39mself\u001b[39m\u001b[39m.\u001b[39mrequest(\n\u001b[0;32m   3307\u001b[0m         \u001b[39m'\u001b[39m\u001b[39mGET\u001b[39m\u001b[39m'\u001b[39m, \u001b[39m'\u001b[39m\u001b[39mdirect_messages/events/list\u001b[39m\u001b[39m'\u001b[39m, endpoint_parameters\u001b[39m=\u001b[39m(\n\u001b[0;32m   3308\u001b[0m             \u001b[39m'\u001b[39m\u001b[39mcount\u001b[39m\u001b[39m'\u001b[39m, \u001b[39m'\u001b[39m\u001b[39mcursor\u001b[39m\u001b[39m'\u001b[39m\n\u001b[0;32m   3309\u001b[0m         ), \u001b[39m*\u001b[39m\u001b[39m*\u001b[39mkwargs\n\u001b[0;32m   3310\u001b[0m     )\n",
      "File \u001b[1;32mc:\\Users\\wahyu\\anaconda3\\lib\\site-packages\\tweepy\\api.py:263\u001b[0m, in \u001b[0;36mAPI.request\u001b[1;34m(self, method, endpoint, endpoint_parameters, params, headers, json_payload, parser, payload_list, payload_type, post_data, files, require_auth, return_cursors, upload_api, use_cache, **kwargs)\u001b[0m\n\u001b[0;32m    261\u001b[0m     \u001b[39mraise\u001b[39;00m NotFound(resp)\n\u001b[0;32m    262\u001b[0m \u001b[39mif\u001b[39;00m resp\u001b[39m.\u001b[39mstatus_code \u001b[39m==\u001b[39m \u001b[39m429\u001b[39m:\n\u001b[1;32m--> 263\u001b[0m     \u001b[39mraise\u001b[39;00m TooManyRequests(resp)\n\u001b[0;32m    264\u001b[0m \u001b[39mif\u001b[39;00m resp\u001b[39m.\u001b[39mstatus_code \u001b[39m>\u001b[39m\u001b[39m=\u001b[39m \u001b[39m500\u001b[39m:\n\u001b[0;32m    265\u001b[0m     \u001b[39mraise\u001b[39;00m TwitterServerError(resp)\n",
      "\u001b[1;31mTooManyRequests\u001b[0m: 429 Too Many Requests\n88 - Rate limit exceeded"
     ]
    }
   ],
   "source": [
    "check_new_massage(api)"
   ]
  }
 ],
 "metadata": {
  "kernelspec": {
   "display_name": "Python 3.9.12 ('base')",
   "language": "python",
   "name": "python3"
  },
  "language_info": {
   "codemirror_mode": {
    "name": "ipython",
    "version": 3
   },
   "file_extension": ".py",
   "mimetype": "text/x-python",
   "name": "python",
   "nbconvert_exporter": "python",
   "pygments_lexer": "ipython3",
   "version": "3.9.12"
  },
  "vscode": {
   "interpreter": {
    "hash": "9048cbf2aa5c5605910089358556f0bf71534cc3a4ea7c995cde1c5f16d23cd7"
   }
  }
 },
 "nbformat": 4,
 "nbformat_minor": 1
}
