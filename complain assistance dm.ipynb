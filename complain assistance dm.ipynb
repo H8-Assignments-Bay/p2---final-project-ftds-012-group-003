{
 "cells": [
  {
   "cell_type": "markdown",
   "metadata": {},
   "source": [
    "# Import Library"
   ]
  },
  {
   "cell_type": "code",
<<<<<<< HEAD:tweepy dm.ipynb
   "execution_count": 5,
=======
   "execution_count": 1,
>>>>>>> 4833cfbdbadd64e00dbced2c01795af5c75f0783:complain assistance dm.ipynb
   "metadata": {},
   "outputs": [],
   "source": [
    "from twython import Twython\n",
    "import sqlite3\n",
    "from time import sleep\n",
    "import numpy as np\n",
    "import requests\n",
    "import json\n",
    "import pandas as pd\n",
    "import io\n",
    "import pickle\n",
    "from tqdm import tqdm\n",
    "import warnings\n",
    "from util import JSONParser\n",
    "warnings.simplefilter(action='ignore', category=FutureWarning)"
   ]
  },
  {
   "cell_type": "markdown",
   "metadata": {},
   "source": [
    "# Access API"
   ]
  },
  {
   "cell_type": "code",
   "execution_count": 6,
   "metadata": {},
   "outputs": [
    {
     "name": "stdout",
     "output_type": "stream",
     "text": [
      "Authentication OK\n"
     ]
    }
   ],
   "source": [
    "import tweepy\n",
    "\n",
    "# Authenticate to Twitter\n",
    "auth = tweepy.OAuthHandler(\"CkhGa0z1CKMlK7GY56Zxh0250\", \n",
    "    \"Iq1o1IwRzuFw6xCandQbGUX1gzx6GezPD7ek1ptbcw46eni3LB\")\n",
    "auth.set_access_token(\"492948056-n4H0mlG3efeuJnDKkkoyeW9BWbl7kBrI95Dmlup1\", \n",
    "    \"jMSNiTz1mo764Xnz1x8cEAuu2CQRIhRbstAgRiD5WY7cP\")\n",
    "\n",
    "api = tweepy.API(auth)\n",
    "\n",
    "try:\n",
    "    api.verify_credentials()\n",
    "    print(\"Authentication OK\")\n",
    "except:\n",
    "    print(\"Error during authentication\")"
   ]
  },
  {
   "cell_type": "markdown",
   "metadata": {},
   "source": [
    "# import json parser"
   ]
  },
  {
   "cell_type": "code",
<<<<<<< HEAD:tweepy dm.ipynb
   "execution_count": 7,
=======
   "execution_count": 3,
>>>>>>> 4833cfbdbadd64e00dbced2c01795af5c75f0783:complain assistance dm.ipynb
   "metadata": {},
   "outputs": [],
   "source": [
    "jp=JSONParser()\n",
    "jp.parse(\"data/intents.json\")"
   ]
  },
  {
   "cell_type": "markdown",
   "metadata": {},
   "source": [
    "# Important Function"
   ]
  },
  {
   "cell_type": "markdown",
   "metadata": {},
   "source": [
    "## open model pkl"
   ]
  },
  {
   "cell_type": "code",
   "execution_count": 4,
   "metadata": {},
   "outputs": [
    {
     "name": "stderr",
     "output_type": "stream",
     "text": [
      "c:\\Users\\wahyu\\anaconda3\\lib\\site-packages\\sklearn\\base.py:329: UserWarning: Trying to unpickle estimator CountVectorizer from version 1.0.2 when using version 1.1.1. This might lead to breaking code or invalid results. Use at your own risk. For more info please refer to:\n",
      "https://scikit-learn.org/stable/model_persistence.html#security-maintainability-limitations\n",
      "  warnings.warn(\n",
      "c:\\Users\\wahyu\\anaconda3\\lib\\site-packages\\sklearn\\base.py:329: UserWarning: Trying to unpickle estimator MultinomialNB from version 1.0.2 when using version 1.1.1. This might lead to breaking code or invalid results. Use at your own risk. For more info please refer to:\n",
      "https://scikit-learn.org/stable/model_persistence.html#security-maintainability-limitations\n",
      "  warnings.warn(\n",
      "c:\\Users\\wahyu\\anaconda3\\lib\\site-packages\\sklearn\\base.py:329: UserWarning: Trying to unpickle estimator Pipeline from version 1.0.2 when using version 1.1.1. This might lead to breaking code or invalid results. Use at your own risk. For more info please refer to:\n",
      "https://scikit-learn.org/stable/model_persistence.html#security-maintainability-limitations\n",
      "  warnings.warn(\n"
     ]
    }
   ],
   "source": [
    "def open_model(model_path):\n",
    "    with open (model_path, 'rb') as f:\n",
    "        model = pickle.load(f)\n",
    "    return model\n",
    "model=open_model(\"model/model_2.pkl\")"
   ]
  },
  {
   "cell_type": "markdown",
   "metadata": {},
   "source": [
    "## get response"
   ]
  },
  {
   "cell_type": "code",
   "execution_count": 5,
   "metadata": {},
   "outputs": [],
   "source": [
    "def response(data):\n",
    "    tag=model.predict(data)\n",
    "    response=[]\n",
    "    for t in tag:\n",
    "        response.append(jp.get_response(t))\n",
    "    return response\n"
   ]
  },
  {
   "cell_type": "markdown",
   "metadata": {},
   "source": [
    "## connection database"
   ]
  },
  {
   "cell_type": "code",
   "execution_count": 6,
   "metadata": {},
   "outputs": [],
   "source": [
    "def create_connection(db_file):\n",
    "    conn = None\n",
    "    try:\n",
    "        conn = sqlite3.connect(db_file)\n",
    "    except Exception as e:\n",
    "        print(e)\n",
    "    return conn"
   ]
  },
  {
   "cell_type": "markdown",
   "metadata": {},
   "source": [
    "## grab massage"
   ]
  },
  {
   "cell_type": "code",
   "execution_count": 7,
   "metadata": {},
   "outputs": [],
   "source": [
    "def get_massage(api):\n",
    "    pesan=api.get_direct_messages()\n",
    "    df= pd.DataFrame([[int(s.id), s.created_timestamp, s.message_create['message_data']['text'], s.message_create['target']['recipient_id'], s.message_create['sender_id']] for s in pesan], columns=('ID', 'created at', 'text', 'recipient', 'sender' ))\n",
    "    return df[df.sender!='492948056']"
   ]
  },
  {
   "cell_type": "markdown",
   "metadata": {},
   "source": [
    "## check new massage"
   ]
  },
  {
   "cell_type": "code",
   "execution_count": 8,
   "metadata": {},
   "outputs": [],
   "source": [
    "def cek_response(api, cursor):\n",
    "    max_id=cursor.execute('SELECT MAX(ID) FROM direct_massage').fetchall()[0][0]\n",
    "    if max_id==None:max_id=0\n",
    "    new_massage=get_massage(api)\n",
    "    # print(new_massage.ID.max().type)\n",
    "    if new_massage.ID.max()>max_id:\n",
    "        massage=new_massage[new_massage.ID>max_id]\n",
    "        massage['response']=response(massage['text'])\n",
    "        print(f\"Ada {massage.shape[0]} pesan baru\")\n",
    "        old_massage=new_massage\n",
    "        for mas in massage.ID:\n",
    "            try:\n",
    "                api.send_direct_message(massage[massage.ID==mas].sender[0], massage[massage.ID==mas].response[0])\n",
    "            except Exception as error:\n",
    "                print(error)\n",
    "        return True, massage\n",
    "    else:\n",
    "        return False, None\n",
    "        # print(\"tidak ada pesan baru\")"
   ]
  },
  {
   "cell_type": "markdown",
   "metadata": {},
   "source": [
    "# Main Menu"
   ]
  },
  {
   "cell_type": "markdown",
   "metadata": {},
   "source": [
    "## Connection Database"
   ]
  },
  {
   "cell_type": "code",
   "execution_count": 10,
   "metadata": {},
   "outputs": [],
   "source": [
    "con = create_connection(\"twit copy.db\")\n",
    "cursor=con.cursor()"
   ]
  },
  {
   "cell_type": "markdown",
   "metadata": {},
   "source": [
    "## run bot"
   ]
  },
  {
   "cell_type": "code",
   "execution_count": null,
   "metadata": {},
   "outputs": [],
   "source": [
    "while True:    \n",
    "    got, data=cek_response(api, cursor)\n",
    "    if got: \n",
    "        data.to_sql('direct_massage', con=con, method='multi', if_exists='append', index=False)\n",
    "        print(f'Data baru sejumlah {data.shape[0]}')\n",
    "    else: print(\"No Massage\")\n",
    "    sleep(60)"
   ]
  }
 ],
 "metadata": {
  "kernelspec": {
   "display_name": "Python 3.8.5 ('base')",
   "language": "python",
   "name": "python3"
  },
  "language_info": {
   "codemirror_mode": {
    "name": "ipython",
    "version": 3
   },
   "file_extension": ".py",
   "mimetype": "text/x-python",
   "name": "python",
   "nbconvert_exporter": "python",
   "pygments_lexer": "ipython3",
   "version": "3.8.5"
  },
  "vscode": {
   "interpreter": {
    "hash": "3313081f939a1cd2fc9e524e93ad175a39774b1d821a5d0f007e3e4c61533bad"
   }
  }
 },
 "nbformat": 4,
 "nbformat_minor": 1
}
