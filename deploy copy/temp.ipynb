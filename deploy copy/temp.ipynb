{
 "cells": [
  {
   "cell_type": "code",
   "execution_count": 1,
   "metadata": {},
   "outputs": [],
   "source": [
    "from chass import ComplainSearch\n",
    "\n",
    "cs=ComplainSearch()"
   ]
  },
  {
   "cell_type": "code",
   "execution_count": 2,
   "metadata": {},
   "outputs": [
    {
     "name": "stdout",
     "output_type": "stream",
     "text": [
      "Login Succes\n"
     ]
    },
    {
     "data": {
      "text/plain": [
       "True"
      ]
     },
     "execution_count": 2,
     "metadata": {},
     "output_type": "execute_result"
    }
   ],
   "source": [
    "cs.login('CkhGa0z1CKMlK7GY56Zxh0250','Iq1o1IwRzuFw6xCandQbGUX1gzx6GezPD7ek1ptbcw46eni3LB',\n",
    "\"492948056-n4H0mlG3efeuJnDKkkoyeW9BWbl7kBrI95Dmlup1\",'jMSNiTz1mo764Xnz1x8cEAuu2CQRIhRbstAgRiD5WY7cP')"
   ]
  },
  {
   "cell_type": "code",
   "execution_count": 3,
   "metadata": {},
   "outputs": [
    {
     "ename": "TypeError",
     "evalue": "create_connection() missing 1 required positional argument: 'address'",
     "output_type": "error",
     "traceback": [
      "\u001b[1;31m---------------------------------------------------------------------------\u001b[0m",
      "\u001b[1;31mTypeError\u001b[0m                                 Traceback (most recent call last)",
      "\u001b[1;32mc:\\Users\\wahyu\\github-classroom\\H8-Assignments-Bay\\final\\p2---final-project-ftds-012-group-003\\deploy copy\\temp.ipynb Cell 3\u001b[0m in \u001b[0;36m<cell line: 1>\u001b[1;34m()\u001b[0m\n\u001b[1;32m----> <a href='vscode-notebook-cell:/c%3A/Users/wahyu/github-classroom/H8-Assignments-Bay/final/p2---final-project-ftds-012-group-003/deploy%20copy/temp.ipynb#ch0000002?line=0'>1</a>\u001b[0m cs\u001b[39m.\u001b[39;49mset_path(\u001b[39m\"\u001b[39;49m\u001b[39mtwit copy 2.db\u001b[39;49m\u001b[39m\"\u001b[39;49m,\u001b[39m\"\u001b[39;49m\u001b[39mmodel_2.pkl\u001b[39;49m\u001b[39m\"\u001b[39;49m, \u001b[39m'\u001b[39;49m\u001b[39mhttp://tf-serving-sentiment.herokuapp.com/v1/models/sentiment:predict\u001b[39;49m\u001b[39m'\u001b[39;49m)\n",
      "File \u001b[1;32mc:\\Users\\wahyu\\github-classroom\\H8-Assignments-Bay\\final\\p2---final-project-ftds-012-group-003\\deploy copy\\chass\\complain_search.py:24\u001b[0m, in \u001b[0;36mComplainSearch.set_path\u001b[1;34m(self, path_model, path_db, path_tfserving)\u001b[0m\n\u001b[0;32m     22\u001b[0m \u001b[39mself\u001b[39m\u001b[39m.\u001b[39mpath_db\u001b[39m=\u001b[39mpath_db\n\u001b[0;32m     23\u001b[0m \u001b[39mself\u001b[39m\u001b[39m.\u001b[39mpath_tf_serving\u001b[39m=\u001b[39mpath_tfserving\n\u001b[1;32m---> 24\u001b[0m create_connection()\n",
      "\u001b[1;31mTypeError\u001b[0m: create_connection() missing 1 required positional argument: 'address'"
     ]
    }
   ],
   "source": [
    "cs.set_path(\"twit copy 2.db\",\"model_2.pkl\", 'http://tf-serving-sentiment.herokuapp.com/v1/models/sentiment:predict')"
   ]
  }
 ],
 "metadata": {
  "kernelspec": {
   "display_name": "Python 3.9.12 ('base')",
   "language": "python",
   "name": "python3"
  },
  "language_info": {
   "codemirror_mode": {
    "name": "ipython",
    "version": 3
   },
   "file_extension": ".py",
   "mimetype": "text/x-python",
   "name": "python",
   "nbconvert_exporter": "python",
   "pygments_lexer": "ipython3",
   "version": "3.9.12"
  },
  "orig_nbformat": 4,
  "vscode": {
   "interpreter": {
    "hash": "9048cbf2aa5c5605910089358556f0bf71534cc3a4ea7c995cde1c5f16d23cd7"
   }
  }
 },
 "nbformat": 4,
 "nbformat_minor": 2
}
