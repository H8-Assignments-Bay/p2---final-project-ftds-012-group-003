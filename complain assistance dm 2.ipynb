{
 "cells": [
  {
   "cell_type": "markdown",
   "metadata": {},
   "source": [
    "# Import Library"
   ]
  },
  {
   "cell_type": "code",
   "execution_count": 10,
   "metadata": {},
   "outputs": [],
   "source": [
    "from twython import Twython\n",
    "import sqlite3\n",
    "from time import sleep\n",
    "import numpy as np\n",
    "import pandas as pd\n",
    "import pickle\n",
    "import warnings\n",
    "from util import JSONParser\n",
    "from Sastrawi.Stemmer.StemmerFactory import StemmerFactory\n",
    "import re\n",
    "import string\n",
    "warnings.simplefilter(action='ignore', category=FutureWarning)"
   ]
  },
  {
   "cell_type": "markdown",
   "metadata": {},
   "source": [
    "# Access API"
   ]
  },
  {
   "cell_type": "code",
   "execution_count": 77,
   "metadata": {},
   "outputs": [
    {
     "name": "stdout",
     "output_type": "stream",
     "text": [
      "Authentication OK\n"
     ]
    }
   ],
   "source": [
    "import tweepy\n",
    "\n",
    "# Authenticate to Twitter\n",
    "auth = tweepy.OAuthHandler(\"CkhGa0z1CKMlK7GY56Zxh0250\", \n",
    "    \"Iq1o1IwRzuFw6xCandQbGUX1gzx6GezPD7ek1ptbcw46eni3LB\")\n",
    "auth.set_access_token(\"492948056-n4H0mlG3efeuJnDKkkoyeW9BWbl7kBrI95Dmlup1\", \n",
    "    \"jMSNiTz1mo764Xnz1x8cEAuu2CQRIhRbstAgRiD5WY7cP\")\n",
    "\n",
    "api = tweepy.API(auth)\n",
    "\n",
    "try:\n",
    "    api.verify_credentials()\n",
    "    print(\"Authentication OK\")\n",
    "except:\n",
    "    print(\"Error during authentication\")"
   ]
  },
  {
   "cell_type": "markdown",
   "metadata": {},
   "source": [
    "# import json parser"
   ]
  },
  {
   "cell_type": "code",
   "execution_count": 3,
   "metadata": {},
   "outputs": [],
   "source": [
    "jp=JSONParser()\n",
    "jp.parse(\"data/intents.json\")"
   ]
  },
  {
   "cell_type": "markdown",
   "metadata": {},
   "source": [
    "# Important Function"
   ]
  },
  {
   "cell_type": "markdown",
   "metadata": {},
   "source": [
    "## open model pkl"
   ]
  },
  {
   "cell_type": "code",
   "execution_count": null,
   "metadata": {},
   "outputs": [],
   "source": [
    "def open_model(model_path):\n",
    "    with open (model_path, 'rb') as f:\n",
    "        model = pickle.load(f)\n",
    "    return model\n",
    "model=open_model(\"model/model_2.pkl\")"
   ]
  },
  {
   "cell_type": "markdown",
   "metadata": {},
   "source": [
    "## Document Preprocessing"
   ]
  },
  {
   "cell_type": "code",
   "execution_count": 7,
   "metadata": {},
   "outputs": [],
   "source": [
    "def document_processing(document):\n",
    "    document = document.lower()\n",
    "    document = document.translate(str.maketrans(\"\",\"\",string.punctuation))\n",
    "    document = re.sub(\"[^A-Za-z\\s']\",\" \", document)\n",
    "    document = re.sub(r'http\\S+', '', document) # remove links\n",
    "    document = re.sub(r\"www.\\S+\", \" \", document) # remove link\n",
    "    document = document.strip()\n",
    "    stemmer = StemmerFactory().create_stemmer()\n",
    "    document = stemmer.stem(document)\n",
    "    return document"
   ]
  },
  {
   "cell_type": "markdown",
   "metadata": {},
   "source": [
    "## get response"
   ]
  },
  {
   "cell_type": "code",
   "execution_count": 91,
   "metadata": {},
   "outputs": [],
   "source": [
    "def response(data):\n",
    "    data['text']=data['text'].apply(document_processing)\n",
    "    response=[]\n",
    "    for d in data['text'].values:\n",
    "        proba=model.predict_proba([d])[0]\n",
    "        if proba.max()<0.25: response.append(\"Maaf Kak Saya Tidak Mngerti\")\n",
    "        else:\n",
    "            r=model.predict([d])[0]\n",
    "            response.append(jp.get_response(r))\n",
    "    return response\n"
   ]
  },
  {
   "cell_type": "code",
   "execution_count": 82,
   "metadata": {},
   "outputs": [],
   "source": [
    "df=pd.DataFrame(data=[['atm rusak min','001002003']], columns=['text', 'sender'])"
   ]
  },
  {
   "cell_type": "code",
   "execution_count": 92,
   "metadata": {},
   "outputs": [
    {
     "data": {
      "text/plain": [
       "['Oke kak jangan khawatir, untuk ATM rusak, ATM tertelan, dan ATM hilang akan kami ganti dengan kartu yang baru serta Gratis! Oiya jangan lupa isi data diri dulu ya di link ini https:/www.banktoyib.com/data_diri']"
      ]
     },
     "execution_count": 92,
     "metadata": {},
     "output_type": "execute_result"
    }
   ],
   "source": [
    "response(df)"
   ]
  },
  {
   "cell_type": "markdown",
   "metadata": {},
   "source": [
    "## connection database"
   ]
  },
  {
   "cell_type": "code",
   "execution_count": 17,
   "metadata": {},
   "outputs": [],
   "source": [
    "def create_connection(db_file):\n",
    "    conn = None\n",
    "    try:\n",
    "        conn = sqlite3.connect(db_file)\n",
    "    except Exception as e:\n",
    "        print(e)\n",
    "    return conn"
   ]
  },
  {
   "cell_type": "markdown",
   "metadata": {},
   "source": [
    "## grab massage"
   ]
  },
  {
   "cell_type": "code",
   "execution_count": 78,
   "metadata": {},
   "outputs": [],
   "source": [
    "def get_massage(api):\n",
    "    pesan=api.get_direct_messages()\n",
    "    df= pd.DataFrame([[int(s.id), s.created_timestamp, s.message_create['message_data']['text'], s.message_create['target']['recipient_id'], s.message_create['sender_id']] for s in pesan], columns=('ID', 'created at', 'text', 'recipient', 'sender' ))\n",
    "    return df[df.sender!='492948056']"
   ]
  },
  {
   "cell_type": "markdown",
   "metadata": {},
   "source": [
    "## check new massage"
   ]
  },
  {
   "cell_type": "code",
   "execution_count": 79,
   "metadata": {},
   "outputs": [],
   "source": [
    "def cek_response(api, cursor):\n",
    "    max_id=cursor.execute('SELECT MAX(ID) FROM direct_massage').fetchall()[0][0]\n",
    "    if max_id==None:max_id=0\n",
    "    new_massage=get_massage(api)\n",
    "    if new_massage.ID.max()>max_id:\n",
    "        massage=new_massage[new_massage.ID>max_id]\n",
    "        massage['response']=response(massage['text']['user'])\n",
    "        print(f\"Ada {massage.shape[0]} pesan baru\")\n",
    "        for mas in massage.ID:\n",
    "            try:\n",
    "                api.send_direct_message(massage[massage.ID==mas].sender[0], massage[massage.ID==mas].response[0])\n",
    "            except Exception as error:\n",
    "                print(error)\n",
    "        return True, massage\n",
    "    else:\n",
    "        return False, None\n",
    "        # print(\"tidak ada pesan baru\")"
   ]
  },
  {
   "cell_type": "markdown",
   "metadata": {},
   "source": [
    "# Main Menu"
   ]
  },
  {
   "cell_type": "markdown",
   "metadata": {},
   "source": [
    "## Connection Database"
   ]
  },
  {
   "cell_type": "code",
   "execution_count": 80,
   "metadata": {},
   "outputs": [],
   "source": [
    "con = create_connection(\"twit copy.db\")\n",
    "cursor=con.cursor()"
   ]
  },
  {
   "cell_type": "markdown",
   "metadata": {},
   "source": [
    "## run bot"
   ]
  },
  {
   "cell_type": "code",
   "execution_count": null,
   "metadata": {},
   "outputs": [],
   "source": [
    "while True:    \n",
    "    got, data=cek_response(api, cursor)\n",
    "    if got: \n",
    "        data.to_sql('direct_massage', con=con, method='multi', if_exists='append', index=False)\n",
    "        print(f'Data baru sejumlah {data.shape[0]}')\n",
    "    else: print(\"No Massage\")\n",
    "    sleep(60)"
   ]
  }
 ],
 "metadata": {
  "kernelspec": {
   "display_name": "Python 3.9.12 ('base')",
   "language": "python",
   "name": "python3"
  },
  "language_info": {
   "codemirror_mode": {
    "name": "ipython",
    "version": 3
   },
   "file_extension": ".py",
   "mimetype": "text/x-python",
   "name": "python",
   "nbconvert_exporter": "python",
   "pygments_lexer": "ipython3",
   "version": "3.9.12"
  },
  "vscode": {
   "interpreter": {
    "hash": "9048cbf2aa5c5605910089358556f0bf71534cc3a4ea7c995cde1c5f16d23cd7"
   }
  }
 },
 "nbformat": 4,
 "nbformat_minor": 1
}
