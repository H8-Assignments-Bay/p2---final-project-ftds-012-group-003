{
  "nbformat": 4,
  "nbformat_minor": 0,
  "metadata": {
    "colab": {
      "name": "auto_reply_sentiment_analysis.ipynb",
      "provenance": [],
      "toc_visible": true,
      "machine_shape": "hm"
    },
    "kernelspec": {
      "name": "python3",
      "display_name": "Python 3"
    },
    "language_info": {
      "name": "python"
    },
    "accelerator": "GPU",
    "gpuClass": "standard"
  },
  "cells": [
    {
      "cell_type": "markdown",
      "source": [
        "# 1 - Introduction\n",
        "\n",
        "Credit by  : \n",
        "  - Enggar Kristian \n",
        "  - Wahyudi\n",
        "\n",
        "**Batch : FTDS - 012** \n",
        "\n",
        "**Objective : Final project, to predict sentiment analysis Twitter**"
      ],
      "metadata": {
        "id": "U7OTn2sP6FBc"
      }
    },
    {
      "cell_type": "markdown",
      "source": [
        "# 2 - Import Libraries"
      ],
      "metadata": {
        "id": "j-A4phR5Zasi"
      }
    },
    {
      "cell_type": "code",
      "execution_count": 176,
      "metadata": {
        "colab": {
          "base_uri": "https://localhost:8080/"
        },
        "id": "G7uYCDQxZTul",
        "outputId": "97c431c0-ccf8-4c9d-d099-e9601a520c0c"
      },
      "outputs": [
        {
          "output_type": "stream",
          "name": "stdout",
          "text": [
            "Drive already mounted at /content/gdrive; to attempt to forcibly remount, call drive.mount(\"/content/gdrive\", force_remount=True).\n"
          ]
        }
      ],
      "source": [
        "from google.colab import drive\n",
        "\n",
        "drive.mount('/content/gdrive')"
      ]
    },
    {
      "cell_type": "code",
      "source": [
        "# masuk folder \"model_ml_dl\"\n",
        "% cd /content/gdrive/MyDrive/model_dl_ml"
      ],
      "metadata": {
        "colab": {
          "base_uri": "https://localhost:8080/"
        },
        "id": "tlq_fYsQZdlN",
        "outputId": "b905429e-9cc2-4ac2-f210-5ae5897708dc"
      },
      "execution_count": 177,
      "outputs": [
        {
          "output_type": "stream",
          "name": "stdout",
          "text": [
            "/content/gdrive/MyDrive/model_dl_ml\n"
          ]
        }
      ]
    },
    {
      "cell_type": "code",
      "source": [
        "import pandas as pd\n",
        "import numpy as np\n",
        "import seaborn as sns\n",
        "import matplotlib.pyplot as plt\n",
        "import sklearn\n",
        "from sklearn.model_selection import train_test_split\n",
        "import joblib\n",
        "import pickle\n",
        "import plotly.express as px\n",
        "from sklearn.model_selection import train_test_split, cross_validate\n",
        "import warnings\n",
        "warnings.filterwarnings('ignore')\n",
        "from sklearn import preprocessing\n",
        "from pathlib import Path\n",
        "from imblearn.over_sampling import RandomOverSampler\n",
        "\n",
        "# Evaluate Classification Models\n",
        "from sklearn.metrics import classification_report, roc_auc_score, auc, RocCurveDisplay, roc_curve, accuracy_score\n",
        "from sklearn.metrics import accuracy_score,classification_report,ConfusionMatrixDisplay,confusion_matrix\n",
        "\n",
        "import tensorflow as tf \n",
        "from tensorflow import keras\n",
        "import pathlib\n",
        "!pip install -q pysastrawi\n",
        "from sklearn.metrics import confusion_matrix ,accuracy_score\n",
        "np.random.seed(15)\n",
        "tf.random.set_seed(15)\n",
        "import re # for preprocessing text\n",
        "import string # for preprocessing text\n",
        "from sklearn.feature_extraction.text import CountVectorizer # to create Bag of words\n",
        "import nltk # for processing texts\n",
        "from nltk.corpus import stopwords # list of stop words\n",
        "from wordcloud import WordCloud,STOPWORDS\n",
        "from Sastrawi.Stemmer.StemmerFactory import StemmerFactory\n",
        "from nltk.tokenize import word_tokenize\n",
        "from keras.preprocessing.text import Tokenizer\n",
        "from keras.preprocessing.sequence import pad_sequences\n",
        "from sklearn.feature_extraction.text import CountVectorizer, TfidfTransformer\n",
        "from tensorflow.keras.layers import TextVectorization, Embedding\n",
        "from tensorflow.keras.layers import Dense, Conv1D, GlobalAveragePooling1D, MaxPooling1D, Input, LSTM, GRU, SpatialDropout1D, Dense, Dropout, Masking, Embedding, Flatten, Input, BatchNormalization\n",
        "from tensorflow.keras.models import Model, Sequential\n",
        "from tensorflow.keras.utils import to_categorical\n",
        "\n",
        "!pip install -q pysastrawi\n",
        "nltk.download('punkt')\n",
        "nltk.download('stopwords')\n",
        "nltk.download('wordnet')"
      ],
      "metadata": {
        "colab": {
          "base_uri": "https://localhost:8080/"
        },
        "id": "0yt_-285ZetK",
        "outputId": "aeab2003-5d9f-47a8-d872-83f1a2ad2fa0"
      },
      "execution_count": 178,
      "outputs": [
        {
          "output_type": "stream",
          "name": "stderr",
          "text": [
            "[nltk_data] Downloading package punkt to /root/nltk_data...\n",
            "[nltk_data]   Package punkt is already up-to-date!\n",
            "[nltk_data] Downloading package stopwords to /root/nltk_data...\n",
            "[nltk_data]   Package stopwords is already up-to-date!\n",
            "[nltk_data] Downloading package wordnet to /root/nltk_data...\n",
            "[nltk_data]   Package wordnet is already up-to-date!\n"
          ]
        },
        {
          "output_type": "execute_result",
          "data": {
            "text/plain": [
              "True"
            ]
          },
          "metadata": {},
          "execution_count": 178
        }
      ]
    },
    {
      "cell_type": "code",
      "source": [
        "tf.__version__"
      ],
      "metadata": {
        "colab": {
          "base_uri": "https://localhost:8080/",
          "height": 35
        },
        "id": "coEv72JqZ-UW",
        "outputId": "2d45f2b4-b3c3-459f-d42b-43902ade9f45"
      },
      "execution_count": 179,
      "outputs": [
        {
          "output_type": "execute_result",
          "data": {
            "text/plain": [
              "'2.8.2'"
            ],
            "application/vnd.google.colaboratory.intrinsic+json": {
              "type": "string"
            }
          },
          "metadata": {},
          "execution_count": 179
        }
      ]
    },
    {
      "cell_type": "code",
      "source": [
        "sklearn.__version__"
      ],
      "metadata": {
        "colab": {
          "base_uri": "https://localhost:8080/",
          "height": 35
        },
        "id": "lWl6lPA-Z-vP",
        "outputId": "f1388613-808c-4ebb-e4f9-d2596347b566"
      },
      "execution_count": 180,
      "outputs": [
        {
          "output_type": "execute_result",
          "data": {
            "text/plain": [
              "'1.0.2'"
            ],
            "application/vnd.google.colaboratory.intrinsic+json": {
              "type": "string"
            }
          },
          "metadata": {},
          "execution_count": 180
        }
      ]
    },
    {
      "cell_type": "markdown",
      "source": [
        "# 3 - Data Loading"
      ],
      "metadata": {
        "id": "Nd5aG3X_aASn"
      }
    },
    {
      "cell_type": "code",
      "source": [
        "data = pd.read_csv(\"https://raw.githubusercontent.com/IanNarsa/sentiment-analysis/master/data/testSentimen.csv\",header=None).rename({0:'sentimen',1:'text'},axis=1)\n",
        "data.head()"
      ],
      "metadata": {
        "colab": {
          "base_uri": "https://localhost:8080/",
          "height": 206
        },
        "id": "8I9yYXUKZ4-C",
        "outputId": "12dedcdb-8d4e-4410-9fc8-7cf34764236b"
      },
      "execution_count": 181,
      "outputs": [
        {
          "output_type": "execute_result",
          "data": {
            "text/plain": [
              "     sentimen                                               text\n",
              "0  |positive|  |@PrincessSuperC Hai Cici tersayang! Cuma mau ...\n",
              "1  |positive|  |@Msdebramaye Saya mendengar tentang kontes it...\n",
              "2  |positive|  |UNC!!! Pemenang NCAA!! Franklin St.: I ADA DI...\n",
              "3  |positive|  |@DivHumas_Polri: Hoax dan Ujaran Kebencian da...\n",
              "4  |positive|  |@DivHumas_Polri: Polri : Reuni 212 Berjalan K..."
            ],
            "text/html": [
              "\n",
              "  <div id=\"df-2252d101-cd0d-48ce-8a66-a1ee54d900da\">\n",
              "    <div class=\"colab-df-container\">\n",
              "      <div>\n",
              "<style scoped>\n",
              "    .dataframe tbody tr th:only-of-type {\n",
              "        vertical-align: middle;\n",
              "    }\n",
              "\n",
              "    .dataframe tbody tr th {\n",
              "        vertical-align: top;\n",
              "    }\n",
              "\n",
              "    .dataframe thead th {\n",
              "        text-align: right;\n",
              "    }\n",
              "</style>\n",
              "<table border=\"1\" class=\"dataframe\">\n",
              "  <thead>\n",
              "    <tr style=\"text-align: right;\">\n",
              "      <th></th>\n",
              "      <th>sentimen</th>\n",
              "      <th>text</th>\n",
              "    </tr>\n",
              "  </thead>\n",
              "  <tbody>\n",
              "    <tr>\n",
              "      <th>0</th>\n",
              "      <td>|positive|</td>\n",
              "      <td>|@PrincessSuperC Hai Cici tersayang! Cuma mau ...</td>\n",
              "    </tr>\n",
              "    <tr>\n",
              "      <th>1</th>\n",
              "      <td>|positive|</td>\n",
              "      <td>|@Msdebramaye Saya mendengar tentang kontes it...</td>\n",
              "    </tr>\n",
              "    <tr>\n",
              "      <th>2</th>\n",
              "      <td>|positive|</td>\n",
              "      <td>|UNC!!! Pemenang NCAA!! Franklin St.: I ADA DI...</td>\n",
              "    </tr>\n",
              "    <tr>\n",
              "      <th>3</th>\n",
              "      <td>|positive|</td>\n",
              "      <td>|@DivHumas_Polri: Hoax dan Ujaran Kebencian da...</td>\n",
              "    </tr>\n",
              "    <tr>\n",
              "      <th>4</th>\n",
              "      <td>|positive|</td>\n",
              "      <td>|@DivHumas_Polri: Polri : Reuni 212 Berjalan K...</td>\n",
              "    </tr>\n",
              "  </tbody>\n",
              "</table>\n",
              "</div>\n",
              "      <button class=\"colab-df-convert\" onclick=\"convertToInteractive('df-2252d101-cd0d-48ce-8a66-a1ee54d900da')\"\n",
              "              title=\"Convert this dataframe to an interactive table.\"\n",
              "              style=\"display:none;\">\n",
              "        \n",
              "  <svg xmlns=\"http://www.w3.org/2000/svg\" height=\"24px\"viewBox=\"0 0 24 24\"\n",
              "       width=\"24px\">\n",
              "    <path d=\"M0 0h24v24H0V0z\" fill=\"none\"/>\n",
              "    <path d=\"M18.56 5.44l.94 2.06.94-2.06 2.06-.94-2.06-.94-.94-2.06-.94 2.06-2.06.94zm-11 1L8.5 8.5l.94-2.06 2.06-.94-2.06-.94L8.5 2.5l-.94 2.06-2.06.94zm10 10l.94 2.06.94-2.06 2.06-.94-2.06-.94-.94-2.06-.94 2.06-2.06.94z\"/><path d=\"M17.41 7.96l-1.37-1.37c-.4-.4-.92-.59-1.43-.59-.52 0-1.04.2-1.43.59L10.3 9.45l-7.72 7.72c-.78.78-.78 2.05 0 2.83L4 21.41c.39.39.9.59 1.41.59.51 0 1.02-.2 1.41-.59l7.78-7.78 2.81-2.81c.8-.78.8-2.07 0-2.86zM5.41 20L4 18.59l7.72-7.72 1.47 1.35L5.41 20z\"/>\n",
              "  </svg>\n",
              "      </button>\n",
              "      \n",
              "  <style>\n",
              "    .colab-df-container {\n",
              "      display:flex;\n",
              "      flex-wrap:wrap;\n",
              "      gap: 12px;\n",
              "    }\n",
              "\n",
              "    .colab-df-convert {\n",
              "      background-color: #E8F0FE;\n",
              "      border: none;\n",
              "      border-radius: 50%;\n",
              "      cursor: pointer;\n",
              "      display: none;\n",
              "      fill: #1967D2;\n",
              "      height: 32px;\n",
              "      padding: 0 0 0 0;\n",
              "      width: 32px;\n",
              "    }\n",
              "\n",
              "    .colab-df-convert:hover {\n",
              "      background-color: #E2EBFA;\n",
              "      box-shadow: 0px 1px 2px rgba(60, 64, 67, 0.3), 0px 1px 3px 1px rgba(60, 64, 67, 0.15);\n",
              "      fill: #174EA6;\n",
              "    }\n",
              "\n",
              "    [theme=dark] .colab-df-convert {\n",
              "      background-color: #3B4455;\n",
              "      fill: #D2E3FC;\n",
              "    }\n",
              "\n",
              "    [theme=dark] .colab-df-convert:hover {\n",
              "      background-color: #434B5C;\n",
              "      box-shadow: 0px 1px 3px 1px rgba(0, 0, 0, 0.15);\n",
              "      filter: drop-shadow(0px 1px 2px rgba(0, 0, 0, 0.3));\n",
              "      fill: #FFFFFF;\n",
              "    }\n",
              "  </style>\n",
              "\n",
              "      <script>\n",
              "        const buttonEl =\n",
              "          document.querySelector('#df-2252d101-cd0d-48ce-8a66-a1ee54d900da button.colab-df-convert');\n",
              "        buttonEl.style.display =\n",
              "          google.colab.kernel.accessAllowed ? 'block' : 'none';\n",
              "\n",
              "        async function convertToInteractive(key) {\n",
              "          const element = document.querySelector('#df-2252d101-cd0d-48ce-8a66-a1ee54d900da');\n",
              "          const dataTable =\n",
              "            await google.colab.kernel.invokeFunction('convertToInteractive',\n",
              "                                                     [key], {});\n",
              "          if (!dataTable) return;\n",
              "\n",
              "          const docLinkHtml = 'Like what you see? Visit the ' +\n",
              "            '<a target=\"_blank\" href=https://colab.research.google.com/notebooks/data_table.ipynb>data table notebook</a>'\n",
              "            + ' to learn more about interactive tables.';\n",
              "          element.innerHTML = '';\n",
              "          dataTable['output_type'] = 'display_data';\n",
              "          await google.colab.output.renderOutput(dataTable, element);\n",
              "          const docLink = document.createElement('div');\n",
              "          docLink.innerHTML = docLinkHtml;\n",
              "          element.appendChild(docLink);\n",
              "        }\n",
              "      </script>\n",
              "    </div>\n",
              "  </div>\n",
              "  "
            ]
          },
          "metadata": {},
          "execution_count": 181
        }
      ]
    },
    {
      "cell_type": "code",
      "source": [
        "# Size\n",
        "data.shape"
      ],
      "metadata": {
        "colab": {
          "base_uri": "https://localhost:8080/"
        },
        "id": "5vMEHK4mZ61n",
        "outputId": "a37c7507-b728-47c5-a4ad-2da684e89751"
      },
      "execution_count": 182,
      "outputs": [
        {
          "output_type": "execute_result",
          "data": {
            "text/plain": [
              "(3709, 2)"
            ]
          },
          "metadata": {},
          "execution_count": 182
        }
      ]
    },
    {
      "cell_type": "code",
      "source": [
        "data.info()"
      ],
      "metadata": {
        "colab": {
          "base_uri": "https://localhost:8080/"
        },
        "id": "CynS2BIMaGyP",
        "outputId": "44dc8dc7-bd34-4cac-97d2-6df0e497c0a9"
      },
      "execution_count": 183,
      "outputs": [
        {
          "output_type": "stream",
          "name": "stdout",
          "text": [
            "<class 'pandas.core.frame.DataFrame'>\n",
            "RangeIndex: 3709 entries, 0 to 3708\n",
            "Data columns (total 2 columns):\n",
            " #   Column    Non-Null Count  Dtype \n",
            "---  ------    --------------  ----- \n",
            " 0   sentimen  3709 non-null   object\n",
            " 1   text      3709 non-null   object\n",
            "dtypes: object(2)\n",
            "memory usage: 58.1+ KB\n"
          ]
        }
      ]
    },
    {
      "cell_type": "code",
      "source": [
        "# Know about unique all columns in dataset\n",
        "for col in data:\n",
        "    print(f'{col}: {data[col].unique()}')"
      ],
      "metadata": {
        "colab": {
          "base_uri": "https://localhost:8080/"
        },
        "id": "NCaYgOIRaIUM",
        "outputId": "3db1cbb7-8088-497a-801d-fdd477190b9c"
      },
      "execution_count": 184,
      "outputs": [
        {
          "output_type": "stream",
          "name": "stdout",
          "text": [
            "sentimen: ['|positive|' '|neutral|' '|negative|' '|netral|']\n",
            "text: ['|@PrincessSuperC Hai Cici tersayang! Cuma mau memberitaukan kalau saya cinta kamu! OH! Dan akan berkunjung secepatnya? Fantasi berkendari 5 Mei!!!!|'\n",
            " '|@Msdebramaye Saya mendengar tentang kontes itu! Selamat teman!!|'\n",
            " '|UNC!!! Pemenang NCAA!! Franklin St.: I ADA DISANA!! SANGAT SERU!!!!!! Ini adalah yang terbaik...yang pernah ada http://tinyurl.com/49955t3|'\n",
            " ... '|yeah|' '|yihaa|' '|islam|']\n"
          ]
        }
      ]
    },
    {
      "cell_type": "code",
      "source": [
        "# Copy dataset that can use to modification dataset\n",
        "data_copy = data.copy() \n",
        "data_copy.tail()"
      ],
      "metadata": {
        "colab": {
          "base_uri": "https://localhost:8080/",
          "height": 206
        },
        "id": "U_SixC0daUIK",
        "outputId": "a53dc953-f460-4694-d678-1d9b953a7647"
      },
      "execution_count": 185,
      "outputs": [
        {
          "output_type": "execute_result",
          "data": {
            "text/plain": [
              "        sentimen     text\n",
              "3704  |positive|    |yay|\n",
              "3705  |positive|   |yeah|\n",
              "3706  |positive|  |yihaa|\n",
              "3707  |negative|  |dungu|\n",
              "3708    |netral|  |islam|"
            ],
            "text/html": [
              "\n",
              "  <div id=\"df-2319a389-10d6-4841-b994-b8d52dd28091\">\n",
              "    <div class=\"colab-df-container\">\n",
              "      <div>\n",
              "<style scoped>\n",
              "    .dataframe tbody tr th:only-of-type {\n",
              "        vertical-align: middle;\n",
              "    }\n",
              "\n",
              "    .dataframe tbody tr th {\n",
              "        vertical-align: top;\n",
              "    }\n",
              "\n",
              "    .dataframe thead th {\n",
              "        text-align: right;\n",
              "    }\n",
              "</style>\n",
              "<table border=\"1\" class=\"dataframe\">\n",
              "  <thead>\n",
              "    <tr style=\"text-align: right;\">\n",
              "      <th></th>\n",
              "      <th>sentimen</th>\n",
              "      <th>text</th>\n",
              "    </tr>\n",
              "  </thead>\n",
              "  <tbody>\n",
              "    <tr>\n",
              "      <th>3704</th>\n",
              "      <td>|positive|</td>\n",
              "      <td>|yay|</td>\n",
              "    </tr>\n",
              "    <tr>\n",
              "      <th>3705</th>\n",
              "      <td>|positive|</td>\n",
              "      <td>|yeah|</td>\n",
              "    </tr>\n",
              "    <tr>\n",
              "      <th>3706</th>\n",
              "      <td>|positive|</td>\n",
              "      <td>|yihaa|</td>\n",
              "    </tr>\n",
              "    <tr>\n",
              "      <th>3707</th>\n",
              "      <td>|negative|</td>\n",
              "      <td>|dungu|</td>\n",
              "    </tr>\n",
              "    <tr>\n",
              "      <th>3708</th>\n",
              "      <td>|netral|</td>\n",
              "      <td>|islam|</td>\n",
              "    </tr>\n",
              "  </tbody>\n",
              "</table>\n",
              "</div>\n",
              "      <button class=\"colab-df-convert\" onclick=\"convertToInteractive('df-2319a389-10d6-4841-b994-b8d52dd28091')\"\n",
              "              title=\"Convert this dataframe to an interactive table.\"\n",
              "              style=\"display:none;\">\n",
              "        \n",
              "  <svg xmlns=\"http://www.w3.org/2000/svg\" height=\"24px\"viewBox=\"0 0 24 24\"\n",
              "       width=\"24px\">\n",
              "    <path d=\"M0 0h24v24H0V0z\" fill=\"none\"/>\n",
              "    <path d=\"M18.56 5.44l.94 2.06.94-2.06 2.06-.94-2.06-.94-.94-2.06-.94 2.06-2.06.94zm-11 1L8.5 8.5l.94-2.06 2.06-.94-2.06-.94L8.5 2.5l-.94 2.06-2.06.94zm10 10l.94 2.06.94-2.06 2.06-.94-2.06-.94-.94-2.06-.94 2.06-2.06.94z\"/><path d=\"M17.41 7.96l-1.37-1.37c-.4-.4-.92-.59-1.43-.59-.52 0-1.04.2-1.43.59L10.3 9.45l-7.72 7.72c-.78.78-.78 2.05 0 2.83L4 21.41c.39.39.9.59 1.41.59.51 0 1.02-.2 1.41-.59l7.78-7.78 2.81-2.81c.8-.78.8-2.07 0-2.86zM5.41 20L4 18.59l7.72-7.72 1.47 1.35L5.41 20z\"/>\n",
              "  </svg>\n",
              "      </button>\n",
              "      \n",
              "  <style>\n",
              "    .colab-df-container {\n",
              "      display:flex;\n",
              "      flex-wrap:wrap;\n",
              "      gap: 12px;\n",
              "    }\n",
              "\n",
              "    .colab-df-convert {\n",
              "      background-color: #E8F0FE;\n",
              "      border: none;\n",
              "      border-radius: 50%;\n",
              "      cursor: pointer;\n",
              "      display: none;\n",
              "      fill: #1967D2;\n",
              "      height: 32px;\n",
              "      padding: 0 0 0 0;\n",
              "      width: 32px;\n",
              "    }\n",
              "\n",
              "    .colab-df-convert:hover {\n",
              "      background-color: #E2EBFA;\n",
              "      box-shadow: 0px 1px 2px rgba(60, 64, 67, 0.3), 0px 1px 3px 1px rgba(60, 64, 67, 0.15);\n",
              "      fill: #174EA6;\n",
              "    }\n",
              "\n",
              "    [theme=dark] .colab-df-convert {\n",
              "      background-color: #3B4455;\n",
              "      fill: #D2E3FC;\n",
              "    }\n",
              "\n",
              "    [theme=dark] .colab-df-convert:hover {\n",
              "      background-color: #434B5C;\n",
              "      box-shadow: 0px 1px 3px 1px rgba(0, 0, 0, 0.15);\n",
              "      filter: drop-shadow(0px 1px 2px rgba(0, 0, 0, 0.3));\n",
              "      fill: #FFFFFF;\n",
              "    }\n",
              "  </style>\n",
              "\n",
              "      <script>\n",
              "        const buttonEl =\n",
              "          document.querySelector('#df-2319a389-10d6-4841-b994-b8d52dd28091 button.colab-df-convert');\n",
              "        buttonEl.style.display =\n",
              "          google.colab.kernel.accessAllowed ? 'block' : 'none';\n",
              "\n",
              "        async function convertToInteractive(key) {\n",
              "          const element = document.querySelector('#df-2319a389-10d6-4841-b994-b8d52dd28091');\n",
              "          const dataTable =\n",
              "            await google.colab.kernel.invokeFunction('convertToInteractive',\n",
              "                                                     [key], {});\n",
              "          if (!dataTable) return;\n",
              "\n",
              "          const docLinkHtml = 'Like what you see? Visit the ' +\n",
              "            '<a target=\"_blank\" href=https://colab.research.google.com/notebooks/data_table.ipynb>data table notebook</a>'\n",
              "            + ' to learn more about interactive tables.';\n",
              "          element.innerHTML = '';\n",
              "          dataTable['output_type'] = 'display_data';\n",
              "          await google.colab.output.renderOutput(dataTable, element);\n",
              "          const docLink = document.createElement('div');\n",
              "          docLink.innerHTML = docLinkHtml;\n",
              "          element.appendChild(docLink);\n",
              "        }\n",
              "      </script>\n",
              "    </div>\n",
              "  </div>\n",
              "  "
            ]
          },
          "metadata": {},
          "execution_count": 185
        }
      ]
    },
    {
      "cell_type": "code",
      "source": [
        "data_copy = data_copy[data_copy[\"sentimen\"] != \"|netral|\"]\n",
        "data_copy.tail()"
      ],
      "metadata": {
        "colab": {
          "base_uri": "https://localhost:8080/",
          "height": 206
        },
        "id": "CYBsbxY5a6VV",
        "outputId": "84549088-1d64-4433-c7d9-2f699465231c"
      },
      "execution_count": 186,
      "outputs": [
        {
          "output_type": "execute_result",
          "data": {
            "text/plain": [
              "        sentimen     text\n",
              "3703  |positive|  |yakin|\n",
              "3704  |positive|    |yay|\n",
              "3705  |positive|   |yeah|\n",
              "3706  |positive|  |yihaa|\n",
              "3707  |negative|  |dungu|"
            ],
            "text/html": [
              "\n",
              "  <div id=\"df-300d1caa-4554-4d33-895b-1e59a4927414\">\n",
              "    <div class=\"colab-df-container\">\n",
              "      <div>\n",
              "<style scoped>\n",
              "    .dataframe tbody tr th:only-of-type {\n",
              "        vertical-align: middle;\n",
              "    }\n",
              "\n",
              "    .dataframe tbody tr th {\n",
              "        vertical-align: top;\n",
              "    }\n",
              "\n",
              "    .dataframe thead th {\n",
              "        text-align: right;\n",
              "    }\n",
              "</style>\n",
              "<table border=\"1\" class=\"dataframe\">\n",
              "  <thead>\n",
              "    <tr style=\"text-align: right;\">\n",
              "      <th></th>\n",
              "      <th>sentimen</th>\n",
              "      <th>text</th>\n",
              "    </tr>\n",
              "  </thead>\n",
              "  <tbody>\n",
              "    <tr>\n",
              "      <th>3703</th>\n",
              "      <td>|positive|</td>\n",
              "      <td>|yakin|</td>\n",
              "    </tr>\n",
              "    <tr>\n",
              "      <th>3704</th>\n",
              "      <td>|positive|</td>\n",
              "      <td>|yay|</td>\n",
              "    </tr>\n",
              "    <tr>\n",
              "      <th>3705</th>\n",
              "      <td>|positive|</td>\n",
              "      <td>|yeah|</td>\n",
              "    </tr>\n",
              "    <tr>\n",
              "      <th>3706</th>\n",
              "      <td>|positive|</td>\n",
              "      <td>|yihaa|</td>\n",
              "    </tr>\n",
              "    <tr>\n",
              "      <th>3707</th>\n",
              "      <td>|negative|</td>\n",
              "      <td>|dungu|</td>\n",
              "    </tr>\n",
              "  </tbody>\n",
              "</table>\n",
              "</div>\n",
              "      <button class=\"colab-df-convert\" onclick=\"convertToInteractive('df-300d1caa-4554-4d33-895b-1e59a4927414')\"\n",
              "              title=\"Convert this dataframe to an interactive table.\"\n",
              "              style=\"display:none;\">\n",
              "        \n",
              "  <svg xmlns=\"http://www.w3.org/2000/svg\" height=\"24px\"viewBox=\"0 0 24 24\"\n",
              "       width=\"24px\">\n",
              "    <path d=\"M0 0h24v24H0V0z\" fill=\"none\"/>\n",
              "    <path d=\"M18.56 5.44l.94 2.06.94-2.06 2.06-.94-2.06-.94-.94-2.06-.94 2.06-2.06.94zm-11 1L8.5 8.5l.94-2.06 2.06-.94-2.06-.94L8.5 2.5l-.94 2.06-2.06.94zm10 10l.94 2.06.94-2.06 2.06-.94-2.06-.94-.94-2.06-.94 2.06-2.06.94z\"/><path d=\"M17.41 7.96l-1.37-1.37c-.4-.4-.92-.59-1.43-.59-.52 0-1.04.2-1.43.59L10.3 9.45l-7.72 7.72c-.78.78-.78 2.05 0 2.83L4 21.41c.39.39.9.59 1.41.59.51 0 1.02-.2 1.41-.59l7.78-7.78 2.81-2.81c.8-.78.8-2.07 0-2.86zM5.41 20L4 18.59l7.72-7.72 1.47 1.35L5.41 20z\"/>\n",
              "  </svg>\n",
              "      </button>\n",
              "      \n",
              "  <style>\n",
              "    .colab-df-container {\n",
              "      display:flex;\n",
              "      flex-wrap:wrap;\n",
              "      gap: 12px;\n",
              "    }\n",
              "\n",
              "    .colab-df-convert {\n",
              "      background-color: #E8F0FE;\n",
              "      border: none;\n",
              "      border-radius: 50%;\n",
              "      cursor: pointer;\n",
              "      display: none;\n",
              "      fill: #1967D2;\n",
              "      height: 32px;\n",
              "      padding: 0 0 0 0;\n",
              "      width: 32px;\n",
              "    }\n",
              "\n",
              "    .colab-df-convert:hover {\n",
              "      background-color: #E2EBFA;\n",
              "      box-shadow: 0px 1px 2px rgba(60, 64, 67, 0.3), 0px 1px 3px 1px rgba(60, 64, 67, 0.15);\n",
              "      fill: #174EA6;\n",
              "    }\n",
              "\n",
              "    [theme=dark] .colab-df-convert {\n",
              "      background-color: #3B4455;\n",
              "      fill: #D2E3FC;\n",
              "    }\n",
              "\n",
              "    [theme=dark] .colab-df-convert:hover {\n",
              "      background-color: #434B5C;\n",
              "      box-shadow: 0px 1px 3px 1px rgba(0, 0, 0, 0.15);\n",
              "      filter: drop-shadow(0px 1px 2px rgba(0, 0, 0, 0.3));\n",
              "      fill: #FFFFFF;\n",
              "    }\n",
              "  </style>\n",
              "\n",
              "      <script>\n",
              "        const buttonEl =\n",
              "          document.querySelector('#df-300d1caa-4554-4d33-895b-1e59a4927414 button.colab-df-convert');\n",
              "        buttonEl.style.display =\n",
              "          google.colab.kernel.accessAllowed ? 'block' : 'none';\n",
              "\n",
              "        async function convertToInteractive(key) {\n",
              "          const element = document.querySelector('#df-300d1caa-4554-4d33-895b-1e59a4927414');\n",
              "          const dataTable =\n",
              "            await google.colab.kernel.invokeFunction('convertToInteractive',\n",
              "                                                     [key], {});\n",
              "          if (!dataTable) return;\n",
              "\n",
              "          const docLinkHtml = 'Like what you see? Visit the ' +\n",
              "            '<a target=\"_blank\" href=https://colab.research.google.com/notebooks/data_table.ipynb>data table notebook</a>'\n",
              "            + ' to learn more about interactive tables.';\n",
              "          element.innerHTML = '';\n",
              "          dataTable['output_type'] = 'display_data';\n",
              "          await google.colab.output.renderOutput(dataTable, element);\n",
              "          const docLink = document.createElement('div');\n",
              "          docLink.innerHTML = docLinkHtml;\n",
              "          element.appendChild(docLink);\n",
              "        }\n",
              "      </script>\n",
              "    </div>\n",
              "  </div>\n",
              "  "
            ]
          },
          "metadata": {},
          "execution_count": 186
        }
      ]
    },
    {
      "cell_type": "markdown",
      "source": [
        "# 4 - Exploratory Data Analysis (EDA)"
      ],
      "metadata": {
        "id": "7ci155HVabAc"
      }
    },
    {
      "cell_type": "code",
      "source": [
        "data_copy['sentimen'].value_counts()"
      ],
      "metadata": {
        "colab": {
          "base_uri": "https://localhost:8080/"
        },
        "id": "uFyMAn-CaWGh",
        "outputId": "0d634b7d-30ca-4637-eff8-a11fbd401886"
      },
      "execution_count": 187,
      "outputs": [
        {
          "output_type": "execute_result",
          "data": {
            "text/plain": [
              "|negative|    2570\n",
              "|positive|     982\n",
              "|neutral|      156\n",
              "Name: sentimen, dtype: int64"
            ]
          },
          "metadata": {},
          "execution_count": 187
        }
      ]
    },
    {
      "cell_type": "code",
      "source": [
        "f,ax=plt.subplots(1,2,figsize=(16,6))\n",
        "data_copy['sentimen'].value_counts().plot.pie(autopct='%1.1f%%',ax=ax[0],shadow=True)\n",
        "ax[1].set_title('Count of Text Sentiment')\n",
        "ax[0].set_title('Count of text_sentiment')\n",
        "ax[0].set_ylabel('')\n",
        "sns.countplot('sentimen',data=data,ax=ax[1], palette = 'viridis')\n",
        "ax[1].set_title('Count of text_sentiment')\n",
        "plt.show()"
      ],
      "metadata": {
        "colab": {
          "base_uri": "https://localhost:8080/",
          "height": 405
        },
        "id": "ua2NeqoWaf6k",
        "outputId": "654a37b5-a1cb-4124-de68-46e40a93fad1"
      },
      "execution_count": 188,
      "outputs": [
        {
          "output_type": "display_data",
          "data": {
            "text/plain": [
              "<Figure size 1152x432 with 2 Axes>"
            ],
            "image/png": "[encoded data removed]"
          },
          "metadata": {
            "needs_background": "light"
          }
        }
      ]
    },
    {
      "cell_type": "markdown",
      "source": [
        "# 5 - Data Preprocessing"
      ],
      "metadata": {
        "id": "yiKVK4Hcby8X"
      }
    },
    {
      "cell_type": "markdown",
      "source": [
        "## Clean text\n"
      ],
      "metadata": {
        "id": "q6tpReCMb0U8"
      }
    },
    {
      "cell_type": "markdown",
      "source": [
        "In this Natural Language Program, the data is tabular which contains text and sentiment labels. The text will be cleaned of annoying noise such as punctuation marks, numbers, special words, links, and others. So below I will do data cleaning."
      ],
      "metadata": {
        "id": "VIKTOZe2b3st"
      }
    },
    {
      "cell_type": "code",
      "source": [
        "# let's take a sample one text\n",
        "data_copy['text'][50]\n"
      ],
      "metadata": {
        "colab": {
          "base_uri": "https://localhost:8080/",
          "height": 52
        },
        "id": "wtPMc6jIbzOJ",
        "outputId": "7f08da18-ab67-4417-a0ce-6e414636f395"
      },
      "execution_count": 189,
      "outputs": [
        {
          "output_type": "execute_result",
          "data": {
            "text/plain": [
              "'|RT @Diezpung1: Ntah Karena Video Sy Soal Bib Bahar.Atau Video Pak @prabowo Soal Ucapn S.A.W Yg  Sy Posting D Group Oposisi Td Dapat Inbox A\\\\xe2\\\\x80\\\\xa6|'"
            ],
            "application/vnd.google.colaboratory.intrinsic+json": {
              "type": "string"
            }
          },
          "metadata": {},
          "execution_count": 189
        }
      ]
    },
    {
      "cell_type": "code",
      "source": [
        "def clean_text(text):\n",
        "  '''\n",
        "  DESCRIPTION:\n",
        "  This function to clean text \n",
        "  INPUT: \n",
        "  text: string\n",
        "  OUTPUT: \n",
        "  text: string after clean it\n",
        "  ''' \n",
        "  text = text.lower() # convert letters to lower case\n",
        "  text = re.sub(\"@[A-Za-z0-9_]+\",\" \", text) #r emove mention\n",
        "  text = re.sub(\"#[A-Za-z0-9_]+\",\" \", text) # remove hashtag\n",
        "  text = re.sub(r\"\\\\n\",\" \",text) # remove \\n\n",
        "  text = re.sub(\"[^a-zA-Z]\", \" \", text) # remove non-letters\n",
        "  text = re.sub(r'\\d+', '', text) # remove number\n",
        "  text = re.sub(r'http\\S+', '', text) # remove links\n",
        "  text = re.sub(r\"www.\\S+\", \" \", text) # remove link\n",
        "  text = re.sub(\"rt\",\" \",text) # remove RT\n",
        "  text = text.translate(str.maketrans('','', string.punctuation)) # remove punctuation\n",
        "  text = re.sub(' +', ' ',text) # remove extra space\n",
        "  text = text.strip() # remove whitespaces\n",
        "\n",
        "  # remove stopwords\n",
        "  stpwds_id = list(set(stopwords.words('indonesian')))\n",
        "  stpwds_id.append('oh')\n",
        "\n",
        "  tokens = word_tokenize(text)\n",
        "\n",
        "  text = ' '.join([word for word in tokens if word not in stpwds_id])\n",
        "\n",
        "  # Stemming\n",
        "  factory = StemmerFactory()\n",
        "  stemmer = factory.create_stemmer()\n",
        "  text = stemmer.stem(text)\n",
        "\n",
        "  return text"
      ],
      "metadata": {
        "id": "dD9iveURb7J-"
      },
      "execution_count": 190,
      "outputs": []
    },
    {
      "cell_type": "markdown",
      "source": [
        "- Create functions with regex to convert letters to lowercase, remove numbers, punctuation marks, special words, links, stickers and others. so that the machine can read a text one by one word from a sentence which later the word is converted into numbers.\n",
        "\n",
        "- Then use stopwords, which is to eliminate affixes that often appear in English if the machine doesn't need to train it or you could say it reduces words to make the machine work more efficiently.\n",
        "\n",
        "- After removing noise by regex and reducing words with stopwords, word tokenize is done to make a sentence into a vector per word.\n",
        "\n",
        "- And be a function for cleaning text that serves to add results from training data created by deep learning models."
      ],
      "metadata": {
        "id": "SJ7s4znBcJKv"
      }
    },
    {
      "cell_type": "code",
      "source": [
        "%%time\n",
        "# The cleaning function applied in all reviews\n",
        "data_copy['text_processed'] = data_copy['text'].apply(lambda x: clean_text(x))\n"
      ],
      "metadata": {
        "colab": {
          "base_uri": "https://localhost:8080/"
        },
        "id": "OHVZiENRcEEw",
        "outputId": "0e3e9855-d42f-4ee2-e0c9-01c8165271ef"
      },
      "execution_count": 191,
      "outputs": [
        {
          "output_type": "stream",
          "name": "stdout",
          "text": [
            "CPU times: user 23 s, sys: 317 ms, total: 23.3 s\n",
            "Wall time: 23.4 s\n"
          ]
        }
      ]
    },
    {
      "cell_type": "markdown",
      "source": [
        "Apply function to dataset"
      ],
      "metadata": {
        "id": "GhGNJ0MzcQj_"
      }
    },
    {
      "cell_type": "code",
      "source": [
        "data_copy['text_processed'][50]"
      ],
      "metadata": {
        "colab": {
          "base_uri": "https://localhost:8080/",
          "height": 35
        },
        "id": "2Zf2mz3GcKhh",
        "outputId": "743aeabb-4793-4736-9e2d-3b0984e7c5fb"
      },
      "execution_count": 192,
      "outputs": [
        {
          "output_type": "execute_result",
          "data": {
            "text/plain": [
              "'ntah video sy bib bahar video ucapn s a w yg sy posting d group oposisi td inbox a xe x xa'"
            ],
            "application/vnd.google.colaboratory.intrinsic+json": {
              "type": "string"
            }
          },
          "metadata": {},
          "execution_count": 192
        }
      ]
    },
    {
      "cell_type": "markdown",
      "source": [
        "Well all text it should be clean from regex, and stopwords library."
      ],
      "metadata": {
        "id": "0-4N0ZO4cT9t"
      }
    },
    {
      "cell_type": "code",
      "source": [
        "data_copy.sentimen.unique()"
      ],
      "metadata": {
        "colab": {
          "base_uri": "https://localhost:8080/"
        },
        "id": "ZblY9UYzcMv2",
        "outputId": "233a4b76-51b5-4c8b-f923-3630c641e349"
      },
      "execution_count": 193,
      "outputs": [
        {
          "output_type": "execute_result",
          "data": {
            "text/plain": [
              "array(['|positive|', '|neutral|', '|negative|'], dtype=object)"
            ]
          },
          "metadata": {},
          "execution_count": 193
        }
      ]
    },
    {
      "cell_type": "code",
      "source": [
        "data_copy['label'] = data_copy['sentimen'].replace({'|neutral|' : 0, '|negative|' : 1, '|positive|' : 2})\n",
        "data_copy"
      ],
      "metadata": {
        "colab": {
          "base_uri": "https://localhost:8080/",
          "height": 423
        },
        "id": "LWCSY5iScZWG",
        "outputId": "81ccf1cb-3ad2-4ba1-a2ad-08c882548c16"
      },
      "execution_count": 194,
      "outputs": [
        {
          "output_type": "execute_result",
          "data": {
            "text/plain": [
              "        sentimen                                               text  \\\n",
              "0     |positive|  |@PrincessSuperC Hai Cici tersayang! Cuma mau ...   \n",
              "1     |positive|  |@Msdebramaye Saya mendengar tentang kontes it...   \n",
              "2     |positive|  |UNC!!! Pemenang NCAA!! Franklin St.: I ADA DI...   \n",
              "3     |positive|  |@DivHumas_Polri: Hoax dan Ujaran Kebencian da...   \n",
              "4     |positive|  |@DivHumas_Polri: Polri : Reuni 212 Berjalan K...   \n",
              "...          ...                                                ...   \n",
              "3703  |positive|                                            |yakin|   \n",
              "3704  |positive|                                              |yay|   \n",
              "3705  |positive|                                             |yeah|   \n",
              "3706  |positive|                                            |yihaa|   \n",
              "3707  |negative|                                            |dungu|   \n",
              "\n",
              "                                         text_processed  label  \n",
              "0     hai cici sayang memberitaukan cinta kunjung ce...      2  \n",
              "1                           dengar kontes selamat teman      2  \n",
              "2     unc menang ncaa franklin st i sana seru baik h...      2  \n",
              "3     hoax ujar benci ancam satu lapor janban sebar ...      2  \n",
              "4              polri reuni jalan kondusif t co dxwujk g      2  \n",
              "...                                                 ...    ...  \n",
              "3703                                                         2  \n",
              "3704                                                yay      2  \n",
              "3705                                               yeah      2  \n",
              "3706                                              yihaa      2  \n",
              "3707                                              dungu      1  \n",
              "\n",
              "[3708 rows x 4 columns]"
            ],
            "text/html": [
              "\n",
              "  <div id=\"df-3dbdff63-7b1e-4dfe-aa0b-c183a39483dd\">\n",
              "    <div class=\"colab-df-container\">\n",
              "      <div>\n",
              "<style scoped>\n",
              "    .dataframe tbody tr th:only-of-type {\n",
              "        vertical-align: middle;\n",
              "    }\n",
              "\n",
              "    .dataframe tbody tr th {\n",
              "        vertical-align: top;\n",
              "    }\n",
              "\n",
              "    .dataframe thead th {\n",
              "        text-align: right;\n",
              "    }\n",
              "</style>\n",
              "<table border=\"1\" class=\"dataframe\">\n",
              "  <thead>\n",
              "    <tr style=\"text-align: right;\">\n",
              "      <th></th>\n",
              "      <th>sentimen</th>\n",
              "      <th>text</th>\n",
              "      <th>text_processed</th>\n",
              "      <th>label</th>\n",
              "    </tr>\n",
              "  </thead>\n",
              "  <tbody>\n",
              "    <tr>\n",
              "      <th>0</th>\n",
              "      <td>|positive|</td>\n",
              "      <td>|@PrincessSuperC Hai Cici tersayang! Cuma mau ...</td>\n",
              "      <td>hai cici sayang memberitaukan cinta kunjung ce...</td>\n",
              "      <td>2</td>\n",
              "    </tr>\n",
              "    <tr>\n",
              "      <th>1</th>\n",
              "      <td>|positive|</td>\n",
              "      <td>|@Msdebramaye Saya mendengar tentang kontes it...</td>\n",
              "      <td>dengar kontes selamat teman</td>\n",
              "      <td>2</td>\n",
              "    </tr>\n",
              "    <tr>\n",
              "      <th>2</th>\n",
              "      <td>|positive|</td>\n",
              "      <td>|UNC!!! Pemenang NCAA!! Franklin St.: I ADA DI...</td>\n",
              "      <td>unc menang ncaa franklin st i sana seru baik h...</td>\n",
              "      <td>2</td>\n",
              "    </tr>\n",
              "    <tr>\n",
              "      <th>3</th>\n",
              "      <td>|positive|</td>\n",
              "      <td>|@DivHumas_Polri: Hoax dan Ujaran Kebencian da...</td>\n",
              "      <td>hoax ujar benci ancam satu lapor janban sebar ...</td>\n",
              "      <td>2</td>\n",
              "    </tr>\n",
              "    <tr>\n",
              "      <th>4</th>\n",
              "      <td>|positive|</td>\n",
              "      <td>|@DivHumas_Polri: Polri : Reuni 212 Berjalan K...</td>\n",
              "      <td>polri reuni jalan kondusif t co dxwujk g</td>\n",
              "      <td>2</td>\n",
              "    </tr>\n",
              "    <tr>\n",
              "      <th>...</th>\n",
              "      <td>...</td>\n",
              "      <td>...</td>\n",
              "      <td>...</td>\n",
              "      <td>...</td>\n",
              "    </tr>\n",
              "    <tr>\n",
              "      <th>3703</th>\n",
              "      <td>|positive|</td>\n",
              "      <td>|yakin|</td>\n",
              "      <td></td>\n",
              "      <td>2</td>\n",
              "    </tr>\n",
              "    <tr>\n",
              "      <th>3704</th>\n",
              "      <td>|positive|</td>\n",
              "      <td>|yay|</td>\n",
              "      <td>yay</td>\n",
              "      <td>2</td>\n",
              "    </tr>\n",
              "    <tr>\n",
              "      <th>3705</th>\n",
              "      <td>|positive|</td>\n",
              "      <td>|yeah|</td>\n",
              "      <td>yeah</td>\n",
              "      <td>2</td>\n",
              "    </tr>\n",
              "    <tr>\n",
              "      <th>3706</th>\n",
              "      <td>|positive|</td>\n",
              "      <td>|yihaa|</td>\n",
              "      <td>yihaa</td>\n",
              "      <td>2</td>\n",
              "    </tr>\n",
              "    <tr>\n",
              "      <th>3707</th>\n",
              "      <td>|negative|</td>\n",
              "      <td>|dungu|</td>\n",
              "      <td>dungu</td>\n",
              "      <td>1</td>\n",
              "    </tr>\n",
              "  </tbody>\n",
              "</table>\n",
              "<p>3708 rows × 4 columns</p>\n",
              "</div>\n",
              "      <button class=\"colab-df-convert\" onclick=\"convertToInteractive('df-3dbdff63-7b1e-4dfe-aa0b-c183a39483dd')\"\n",
              "              title=\"Convert this dataframe to an interactive table.\"\n",
              "              style=\"display:none;\">\n",
              "        \n",
              "  <svg xmlns=\"http://www.w3.org/2000/svg\" height=\"24px\"viewBox=\"0 0 24 24\"\n",
              "       width=\"24px\">\n",
              "    <path d=\"M0 0h24v24H0V0z\" fill=\"none\"/>\n",
              "    <path d=\"M18.56 5.44l.94 2.06.94-2.06 2.06-.94-2.06-.94-.94-2.06-.94 2.06-2.06.94zm-11 1L8.5 8.5l.94-2.06 2.06-.94-2.06-.94L8.5 2.5l-.94 2.06-2.06.94zm10 10l.94 2.06.94-2.06 2.06-.94-2.06-.94-.94-2.06-.94 2.06-2.06.94z\"/><path d=\"M17.41 7.96l-1.37-1.37c-.4-.4-.92-.59-1.43-.59-.52 0-1.04.2-1.43.59L10.3 9.45l-7.72 7.72c-.78.78-.78 2.05 0 2.83L4 21.41c.39.39.9.59 1.41.59.51 0 1.02-.2 1.41-.59l7.78-7.78 2.81-2.81c.8-.78.8-2.07 0-2.86zM5.41 20L4 18.59l7.72-7.72 1.47 1.35L5.41 20z\"/>\n",
              "  </svg>\n",
              "      </button>\n",
              "      \n",
              "  <style>\n",
              "    .colab-df-container {\n",
              "      display:flex;\n",
              "      flex-wrap:wrap;\n",
              "      gap: 12px;\n",
              "    }\n",
              "\n",
              "    .colab-df-convert {\n",
              "      background-color: #E8F0FE;\n",
              "      border: none;\n",
              "      border-radius: 50%;\n",
              "      cursor: pointer;\n",
              "      display: none;\n",
              "      fill: #1967D2;\n",
              "      height: 32px;\n",
              "      padding: 0 0 0 0;\n",
              "      width: 32px;\n",
              "    }\n",
              "\n",
              "    .colab-df-convert:hover {\n",
              "      background-color: #E2EBFA;\n",
              "      box-shadow: 0px 1px 2px rgba(60, 64, 67, 0.3), 0px 1px 3px 1px rgba(60, 64, 67, 0.15);\n",
              "      fill: #174EA6;\n",
              "    }\n",
              "\n",
              "    [theme=dark] .colab-df-convert {\n",
              "      background-color: #3B4455;\n",
              "      fill: #D2E3FC;\n",
              "    }\n",
              "\n",
              "    [theme=dark] .colab-df-convert:hover {\n",
              "      background-color: #434B5C;\n",
              "      box-shadow: 0px 1px 3px 1px rgba(0, 0, 0, 0.15);\n",
              "      filter: drop-shadow(0px 1px 2px rgba(0, 0, 0, 0.3));\n",
              "      fill: #FFFFFF;\n",
              "    }\n",
              "  </style>\n",
              "\n",
              "      <script>\n",
              "        const buttonEl =\n",
              "          document.querySelector('#df-3dbdff63-7b1e-4dfe-aa0b-c183a39483dd button.colab-df-convert');\n",
              "        buttonEl.style.display =\n",
              "          google.colab.kernel.accessAllowed ? 'block' : 'none';\n",
              "\n",
              "        async function convertToInteractive(key) {\n",
              "          const element = document.querySelector('#df-3dbdff63-7b1e-4dfe-aa0b-c183a39483dd');\n",
              "          const dataTable =\n",
              "            await google.colab.kernel.invokeFunction('convertToInteractive',\n",
              "                                                     [key], {});\n",
              "          if (!dataTable) return;\n",
              "\n",
              "          const docLinkHtml = 'Like what you see? Visit the ' +\n",
              "            '<a target=\"_blank\" href=https://colab.research.google.com/notebooks/data_table.ipynb>data table notebook</a>'\n",
              "            + ' to learn more about interactive tables.';\n",
              "          element.innerHTML = '';\n",
              "          dataTable['output_type'] = 'display_data';\n",
              "          await google.colab.output.renderOutput(dataTable, element);\n",
              "          const docLink = document.createElement('div');\n",
              "          docLink.innerHTML = docLinkHtml;\n",
              "          element.appendChild(docLink);\n",
              "        }\n",
              "      </script>\n",
              "    </div>\n",
              "  </div>\n",
              "  "
            ]
          },
          "metadata": {},
          "execution_count": 194
        }
      ]
    },
    {
      "cell_type": "markdown",
      "source": [
        "Replace the label be a numeric from categorical:\n",
        "- Neutral = 0\n",
        "- Negative = 1\n",
        "- Positive = 2\n"
      ],
      "metadata": {
        "id": "6nIfnoBocuAB"
      }
    },
    {
      "cell_type": "markdown",
      "source": [
        "## Splitting Dataset"
      ],
      "metadata": {
        "id": "eBh3LEjGcv7Q"
      }
    },
    {
      "cell_type": "code",
      "source": [
        "# random state\n",
        "random_state=5\n",
        "\n",
        "# Splitting dataset\n",
        "X_train_full, X_test,  y_train_full, y_test = train_test_split(data_copy.text_processed,\n",
        "                                                               data_copy.label,\n",
        "                                                               test_size=0.2, random_state=random_state)\n",
        "\n",
        "X_train, X_val, y_train, y_val = train_test_split(X_train_full,\n",
        "                                                  y_train_full,\n",
        "                                                  test_size=0.33, random_state=random_state)\n",
        "\n",
        "print(\"Training data shape: {}\".format(X_train.shape))\n",
        "print(\"Validation data shape: {}\".format(X_val.shape))\n",
        "print(\"Testing data shape: {}\".format(X_test.shape))"
      ],
      "metadata": {
        "colab": {
          "base_uri": "https://localhost:8080/"
        },
        "id": "XjbdbPJrcoBi",
        "outputId": "96942c10-9355-4ad6-8d7f-199153f28fe0"
      },
      "execution_count": 222,
      "outputs": [
        {
          "output_type": "stream",
          "name": "stdout",
          "text": [
            "Training data shape: (1987,)\n",
            "Validation data shape: (979,)\n",
            "Testing data shape: (742,)\n"
          ]
        }
      ]
    },
    {
      "cell_type": "code",
      "source": [
        "ros = RandomOverSampler()\n",
        "X_train_balanced, y_train_balanced = ros.fit_resample(np.array(X_train).reshape(-1, 1), np.array(y_train).reshape(-1, 1));\n",
        "X_val_balanced, y_val_balanced = ros.fit_resample(np.array(X_val).reshape(-1, 1), np.array(y_val).reshape(-1, 1));\n",
        "\n",
        "print('X_train shape berfore oversampling :', X_train.shape)\n",
        "print('y_train shape berfore oversampling :', y_train.shape)\n",
        "print('X_val shape berfore oversampling   :', X_val.shape)\n",
        "print('y_val shape berfore oversampling   :', y_val.shape)"
      ],
      "metadata": {
        "colab": {
          "base_uri": "https://localhost:8080/"
        },
        "id": "d8GuMN2ou9f3",
        "outputId": "6f364eb8-d9e6-4f43-8168-70b9b13805e9"
      },
      "execution_count": 223,
      "outputs": [
        {
          "output_type": "stream",
          "name": "stdout",
          "text": [
            "X_train shape berfore oversampling : (1987,)\n",
            "y_train shape berfore oversampling : (1987,)\n",
            "X_val shape berfore oversampling   : (979,)\n",
            "y_val shape berfore oversampling   : (979,)\n"
          ]
        }
      ]
    },
    {
      "cell_type": "code",
      "source": [
        "# print shape after oversampling\n",
        "print('X_train_balanced shape after oversampling:', X_train_balanced.shape)\n",
        "print('y_train_balanced shape after oversampling:', y_train_balanced.shape)\n",
        "print('X_val_balanced shape after oversampling:', X_val_balanced.shape)\n",
        "print('y_val_balanced shape after oversampling:', y_val_balanced.shape)"
      ],
      "metadata": {
        "colab": {
          "base_uri": "https://localhost:8080/"
        },
        "id": "_unbh-caw6Dv",
        "outputId": "9e526fe5-9ba1-4193-9063-3c780b0be049"
      },
      "execution_count": 224,
      "outputs": [
        {
          "output_type": "stream",
          "name": "stdout",
          "text": [
            "X_train_balanced shape after oversampling: (4140, 1)\n",
            "y_train_balanced shape after oversampling: (4140,)\n",
            "X_val_balanced shape after oversampling: (2070, 1)\n",
            "y_val_balanced shape after oversampling: (2070,)\n"
          ]
        }
      ]
    },
    {
      "cell_type": "code",
      "source": [
        "# X_train_balanced = pd.DataFrame(X_train_balanced)\n",
        "# X_val_balanced = pd.DataFrame(X_val_balanced)\n",
        "# y_train_balanced = pd.DataFrame(y_train_balanced)\n",
        "# y_val_balanced = pd.DataFrame(y_val_balanced)"
      ],
      "metadata": {
        "id": "q_f6BpecyCrd"
      },
      "execution_count": 209,
      "outputs": []
    },
    {
      "cell_type": "markdown",
      "source": [
        "## Tokenization & Word Embedding"
      ],
      "metadata": {
        "id": "a3KzLymKdO6h"
      }
    },
    {
      "cell_type": "code",
      "source": [
        "# Change object type be numerical\n",
        "Vectorize = CountVectorizer()\n",
        "X_train_vec = Vectorize.fit_transform(X_train)\n",
        "X_val_vec = Vectorize.transform(X_val)\n",
        "X_test_vec = Vectorize.transform(X_test)\n",
        "\n",
        "print(X_train_vec)"
      ],
      "metadata": {
        "colab": {
          "base_uri": "https://localhost:8080/"
        },
        "id": "Un8oaQP1dMxi",
        "outputId": "43603406-1408-4cef-b665-10be19901d4f"
      },
      "execution_count": 212,
      "outputs": [
        {
          "output_type": "stream",
          "name": "stdout",
          "text": [
            "  (0, 983)\t1\n",
            "  (0, 1773)\t1\n",
            "  (1, 440)\t1\n",
            "  (2, 1621)\t1\n",
            "  (3, 1200)\t1\n",
            "  (4, 870)\t1\n",
            "  (5, 562)\t1\n",
            "  (6, 1647)\t1\n",
            "  (7, 712)\t1\n",
            "  (8, 380)\t1\n",
            "  (8, 241)\t1\n",
            "  (8, 1563)\t1\n",
            "  (8, 2047)\t1\n",
            "  (8, 1183)\t1\n",
            "  (8, 1321)\t2\n",
            "  (8, 2034)\t1\n",
            "  (8, 2028)\t1\n",
            "  (8, 313)\t1\n",
            "  (8, 474)\t1\n",
            "  (9, 1592)\t1\n",
            "  (10, 969)\t1\n",
            "  (11, 1149)\t1\n",
            "  (12, 388)\t1\n",
            "  (13, 715)\t1\n",
            "  (14, 1670)\t1\n",
            "  :\t:\n",
            "  (1979, 2028)\t1\n",
            "  (1979, 314)\t1\n",
            "  (1979, 1218)\t1\n",
            "  (1979, 1024)\t1\n",
            "  (1979, 697)\t1\n",
            "  (1979, 784)\t1\n",
            "  (1979, 1620)\t1\n",
            "  (1979, 333)\t1\n",
            "  (1979, 1874)\t1\n",
            "  (1981, 598)\t1\n",
            "  (1982, 1746)\t1\n",
            "  (1983, 662)\t1\n",
            "  (1984, 1603)\t1\n",
            "  (1985, 254)\t1\n",
            "  (1986, 2034)\t1\n",
            "  (1986, 2028)\t1\n",
            "  (1986, 378)\t1\n",
            "  (1986, 218)\t1\n",
            "  (1986, 297)\t1\n",
            "  (1986, 1861)\t1\n",
            "  (1986, 26)\t1\n",
            "  (1986, 1503)\t1\n",
            "  (1986, 1611)\t1\n",
            "  (1986, 258)\t1\n",
            "  (1986, 2042)\t1\n"
          ]
        }
      ]
    },
    {
      "cell_type": "markdown",
      "source": [
        "Well after transform to numerik, it turns out that from the raw data of 3707 rows it turns out that the engine only detects 1986 different words in this dataset"
      ],
      "metadata": {
        "id": "o3v7Gp8-dTa7"
      }
    },
    {
      "cell_type": "code",
      "source": [
        "# after we do transform to numerik, we should change to weight each words\n",
        "Transformer = TfidfTransformer()\n",
        "\n",
        "X_train_tfidf = Transformer.fit_transform(X_train_vec)\n",
        "X_val_tfidf = Transformer.transform(X_val_vec)\n",
        "X_test_tfidf = Transformer.transform(X_test_vec)\n",
        "\n",
        "print(X_train_tfidf)"
      ],
      "metadata": {
        "colab": {
          "base_uri": "https://localhost:8080/"
        },
        "id": "wNK8Z4v4dQer",
        "outputId": "b2d06aff-b6ae-4c50-a1b4-d108e795ba5f"
      },
      "execution_count": 213,
      "outputs": [
        {
          "output_type": "stream",
          "name": "stdout",
          "text": [
            "  (0, 1773)\t0.7822716912280103\n",
            "  (0, 983)\t0.6229373974190893\n",
            "  (1, 440)\t1.0\n",
            "  (2, 1621)\t1.0\n",
            "  (3, 1200)\t1.0\n",
            "  (4, 870)\t1.0\n",
            "  (5, 562)\t1.0\n",
            "  (6, 1647)\t1.0\n",
            "  (7, 712)\t1.0\n",
            "  (8, 2047)\t0.2130871686887883\n",
            "  (8, 2034)\t0.14186945873360537\n",
            "  (8, 2028)\t0.14186945873360537\n",
            "  (8, 1563)\t0.31515278225028065\n",
            "  (8, 1321)\t0.6303055645005613\n",
            "  (8, 1183)\t0.28601199605807387\n",
            "  (8, 474)\t0.33219904941425443\n",
            "  (8, 380)\t0.31515278225028065\n",
            "  (8, 313)\t0.16410962328869144\n",
            "  (8, 241)\t0.31515278225028065\n",
            "  (9, 1592)\t1.0\n",
            "  (10, 969)\t1.0\n",
            "  (11, 1149)\t1.0\n",
            "  (12, 388)\t1.0\n",
            "  (13, 715)\t1.0\n",
            "  (14, 1670)\t0.7751385565921614\n",
            "  :\t:\n",
            "  (1979, 2028)\t0.16013025441445017\n",
            "  (1979, 1874)\t0.3557178243410414\n",
            "  (1979, 1620)\t0.3557178243410414\n",
            "  (1979, 1218)\t0.29858614863738914\n",
            "  (1979, 1024)\t0.3557178243410414\n",
            "  (1979, 784)\t0.3557178243410414\n",
            "  (1979, 697)\t0.34206655347344767\n",
            "  (1979, 333)\t0.3557178243410414\n",
            "  (1979, 314)\t0.3314778051535201\n",
            "  (1981, 598)\t1.0\n",
            "  (1982, 1746)\t1.0\n",
            "  (1983, 662)\t1.0\n",
            "  (1984, 1603)\t1.0\n",
            "  (1985, 254)\t1.0\n",
            "  (1986, 2042)\t0.33880854345591144\n",
            "  (1986, 2034)\t0.15251835738590744\n",
            "  (1986, 2028)\t0.15251835738590744\n",
            "  (1986, 1861)\t0.3258061947331857\n",
            "  (1986, 1611)\t0.33880854345591144\n",
            "  (1986, 1503)\t0.33880854345591144\n",
            "  (1986, 378)\t0.2891546322246896\n",
            "  (1986, 297)\t0.2891546322246896\n",
            "  (1986, 258)\t0.33880854345591144\n",
            "  (1986, 218)\t0.3258061947331857\n",
            "  (1986, 26)\t0.33880854345591144\n"
          ]
        }
      ]
    },
    {
      "cell_type": "markdown",
      "source": [
        "The data has change, and ready to modeling!"
      ],
      "metadata": {
        "id": "2XBm8xZOdcCH"
      }
    },
    {
      "cell_type": "markdown",
      "source": [
        "## Embedding Layer in Deep Learning with Tensorflow"
      ],
      "metadata": {
        "id": "5PUVpYBLdd2q"
      }
    },
    {
      "cell_type": "code",
      "source": [
        "# Want to know how many vocab and maximum words in a text\n",
        "total_vocab = len(Vectorize.vocabulary_.keys())\n",
        "max_sen_len = max([len(i.split(\" \")) for i in X_train])\n",
        "\n",
        "print(\"Length vocab:\",total_vocab)\n",
        "print(\"Length Maximum Text:\",max_sen_len,\"words\")"
      ],
      "metadata": {
        "colab": {
          "base_uri": "https://localhost:8080/"
        },
        "id": "WfLvI77YdZ1O",
        "outputId": "8ab16078-0330-4b94-d688-834aa08003de"
      },
      "execution_count": 214,
      "outputs": [
        {
          "output_type": "stream",
          "name": "stdout",
          "text": [
            "Length vocab: 2059\n",
            "Length Maximum Text: 33 words\n"
          ]
        }
      ]
    },
    {
      "cell_type": "markdown",
      "source": [
        "- Want to know size of total vocabulary that will be to input shape in model definition\n",
        "- Well there is 2559 vocabulary in dataset and theres 33  words in one text in the dataset."
      ],
      "metadata": {
        "id": "pnRzcGySdhYj"
      }
    },
    {
      "cell_type": "code",
      "source": [
        "# define vocab than convert to numeric\n",
        "text_vectorization = TextVectorization(max_tokens=total_vocab,\n",
        "                                       standardize=\"lower_and_strip_punctuation\",\n",
        "                                       split=\"whitespace\",\n",
        "                                       ngrams=None,\n",
        "                                       output_mode=\"int\",\n",
        "                                       output_sequence_length=max_sen_len,\n",
        "                                       input_shape=(1,) # if i want to use sequential API\n",
        "                                       )\n",
        "\n",
        "text_vectorization.adapt(X_train) # adapt looks like fit"
      ],
      "metadata": {
        "id": "qPfLd3zsdfCq"
      },
      "execution_count": 226,
      "outputs": []
    },
    {
      "cell_type": "code",
      "source": [
        "# let's check the result vectorization\n",
        "data_copy.text_processed[50]"
      ],
      "metadata": {
        "colab": {
          "base_uri": "https://localhost:8080/",
          "height": 35
        },
        "id": "ch2TwyPedqGg",
        "outputId": "c48f7b6d-f6c9-46d5-9edf-cbe25d842f5e"
      },
      "execution_count": 227,
      "outputs": [
        {
          "output_type": "execute_result",
          "data": {
            "text/plain": [
              "'ntah video sy bib bahar video ucapn s a w yg sy posting d group oposisi td inbox a xe x xa'"
            ],
            "application/vnd.google.colaboratory.intrinsic+json": {
              "type": "string"
            }
          },
          "metadata": {},
          "execution_count": 227
        }
      ]
    },
    {
      "cell_type": "code",
      "source": [
        "# after convert it\n",
        "text_vectorization([data_copy.text_processed[0]])"
      ],
      "metadata": {
        "colab": {
          "base_uri": "https://localhost:8080/"
        },
        "id": "Ehp-UwBpdrQ1",
        "outputId": "47b9aa42-2c04-4ab7-e6e6-8c6103cb6b98"
      },
      "execution_count": 228,
      "outputs": [
        {
          "output_type": "execute_result",
          "data": {
            "text/plain": [
              "<tf.Tensor: shape=(1, 33), dtype=int64, numpy=\n",
              "array([[  1,   1, 121,   1, 376,   1,  55,   1,   1,   1,   0,   0,   0,\n",
              "          0,   0,   0,   0,   0,   0,   0,   0,   0,   0,   0,   0,   0,\n",
              "          0,   0,   0,   0,   0,   0,   0]])>"
            ]
          },
          "metadata": {},
          "execution_count": 228
        }
      ]
    },
    {
      "cell_type": "code",
      "source": [
        "# Change the numerical to weight with embedding\n",
        "embedding = Embedding(input_dim=total_vocab,\n",
        "                      output_dim=256,\n",
        "                      embeddings_initializer=\"uniform\",\n",
        "                      input_length=max_sen_len\n",
        "                      )"
      ],
      "metadata": {
        "id": "jlspho18dsse"
      },
      "execution_count": 229,
      "outputs": []
    },
    {
      "cell_type": "code",
      "source": [
        "# see the result\n",
        "emb_res = embedding(text_vectorization([data_copy.text_processed[50]]))\n",
        "emb_res"
      ],
      "metadata": {
        "colab": {
          "base_uri": "https://localhost:8080/"
        },
        "id": "P9hPD1q6dt07",
        "outputId": "35f2d86c-aa55-425c-f9fd-70dc4e289041"
      },
      "execution_count": 230,
      "outputs": [
        {
          "output_type": "execute_result",
          "data": {
            "text/plain": [
              "<tf.Tensor: shape=(1, 33, 256), dtype=float32, numpy=\n",
              "array([[[-0.02614838,  0.02162692,  0.00152751, ..., -0.04737439,\n",
              "          0.01064372,  0.04658816],\n",
              "        [-0.01922429, -0.01815715, -0.00270333, ..., -0.00474864,\n",
              "         -0.00274583, -0.04233151],\n",
              "        [ 0.02565085, -0.04314666, -0.00330631, ..., -0.02277677,\n",
              "          0.00625986, -0.02758278],\n",
              "        ...,\n",
              "        [ 0.04200996, -0.02586603, -0.04366267, ...,  0.0448379 ,\n",
              "         -0.02886525, -0.00592061],\n",
              "        [ 0.04200996, -0.02586603, -0.04366267, ...,  0.0448379 ,\n",
              "         -0.02886525, -0.00592061],\n",
              "        [ 0.04200996, -0.02586603, -0.04366267, ...,  0.0448379 ,\n",
              "         -0.02886525, -0.00592061]]], dtype=float32)>"
            ]
          },
          "metadata": {},
          "execution_count": 230
        }
      ]
    },
    {
      "cell_type": "markdown",
      "source": [
        "Dataset has converted. Embedding looks like scaling in feature engineering. "
      ],
      "metadata": {
        "id": "Ed01dJz4dx7F"
      }
    },
    {
      "cell_type": "code",
      "source": [
        "# let's check weight word \"bulls\"\n",
        "emb_res[0][10]"
      ],
      "metadata": {
        "colab": {
          "base_uri": "https://localhost:8080/"
        },
        "id": "EyrPCny9dvAz",
        "outputId": "db3ccc06-dba3-4e2e-9c91-9d094874cbec"
      },
      "execution_count": 231,
      "outputs": [
        {
          "output_type": "execute_result",
          "data": {
            "text/plain": [
              "<tf.Tensor: shape=(256,), dtype=float32, numpy=\n",
              "array([ 0.03597661, -0.04737327, -0.04780925,  0.00415293, -0.04209354,\n",
              "       -0.00077691, -0.03086089,  0.01147295,  0.01924217, -0.0339277 ,\n",
              "        0.00344659,  0.01866751,  0.03358742,  0.00126201, -0.00272628,\n",
              "       -0.00646226,  0.00803546,  0.01251883, -0.01118617,  0.02378602,\n",
              "        0.00290531, -0.03645539, -0.01382512,  0.03536176,  0.0165734 ,\n",
              "        0.03204259,  0.0126009 , -0.03160715,  0.04501735,  0.03555175,\n",
              "        0.01057272, -0.01305938,  0.0267711 ,  0.02704198,  0.0359158 ,\n",
              "       -0.00887115, -0.03426617, -0.0481129 , -0.04687858, -0.04729348,\n",
              "       -0.01738391,  0.00413586,  0.04653564,  0.01086321, -0.02528409,\n",
              "       -0.04431261,  0.03245934,  0.04937401,  0.0194273 , -0.02678515,\n",
              "       -0.00085516, -0.02454798,  0.04318875,  0.03068325, -0.03880822,\n",
              "        0.04741536,  0.01233343,  0.03422585,  0.00323556, -0.0079351 ,\n",
              "       -0.04053035,  0.02300501,  0.03984829, -0.01853973,  0.04007003,\n",
              "       -0.01049349,  0.02477263,  0.02530941, -0.01495212,  0.01447699,\n",
              "       -0.01368558, -0.02935913,  0.02647091, -0.01628574,  0.03119881,\n",
              "       -0.00426868,  0.04296937,  0.04857187, -0.0015737 ,  0.00997832,\n",
              "        0.04237901, -0.03751162,  0.00740622, -0.0337597 , -0.02406307,\n",
              "        0.03476438, -0.00685187,  0.02626849,  0.01400839,  0.02877846,\n",
              "       -0.0178928 , -0.00066392,  0.04366393, -0.02272133,  0.03625816,\n",
              "        0.04868985, -0.01689315,  0.01624297, -0.04104565,  0.0262422 ,\n",
              "        0.0218946 , -0.01323558,  0.018962  ,  0.0365381 ,  0.02534449,\n",
              "       -0.03755682,  0.01395832, -0.03977799,  0.01098309,  0.01108902,\n",
              "        0.00744586, -0.00376534,  0.01651639, -0.03080091,  0.00831107,\n",
              "       -0.00354145, -0.00086275, -0.00935958, -0.02195193, -0.02975963,\n",
              "        0.010403  ,  0.01151847, -0.00429965,  0.01987952, -0.04653176,\n",
              "        0.0377127 ,  0.02088271, -0.01962341, -0.03017868, -0.02343746,\n",
              "        0.03926123,  0.02572739,  0.00250425, -0.02474855,  0.00965712,\n",
              "        0.00460368,  0.02683747,  0.00835963,  0.04480957, -0.02982986,\n",
              "       -0.01449658,  0.01644297,  0.04822424,  0.04731423,  0.00082426,\n",
              "        0.01554579,  0.01491723, -0.0294955 ,  0.00713598,  0.02106963,\n",
              "        0.00717539, -0.03172121, -0.02554629, -0.02490729,  0.0424955 ,\n",
              "        0.02935145,  0.00041471,  0.01158493, -0.02463933,  0.01433805,\n",
              "        0.00046265,  0.02290014, -0.00254074, -0.04180469, -0.00783912,\n",
              "       -0.03776336,  0.04876257,  0.03836148,  0.0199475 , -0.04800478,\n",
              "        0.02179654, -0.03745166, -0.03749225,  0.03163466,  0.0407801 ,\n",
              "        0.00875115,  0.00072109,  0.02782902, -0.0491738 ,  0.0323776 ,\n",
              "        0.02830045, -0.03843693,  0.00842202,  0.03058087,  0.00590284,\n",
              "        0.01741387,  0.00547477,  0.02520695, -0.02749846, -0.023875  ,\n",
              "        0.00711774,  0.00073425, -0.03743635,  0.04591366, -0.03667338,\n",
              "       -0.00463142,  0.0034912 , -0.01638967, -0.04377501, -0.00444628,\n",
              "        0.03599029,  0.02644343,  0.00871997, -0.02122331, -0.02045056,\n",
              "        0.03538061,  0.01161106,  0.0149934 , -0.0452405 , -0.03431914,\n",
              "       -0.02206792,  0.03032904, -0.04336597,  0.0252274 , -0.00930222,\n",
              "        0.04113099,  0.04443488, -0.02506968, -0.01690421,  0.01482585,\n",
              "        0.04539926,  0.01533241,  0.03865961, -0.02369413, -0.00704141,\n",
              "        0.01087182,  0.01846086,  0.01559382,  0.00097686, -0.0195317 ,\n",
              "       -0.0117203 ,  0.01712691, -0.00802481, -0.0458812 ,  0.03178874,\n",
              "        0.04645118, -0.02266195, -0.03965046,  0.04941139, -0.03760993,\n",
              "       -0.02749577, -0.01151159,  0.028862  ,  0.0247956 , -0.01410091,\n",
              "       -0.01897242, -0.03314447, -0.01240221, -0.03462977,  0.00230391,\n",
              "        0.00109049,  0.00704879, -0.03490051, -0.01436061, -0.04656534,\n",
              "       -0.02601093], dtype=float32)>"
            ]
          },
          "metadata": {},
          "execution_count": 231
        }
      ]
    },
    {
      "cell_type": "markdown",
      "source": [
        "well define the weight with embedding for each word in 256 dimensions."
      ],
      "metadata": {
        "id": "6w6iLnnKd6-T"
      }
    },
    {
      "cell_type": "markdown",
      "source": [
        "## Get Dummies\n",
        "\n",
        "Before we modeling, we will do dummy the target, this is looks like onehotencoder with manual coding. Labels will be a features after dummy according to its uniqueness, if a certain line is detected, the label will contain a value of 1"
      ],
      "metadata": {
        "id": "k6_EBdIFeF4y"
      }
    },
    {
      "cell_type": "code",
      "source": [
        "# convert label\n",
        "y_train_ohe = to_categorical(y_train)\n",
        "y_val_ohe = to_categorical(y_val)\n",
        "y_train_balanced_ohe = to_categorical(y_train_balanced)\n",
        "y_val_balanced_ohe = to_categorical(y_val_balanced)\n",
        "\n",
        "y_test_ohe = to_categorical(y_test)\n",
        "\n",
        "y_train_ohe"
      ],
      "metadata": {
        "colab": {
          "base_uri": "https://localhost:8080/"
        },
        "id": "jSumFsEJdzz1",
        "outputId": "b6293516-e2fe-47af-9dd5-34623cb4b414"
      },
      "execution_count": 233,
      "outputs": [
        {
          "output_type": "execute_result",
          "data": {
            "text/plain": [
              "array([[0., 1., 0.],\n",
              "       [0., 1., 0.],\n",
              "       [0., 0., 1.],\n",
              "       ...,\n",
              "       [0., 1., 0.],\n",
              "       [0., 0., 1.],\n",
              "       [0., 1., 0.]], dtype=float32)"
            ]
          },
          "metadata": {},
          "execution_count": 233
        }
      ]
    },
    {
      "cell_type": "markdown",
      "source": [
        "The result will be an array."
      ],
      "metadata": {
        "id": "FJPxGGXUeJmk"
      }
    },
    {
      "cell_type": "code",
      "source": [
        "# if we looks in dataframe will be like this\n",
        "pd.get_dummies(y_train)"
      ],
      "metadata": {
        "colab": {
          "base_uri": "https://localhost:8080/",
          "height": 423
        },
        "id": "2noJoJPYeHbS",
        "outputId": "6530179c-e0c7-4503-9bdc-8ad2f7f2d729"
      },
      "execution_count": 234,
      "outputs": [
        {
          "output_type": "execute_result",
          "data": {
            "text/plain": [
              "      0  1  2\n",
              "1567  0  1  0\n",
              "927   0  1  0\n",
              "3482  0  0  1\n",
              "1699  0  1  0\n",
              "1354  0  1  0\n",
              "...  .. .. ..\n",
              "2286  0  1  0\n",
              "1052  0  1  0\n",
              "2729  0  1  0\n",
              "3480  0  0  1\n",
              "147   0  1  0\n",
              "\n",
              "[1987 rows x 3 columns]"
            ],
            "text/html": [
              "\n",
              "  <div id=\"df-8fd60e12-a264-44a8-b1d3-ab3928c3de83\">\n",
              "    <div class=\"colab-df-container\">\n",
              "      <div>\n",
              "<style scoped>\n",
              "    .dataframe tbody tr th:only-of-type {\n",
              "        vertical-align: middle;\n",
              "    }\n",
              "\n",
              "    .dataframe tbody tr th {\n",
              "        vertical-align: top;\n",
              "    }\n",
              "\n",
              "    .dataframe thead th {\n",
              "        text-align: right;\n",
              "    }\n",
              "</style>\n",
              "<table border=\"1\" class=\"dataframe\">\n",
              "  <thead>\n",
              "    <tr style=\"text-align: right;\">\n",
              "      <th></th>\n",
              "      <th>0</th>\n",
              "      <th>1</th>\n",
              "      <th>2</th>\n",
              "    </tr>\n",
              "  </thead>\n",
              "  <tbody>\n",
              "    <tr>\n",
              "      <th>1567</th>\n",
              "      <td>0</td>\n",
              "      <td>1</td>\n",
              "      <td>0</td>\n",
              "    </tr>\n",
              "    <tr>\n",
              "      <th>927</th>\n",
              "      <td>0</td>\n",
              "      <td>1</td>\n",
              "      <td>0</td>\n",
              "    </tr>\n",
              "    <tr>\n",
              "      <th>3482</th>\n",
              "      <td>0</td>\n",
              "      <td>0</td>\n",
              "      <td>1</td>\n",
              "    </tr>\n",
              "    <tr>\n",
              "      <th>1699</th>\n",
              "      <td>0</td>\n",
              "      <td>1</td>\n",
              "      <td>0</td>\n",
              "    </tr>\n",
              "    <tr>\n",
              "      <th>1354</th>\n",
              "      <td>0</td>\n",
              "      <td>1</td>\n",
              "      <td>0</td>\n",
              "    </tr>\n",
              "    <tr>\n",
              "      <th>...</th>\n",
              "      <td>...</td>\n",
              "      <td>...</td>\n",
              "      <td>...</td>\n",
              "    </tr>\n",
              "    <tr>\n",
              "      <th>2286</th>\n",
              "      <td>0</td>\n",
              "      <td>1</td>\n",
              "      <td>0</td>\n",
              "    </tr>\n",
              "    <tr>\n",
              "      <th>1052</th>\n",
              "      <td>0</td>\n",
              "      <td>1</td>\n",
              "      <td>0</td>\n",
              "    </tr>\n",
              "    <tr>\n",
              "      <th>2729</th>\n",
              "      <td>0</td>\n",
              "      <td>1</td>\n",
              "      <td>0</td>\n",
              "    </tr>\n",
              "    <tr>\n",
              "      <th>3480</th>\n",
              "      <td>0</td>\n",
              "      <td>0</td>\n",
              "      <td>1</td>\n",
              "    </tr>\n",
              "    <tr>\n",
              "      <th>147</th>\n",
              "      <td>0</td>\n",
              "      <td>1</td>\n",
              "      <td>0</td>\n",
              "    </tr>\n",
              "  </tbody>\n",
              "</table>\n",
              "<p>1987 rows × 3 columns</p>\n",
              "</div>\n",
              "      <button class=\"colab-df-convert\" onclick=\"convertToInteractive('df-8fd60e12-a264-44a8-b1d3-ab3928c3de83')\"\n",
              "              title=\"Convert this dataframe to an interactive table.\"\n",
              "              style=\"display:none;\">\n",
              "        \n",
              "  <svg xmlns=\"http://www.w3.org/2000/svg\" height=\"24px\"viewBox=\"0 0 24 24\"\n",
              "       width=\"24px\">\n",
              "    <path d=\"M0 0h24v24H0V0z\" fill=\"none\"/>\n",
              "    <path d=\"M18.56 5.44l.94 2.06.94-2.06 2.06-.94-2.06-.94-.94-2.06-.94 2.06-2.06.94zm-11 1L8.5 8.5l.94-2.06 2.06-.94-2.06-.94L8.5 2.5l-.94 2.06-2.06.94zm10 10l.94 2.06.94-2.06 2.06-.94-2.06-.94-.94-2.06-.94 2.06-2.06.94z\"/><path d=\"M17.41 7.96l-1.37-1.37c-.4-.4-.92-.59-1.43-.59-.52 0-1.04.2-1.43.59L10.3 9.45l-7.72 7.72c-.78.78-.78 2.05 0 2.83L4 21.41c.39.39.9.59 1.41.59.51 0 1.02-.2 1.41-.59l7.78-7.78 2.81-2.81c.8-.78.8-2.07 0-2.86zM5.41 20L4 18.59l7.72-7.72 1.47 1.35L5.41 20z\"/>\n",
              "  </svg>\n",
              "      </button>\n",
              "      \n",
              "  <style>\n",
              "    .colab-df-container {\n",
              "      display:flex;\n",
              "      flex-wrap:wrap;\n",
              "      gap: 12px;\n",
              "    }\n",
              "\n",
              "    .colab-df-convert {\n",
              "      background-color: #E8F0FE;\n",
              "      border: none;\n",
              "      border-radius: 50%;\n",
              "      cursor: pointer;\n",
              "      display: none;\n",
              "      fill: #1967D2;\n",
              "      height: 32px;\n",
              "      padding: 0 0 0 0;\n",
              "      width: 32px;\n",
              "    }\n",
              "\n",
              "    .colab-df-convert:hover {\n",
              "      background-color: #E2EBFA;\n",
              "      box-shadow: 0px 1px 2px rgba(60, 64, 67, 0.3), 0px 1px 3px 1px rgba(60, 64, 67, 0.15);\n",
              "      fill: #174EA6;\n",
              "    }\n",
              "\n",
              "    [theme=dark] .colab-df-convert {\n",
              "      background-color: #3B4455;\n",
              "      fill: #D2E3FC;\n",
              "    }\n",
              "\n",
              "    [theme=dark] .colab-df-convert:hover {\n",
              "      background-color: #434B5C;\n",
              "      box-shadow: 0px 1px 3px 1px rgba(0, 0, 0, 0.15);\n",
              "      filter: drop-shadow(0px 1px 2px rgba(0, 0, 0, 0.3));\n",
              "      fill: #FFFFFF;\n",
              "    }\n",
              "  </style>\n",
              "\n",
              "      <script>\n",
              "        const buttonEl =\n",
              "          document.querySelector('#df-8fd60e12-a264-44a8-b1d3-ab3928c3de83 button.colab-df-convert');\n",
              "        buttonEl.style.display =\n",
              "          google.colab.kernel.accessAllowed ? 'block' : 'none';\n",
              "\n",
              "        async function convertToInteractive(key) {\n",
              "          const element = document.querySelector('#df-8fd60e12-a264-44a8-b1d3-ab3928c3de83');\n",
              "          const dataTable =\n",
              "            await google.colab.kernel.invokeFunction('convertToInteractive',\n",
              "                                                     [key], {});\n",
              "          if (!dataTable) return;\n",
              "\n",
              "          const docLinkHtml = 'Like what you see? Visit the ' +\n",
              "            '<a target=\"_blank\" href=https://colab.research.google.com/notebooks/data_table.ipynb>data table notebook</a>'\n",
              "            + ' to learn more about interactive tables.';\n",
              "          element.innerHTML = '';\n",
              "          dataTable['output_type'] = 'display_data';\n",
              "          await google.colab.output.renderOutput(dataTable, element);\n",
              "          const docLink = document.createElement('div');\n",
              "          docLink.innerHTML = docLinkHtml;\n",
              "          element.appendChild(docLink);\n",
              "        }\n",
              "      </script>\n",
              "    </div>\n",
              "  </div>\n",
              "  "
            ]
          },
          "metadata": {},
          "execution_count": 234
        }
      ]
    },
    {
      "cell_type": "markdown",
      "source": [
        "There are 3 uniques in column 'label' so will be define 3 features in dataframe."
      ],
      "metadata": {
        "id": "PaklrmMKeNYx"
      }
    },
    {
      "cell_type": "markdown",
      "source": [
        "# 6 - Model Training"
      ],
      "metadata": {
        "id": "niHvjNTvePAw"
      }
    },
    {
      "cell_type": "markdown",
      "source": [
        "## Model Gru"
      ],
      "metadata": {
        "id": "2fTazmbz3bQk"
      }
    },
    {
      "cell_type": "code",
      "source": [
        "model = Sequential()\n",
        "model.add(text_vectorization)\n",
        "model.add(embedding)\n",
        "model.add(GRU(32))\n",
        "model.add(Dense(3,activation='softmax'))\n",
        "\n",
        "model.compile(loss='categorical_crossentropy',optimizer='adam',metrics='accuracy')\n",
        "\n",
        "model_gru_hist_1 = model.fit(X_train_balanced,\n",
        "                         y_train_balanced_ohe,\n",
        "                         epochs=50,\n",
        "                         validation_data=(X_test, y_test_ohe))"
      ],
      "metadata": {
        "colab": {
          "base_uri": "https://localhost:8080/"
        },
        "id": "YlJHLRV8qIEn",
        "outputId": "8bef0d2b-8a3b-4c0e-b79b-4a1304c8d211"
      },
      "execution_count": 253,
      "outputs": [
        {
          "output_type": "stream",
          "name": "stdout",
          "text": [
            "Epoch 1/50\n",
            "130/130 [==============================] - 3s 8ms/step - loss: 0.8391 - accuracy: 0.5510 - val_loss: 0.8899 - val_accuracy: 0.4987\n",
            "Epoch 2/50\n",
            "130/130 [==============================] - 1s 5ms/step - loss: 0.1206 - accuracy: 0.9536 - val_loss: 0.9944 - val_accuracy: 0.7183\n",
            "Epoch 3/50\n",
            "130/130 [==============================] - 1s 5ms/step - loss: 0.0929 - accuracy: 0.9587 - val_loss: 1.0987 - val_accuracy: 0.7102\n",
            "Epoch 4/50\n",
            "130/130 [==============================] - 1s 5ms/step - loss: 0.0861 - accuracy: 0.9621 - val_loss: 1.1273 - val_accuracy: 0.7129\n",
            "Epoch 5/50\n",
            "130/130 [==============================] - 1s 5ms/step - loss: 0.0898 - accuracy: 0.9589 - val_loss: 1.1432 - val_accuracy: 0.7116\n",
            "Epoch 6/50\n",
            "130/130 [==============================] - 1s 5ms/step - loss: 0.0835 - accuracy: 0.9647 - val_loss: 1.2271 - val_accuracy: 0.7062\n",
            "Epoch 7/50\n",
            "130/130 [==============================] - 1s 5ms/step - loss: 0.0854 - accuracy: 0.9601 - val_loss: 1.2920 - val_accuracy: 0.6941\n",
            "Epoch 8/50\n",
            "130/130 [==============================] - 1s 5ms/step - loss: 0.0830 - accuracy: 0.9601 - val_loss: 1.2495 - val_accuracy: 0.7049\n",
            "Epoch 9/50\n",
            "130/130 [==============================] - 1s 5ms/step - loss: 0.0789 - accuracy: 0.9628 - val_loss: 1.2794 - val_accuracy: 0.7049\n",
            "Epoch 10/50\n",
            "130/130 [==============================] - 1s 5ms/step - loss: 0.0789 - accuracy: 0.9614 - val_loss: 1.2859 - val_accuracy: 0.7062\n",
            "Epoch 11/50\n",
            "130/130 [==============================] - 1s 5ms/step - loss: 0.0786 - accuracy: 0.9614 - val_loss: 1.2966 - val_accuracy: 0.6968\n",
            "Epoch 12/50\n",
            "130/130 [==============================] - 1s 5ms/step - loss: 0.0778 - accuracy: 0.9628 - val_loss: 1.3311 - val_accuracy: 0.5216\n",
            "Epoch 13/50\n",
            "130/130 [==============================] - 1s 5ms/step - loss: 0.0772 - accuracy: 0.9614 - val_loss: 1.3317 - val_accuracy: 0.7022\n",
            "Epoch 14/50\n",
            "130/130 [==============================] - 1s 5ms/step - loss: 0.0751 - accuracy: 0.9635 - val_loss: 1.3218 - val_accuracy: 0.7049\n",
            "Epoch 15/50\n",
            "130/130 [==============================] - 1s 5ms/step - loss: 0.0749 - accuracy: 0.9623 - val_loss: 1.3514 - val_accuracy: 0.7035\n",
            "Epoch 16/50\n",
            "130/130 [==============================] - 1s 5ms/step - loss: 0.0755 - accuracy: 0.9635 - val_loss: 1.3561 - val_accuracy: 0.7129\n",
            "Epoch 17/50\n",
            "130/130 [==============================] - 1s 5ms/step - loss: 0.0761 - accuracy: 0.9618 - val_loss: 1.3501 - val_accuracy: 0.7049\n",
            "Epoch 18/50\n",
            "130/130 [==============================] - 1s 5ms/step - loss: 0.0743 - accuracy: 0.9643 - val_loss: 1.3634 - val_accuracy: 0.7035\n",
            "Epoch 19/50\n",
            "130/130 [==============================] - 1s 5ms/step - loss: 0.0743 - accuracy: 0.9626 - val_loss: 1.4108 - val_accuracy: 0.5229\n",
            "Epoch 20/50\n",
            "130/130 [==============================] - 1s 5ms/step - loss: 0.0754 - accuracy: 0.9626 - val_loss: 1.3729 - val_accuracy: 0.7008\n",
            "Epoch 21/50\n",
            "130/130 [==============================] - 1s 5ms/step - loss: 0.0737 - accuracy: 0.9635 - val_loss: 1.3997 - val_accuracy: 0.7062\n",
            "Epoch 22/50\n",
            "130/130 [==============================] - 1s 5ms/step - loss: 0.0739 - accuracy: 0.9638 - val_loss: 1.4020 - val_accuracy: 0.7049\n",
            "Epoch 23/50\n",
            "130/130 [==============================] - 1s 5ms/step - loss: 0.0750 - accuracy: 0.9611 - val_loss: 1.3766 - val_accuracy: 0.6981\n",
            "Epoch 24/50\n",
            "130/130 [==============================] - 1s 5ms/step - loss: 0.0737 - accuracy: 0.9630 - val_loss: 1.3888 - val_accuracy: 0.7075\n",
            "Epoch 25/50\n",
            "130/130 [==============================] - 1s 5ms/step - loss: 0.0732 - accuracy: 0.9633 - val_loss: 1.4132 - val_accuracy: 0.7075\n",
            "Epoch 26/50\n",
            "130/130 [==============================] - 1s 5ms/step - loss: 0.0720 - accuracy: 0.9635 - val_loss: 1.4475 - val_accuracy: 0.7022\n",
            "Epoch 27/50\n",
            "130/130 [==============================] - 1s 5ms/step - loss: 0.0732 - accuracy: 0.9633 - val_loss: 1.4257 - val_accuracy: 0.7089\n",
            "Epoch 28/50\n",
            "130/130 [==============================] - 1s 5ms/step - loss: 0.0712 - accuracy: 0.9650 - val_loss: 1.4400 - val_accuracy: 0.7049\n",
            "Epoch 29/50\n",
            "130/130 [==============================] - 1s 5ms/step - loss: 0.0714 - accuracy: 0.9628 - val_loss: 1.4670 - val_accuracy: 0.7035\n",
            "Epoch 30/50\n",
            "130/130 [==============================] - 1s 5ms/step - loss: 0.0731 - accuracy: 0.9614 - val_loss: 1.4398 - val_accuracy: 0.7089\n",
            "Epoch 31/50\n",
            "130/130 [==============================] - 1s 5ms/step - loss: 0.0725 - accuracy: 0.9645 - val_loss: 1.4762 - val_accuracy: 0.5296\n",
            "Epoch 32/50\n",
            "130/130 [==============================] - 1s 5ms/step - loss: 0.0722 - accuracy: 0.9635 - val_loss: 1.4486 - val_accuracy: 0.7089\n",
            "Epoch 33/50\n",
            "130/130 [==============================] - 1s 5ms/step - loss: 0.0716 - accuracy: 0.9618 - val_loss: 1.5020 - val_accuracy: 0.7089\n",
            "Epoch 34/50\n",
            "130/130 [==============================] - 1s 5ms/step - loss: 0.0719 - accuracy: 0.9640 - val_loss: 1.4557 - val_accuracy: 0.7116\n",
            "Epoch 35/50\n",
            "130/130 [==============================] - 1s 5ms/step - loss: 0.0719 - accuracy: 0.9635 - val_loss: 1.4638 - val_accuracy: 0.7102\n",
            "Epoch 36/50\n",
            "130/130 [==============================] - 1s 5ms/step - loss: 0.0718 - accuracy: 0.9652 - val_loss: 1.4789 - val_accuracy: 0.7075\n",
            "Epoch 37/50\n",
            "130/130 [==============================] - 1s 5ms/step - loss: 0.0717 - accuracy: 0.9643 - val_loss: 1.4474 - val_accuracy: 0.7210\n",
            "Epoch 38/50\n",
            "130/130 [==============================] - 1s 5ms/step - loss: 0.0720 - accuracy: 0.9628 - val_loss: 1.4647 - val_accuracy: 0.7143\n",
            "Epoch 39/50\n",
            "130/130 [==============================] - 1s 5ms/step - loss: 0.0720 - accuracy: 0.9635 - val_loss: 1.4669 - val_accuracy: 0.7022\n",
            "Epoch 40/50\n",
            "130/130 [==============================] - 1s 5ms/step - loss: 0.0796 - accuracy: 0.9623 - val_loss: 1.4655 - val_accuracy: 0.7062\n",
            "Epoch 41/50\n",
            "130/130 [==============================] - 1s 5ms/step - loss: 0.0723 - accuracy: 0.9643 - val_loss: 1.4350 - val_accuracy: 0.7022\n",
            "Epoch 42/50\n",
            "130/130 [==============================] - 1s 5ms/step - loss: 0.0718 - accuracy: 0.9652 - val_loss: 1.4410 - val_accuracy: 0.7049\n",
            "Epoch 43/50\n",
            "130/130 [==============================] - 1s 5ms/step - loss: 0.0717 - accuracy: 0.9623 - val_loss: 1.4316 - val_accuracy: 0.7035\n",
            "Epoch 44/50\n",
            "130/130 [==============================] - 1s 5ms/step - loss: 0.0715 - accuracy: 0.9650 - val_loss: 1.4775 - val_accuracy: 0.7143\n",
            "Epoch 45/50\n",
            "130/130 [==============================] - 1s 5ms/step - loss: 0.0718 - accuracy: 0.9647 - val_loss: 1.4519 - val_accuracy: 0.7143\n",
            "Epoch 46/50\n",
            "130/130 [==============================] - 1s 5ms/step - loss: 0.0714 - accuracy: 0.9645 - val_loss: 1.4619 - val_accuracy: 0.7129\n",
            "Epoch 47/50\n",
            "130/130 [==============================] - 1s 5ms/step - loss: 0.0712 - accuracy: 0.9650 - val_loss: 1.4735 - val_accuracy: 0.7143\n",
            "Epoch 48/50\n",
            "130/130 [==============================] - 1s 5ms/step - loss: 0.0714 - accuracy: 0.9650 - val_loss: 1.4592 - val_accuracy: 0.7116\n",
            "Epoch 49/50\n",
            "130/130 [==============================] - 1s 5ms/step - loss: 0.0711 - accuracy: 0.9655 - val_loss: 1.4603 - val_accuracy: 0.7116\n",
            "Epoch 50/50\n",
            "130/130 [==============================] - 1s 5ms/step - loss: 0.0715 - accuracy: 0.9647 - val_loss: 1.4653 - val_accuracy: 0.7129\n"
          ]
        }
      ]
    },
    {
      "cell_type": "code",
      "source": [
        "pd.DataFrame(model_gru_hist_1.history).plot(figsize=(8, 5))\n",
        "plt.grid(True)\n",
        "plt.gca().set_ylim(0, 10)\n",
        "plt.title(\"Learning Curves GRU Improvement\")\n",
        "plt.show()"
      ],
      "metadata": {
        "colab": {
          "base_uri": "https://localhost:8080/",
          "height": 336
        },
        "outputId": "17c0161a-54a2-4382-b01f-bf6f7909f14e",
        "id": "e3I6CHIG0hoM"
      },
      "execution_count": 255,
      "outputs": [
        {
          "output_type": "display_data",
          "data": {
            "text/plain": [
              "<Figure size 576x360 with 1 Axes>"
            ],
            "image/png": "[encoded data removed]"
          },
          "metadata": {
            "needs_background": "light"
          }
        }
      ]
    },
    {
      "cell_type": "code",
      "source": [
        "model.evaluate(X_test, y_test_ohe, batch_size=64)"
      ],
      "metadata": {
        "colab": {
          "base_uri": "https://localhost:8080/"
        },
        "outputId": "d1d4f16f-d1ff-426c-f14c-a5a8fe58fd61",
        "id": "VXrTrqGm0hoN"
      },
      "execution_count": 256,
      "outputs": [
        {
          "output_type": "stream",
          "name": "stdout",
          "text": [
            "12/12 [==============================] - 0s 3ms/step - loss: 1.4653 - accuracy: 0.7129\n"
          ]
        },
        {
          "output_type": "execute_result",
          "data": {
            "text/plain": [
              "[1.4652951955795288, 0.7129380106925964]"
            ]
          },
          "metadata": {},
          "execution_count": 256
        }
      ]
    },
    {
      "cell_type": "code",
      "source": [
        "yp_seq_gru_imp = model.predict(X_test)\n",
        "yp_seq_gru_imp[:20]"
      ],
      "metadata": {
        "colab": {
          "base_uri": "https://localhost:8080/"
        },
        "outputId": "bc9b9ae9-c8df-4956-b4d1-972557c556dc",
        "id": "xCir-Khx0hoO"
      },
      "execution_count": 257,
      "outputs": [
        {
          "output_type": "execute_result",
          "data": {
            "text/plain": [
              "array([[2.71331601e-06, 9.99881625e-01, 1.15648312e-04],\n",
              "       [1.47649052e-05, 1.93852131e-04, 9.99791443e-01],\n",
              "       [1.93822663e-04, 6.32673383e-01, 3.67132813e-01],\n",
              "       [3.08609393e-04, 4.07823771e-01, 5.91867626e-01],\n",
              "       [2.61706691e-06, 9.99887586e-01, 1.09747474e-04],\n",
              "       [1.93822663e-04, 6.32673383e-01, 3.67132813e-01],\n",
              "       [9.78439348e-05, 1.85629586e-03, 9.98045802e-01],\n",
              "       [1.93822663e-04, 6.32673383e-01, 3.67132813e-01],\n",
              "       [3.10445125e-06, 9.99855757e-01, 1.41109325e-04],\n",
              "       [2.71094177e-06, 9.99882698e-01, 1.14605842e-04],\n",
              "       [1.93822663e-04, 6.32673383e-01, 3.67132813e-01],\n",
              "       [2.61614150e-06, 9.99887705e-01, 1.09648834e-04],\n",
              "       [1.93822663e-04, 6.32673383e-01, 3.67132813e-01],\n",
              "       [1.19048727e-05, 1.66214231e-04, 9.99821961e-01],\n",
              "       [1.93822663e-04, 6.32673383e-01, 3.67132813e-01],\n",
              "       [7.03522892e-05, 5.89352906e-01, 4.10576791e-01],\n",
              "       [1.93822663e-04, 6.32673383e-01, 3.67132813e-01],\n",
              "       [5.43299975e-05, 1.64701289e-03, 9.98298705e-01],\n",
              "       [8.34556049e-05, 1.81355417e-01, 8.18561137e-01],\n",
              "       [1.26719084e-02, 2.12857872e-01, 7.74470210e-01]], dtype=float32)"
            ]
          },
          "metadata": {},
          "execution_count": 257
        }
      ]
    },
    {
      "cell_type": "code",
      "source": [
        "# Test is the data right after splitting into train, test and val (shuffle was false in dataset so the order will match)\n",
        "# Classification report\n",
        "res_argmax_gru_imp = yp_seq_gru_imp.argmax(axis=1)\n",
        "print('Classification Report (Model Sequential Improvement LSTM)')\n",
        "print(classification_report(y_test, res_argmax_gru_imp, target_names=[\"Neutral\", \"Negative\", \"Positive\"]))"
      ],
      "metadata": {
        "colab": {
          "base_uri": "https://localhost:8080/"
        },
        "outputId": "941e584d-bb0a-49a9-b4f0-60922143814a",
        "id": "J6iQbNNo0hoO"
      },
      "execution_count": 258,
      "outputs": [
        {
          "output_type": "stream",
          "name": "stdout",
          "text": [
            "Classification Report (Model Sequential Improvement LSTM)\n",
            "              precision    recall  f1-score   support\n",
            "\n",
            "     Neutral       0.67      0.48      0.56        29\n",
            "    Negative       0.76      0.85      0.80       500\n",
            "    Positive       0.55      0.42      0.47       213\n",
            "\n",
            "    accuracy                           0.71       742\n",
            "   macro avg       0.66      0.58      0.61       742\n",
            "weighted avg       0.70      0.71      0.70       742\n",
            "\n"
          ]
        }
      ]
    },
    {
      "cell_type": "code",
      "source": [
        "cm = confusion_matrix(y_test, res_argmax_gru_imp)\n",
        "disp = ConfusionMatrixDisplay(confusion_matrix=cm)\n",
        "\n",
        "disp.plot()\n",
        "plt.title(\"GRU with Improvement\")\n",
        "plt.show()"
      ],
      "metadata": {
        "colab": {
          "base_uri": "https://localhost:8080/",
          "height": 295
        },
        "outputId": "16f859bc-0f60-42e2-cd92-d73274ed2ee4",
        "id": "aNBPiGDw0hoP"
      },
      "execution_count": 259,
      "outputs": [
        {
          "output_type": "display_data",
          "data": {
            "text/plain": [
              "<Figure size 432x288 with 2 Axes>"
            ],
            "image/png": "[encoded data removed]"
          },
          "metadata": {
            "needs_background": "light"
          }
        }
      ]
    },
    {
      "cell_type": "markdown",
      "source": [
        "## Model LSTM x Conv1D x DNN"
      ],
      "metadata": {
        "id": "-YgwNCQ23eU-"
      }
    },
    {
      "cell_type": "code",
      "source": [
        "model_lstm_1_imp = Sequential()\n",
        "model_lstm_1_imp.add(text_vectorization)\n",
        "model_lstm_1_imp.add(embedding)\n",
        "model_lstm_1_imp.add(Conv1D(64, 5, activation='relu'))\n",
        "model_lstm_1_imp.add(MaxPooling1D(pool_size=4))\n",
        "model_lstm_1_imp.add(LSTM(64))\n",
        "model_lstm_1_imp.add(Dense(256,activation='relu', kernel_regularizer=tf.keras.regularizers.L2(),\n",
        "                      kernel_initializer=keras.initializers.RandomNormal(stddev=0.5)))\n",
        "# model_lstm_1_imp.add(BatchNormalization())\n",
        "# model_lstm_1_imp.add(Dropout(0.5))\n",
        "# model_lstm_1_imp.add(Dense(128,activation='relu', kernel_regularizer=tf.keras.regularizers.L2(),\n",
        "#                       kernel_initializer=keras.initializers.RandomNormal(stddev=0.5)))\n",
        "# model_lstm_1_imp.add(BatchNormalization())\n",
        "# model_lstm_1_imp.add(Dropout(0.5))\n",
        "model_lstm_1_imp.add(Dense(3,activation='softmax'))\n",
        "\n",
        "model_lstm_1_imp.compile(loss=keras.losses.categorical_crossentropy,\n",
        "                    optimizer=tf.keras.optimizers.Adam(learning_rate=0.0001),\n",
        "                    metrics='accuracy')"
      ],
      "metadata": {
        "id": "f7bFQyAJfx4N"
      },
      "execution_count": 244,
      "outputs": []
    },
    {
      "cell_type": "code",
      "source": [
        "%%time\n",
        "model_lstm_hist_1_imp = model_lstm_1_imp.fit(X_train_balanced,\n",
        "                         y_train_balanced_ohe, \n",
        "                         batch_size=64,\n",
        "                         epochs=200,\n",
        "                         shuffle=True,\n",
        "                         validation_data=(X_val_balanced, y_val_balanced_ohe))"
      ],
      "metadata": {
        "colab": {
          "base_uri": "https://localhost:8080/"
        },
        "id": "a53eVHpCiKIp",
        "outputId": "c444d9ac-fba2-4c4e-bf44-528e9e5bbdaf"
      },
      "execution_count": 245,
      "outputs": [
        {
          "output_type": "stream",
          "name": "stdout",
          "text": [
            "Epoch 1/200\n",
            "65/65 [==============================] - 3s 15ms/step - loss: 41.8727 - accuracy: 0.5901 - val_loss: 41.4873 - val_accuracy: 0.5353\n",
            "Epoch 2/200\n",
            "65/65 [==============================] - 0s 6ms/step - loss: 40.7275 - accuracy: 0.8229 - val_loss: 40.6554 - val_accuracy: 0.5729\n",
            "Epoch 3/200\n",
            "65/65 [==============================] - 0s 6ms/step - loss: 39.6062 - accuracy: 0.9292 - val_loss: 40.2794 - val_accuracy: 0.5440\n",
            "Epoch 4/200\n",
            "65/65 [==============================] - 0s 7ms/step - loss: 38.6643 - accuracy: 0.9534 - val_loss: 39.8750 - val_accuracy: 0.5415\n",
            "Epoch 5/200\n",
            "65/65 [==============================] - 0s 6ms/step - loss: 37.8733 - accuracy: 0.9558 - val_loss: 39.4819 - val_accuracy: 0.5362\n",
            "Epoch 6/200\n",
            "65/65 [==============================] - 0s 6ms/step - loss: 37.1011 - accuracy: 0.9599 - val_loss: 38.7582 - val_accuracy: 0.5372\n",
            "Epoch 7/200\n",
            "65/65 [==============================] - 0s 6ms/step - loss: 36.3436 - accuracy: 0.9587 - val_loss: 37.8318 - val_accuracy: 0.5425\n",
            "Epoch 8/200\n",
            "65/65 [==============================] - 0s 6ms/step - loss: 35.6101 - accuracy: 0.9609 - val_loss: 37.2214 - val_accuracy: 0.5459\n",
            "Epoch 9/200\n",
            "65/65 [==============================] - 0s 6ms/step - loss: 34.8895 - accuracy: 0.9609 - val_loss: 36.7845 - val_accuracy: 0.5420\n",
            "Epoch 10/200\n",
            "65/65 [==============================] - 0s 6ms/step - loss: 34.1866 - accuracy: 0.9606 - val_loss: 36.0591 - val_accuracy: 0.5411\n",
            "Epoch 11/200\n",
            "65/65 [==============================] - 0s 6ms/step - loss: 33.4952 - accuracy: 0.9614 - val_loss: 35.3984 - val_accuracy: 0.5169\n",
            "Epoch 12/200\n",
            "65/65 [==============================] - 0s 6ms/step - loss: 32.8219 - accuracy: 0.9616 - val_loss: 34.7738 - val_accuracy: 0.5473\n",
            "Epoch 13/200\n",
            "65/65 [==============================] - 0s 6ms/step - loss: 32.1610 - accuracy: 0.9626 - val_loss: 34.1800 - val_accuracy: 0.5396\n",
            "Epoch 14/200\n",
            "65/65 [==============================] - 0s 6ms/step - loss: 31.5137 - accuracy: 0.9611 - val_loss: 33.5772 - val_accuracy: 0.5430\n",
            "Epoch 15/200\n",
            "65/65 [==============================] - 0s 6ms/step - loss: 30.8785 - accuracy: 0.9606 - val_loss: 33.1331 - val_accuracy: 0.5396\n",
            "Epoch 16/200\n",
            "65/65 [==============================] - 0s 6ms/step - loss: 30.2574 - accuracy: 0.9621 - val_loss: 32.7189 - val_accuracy: 0.5213\n",
            "Epoch 17/200\n",
            "65/65 [==============================] - 0s 6ms/step - loss: 29.6499 - accuracy: 0.9606 - val_loss: 31.9315 - val_accuracy: 0.5290\n",
            "Epoch 18/200\n",
            "65/65 [==============================] - 0s 6ms/step - loss: 29.0501 - accuracy: 0.9599 - val_loss: 31.2408 - val_accuracy: 0.5435\n",
            "Epoch 19/200\n",
            "65/65 [==============================] - 0s 6ms/step - loss: 28.4637 - accuracy: 0.9614 - val_loss: 30.6539 - val_accuracy: 0.5193\n",
            "Epoch 20/200\n",
            "65/65 [==============================] - 0s 6ms/step - loss: 27.8926 - accuracy: 0.9587 - val_loss: 30.0036 - val_accuracy: 0.5459\n",
            "Epoch 21/200\n",
            "65/65 [==============================] - 0s 6ms/step - loss: 27.3255 - accuracy: 0.9628 - val_loss: 29.6994 - val_accuracy: 0.5415\n",
            "Epoch 22/200\n",
            "65/65 [==============================] - 0s 6ms/step - loss: 26.7740 - accuracy: 0.9628 - val_loss: 29.2098 - val_accuracy: 0.5435\n",
            "Epoch 23/200\n",
            "65/65 [==============================] - 0s 6ms/step - loss: 26.2327 - accuracy: 0.9628 - val_loss: 28.3712 - val_accuracy: 0.5097\n",
            "Epoch 24/200\n",
            "65/65 [==============================] - 0s 6ms/step - loss: 25.7020 - accuracy: 0.9633 - val_loss: 28.0874 - val_accuracy: 0.5473\n",
            "Epoch 25/200\n",
            "65/65 [==============================] - 0s 6ms/step - loss: 25.1767 - accuracy: 0.9621 - val_loss: 27.5160 - val_accuracy: 0.5454\n",
            "Epoch 26/200\n",
            "65/65 [==============================] - 0s 6ms/step - loss: 24.6641 - accuracy: 0.9664 - val_loss: 27.1913 - val_accuracy: 0.5469\n",
            "Epoch 27/200\n",
            "65/65 [==============================] - 0s 6ms/step - loss: 24.1644 - accuracy: 0.9633 - val_loss: 26.6882 - val_accuracy: 0.5440\n",
            "Epoch 28/200\n",
            "65/65 [==============================] - 0s 6ms/step - loss: 23.6688 - accuracy: 0.9652 - val_loss: 26.0550 - val_accuracy: 0.5444\n",
            "Epoch 29/200\n",
            "65/65 [==============================] - 0s 6ms/step - loss: 23.1854 - accuracy: 0.9659 - val_loss: 25.7476 - val_accuracy: 0.5469\n",
            "Epoch 30/200\n",
            "65/65 [==============================] - 0s 6ms/step - loss: 22.7152 - accuracy: 0.9592 - val_loss: 25.3575 - val_accuracy: 0.5372\n",
            "Epoch 31/200\n",
            "65/65 [==============================] - 0s 6ms/step - loss: 22.2477 - accuracy: 0.9633 - val_loss: 24.8170 - val_accuracy: 0.5184\n",
            "Epoch 32/200\n",
            "65/65 [==============================] - 0s 6ms/step - loss: 21.7912 - accuracy: 0.9628 - val_loss: 24.5619 - val_accuracy: 0.5343\n",
            "Epoch 33/200\n",
            "65/65 [==============================] - 0s 6ms/step - loss: 21.3422 - accuracy: 0.9611 - val_loss: 24.0649 - val_accuracy: 0.5444\n",
            "Epoch 34/200\n",
            "65/65 [==============================] - 0s 6ms/step - loss: 20.9023 - accuracy: 0.9618 - val_loss: 23.5970 - val_accuracy: 0.5372\n",
            "Epoch 35/200\n",
            "65/65 [==============================] - 0s 6ms/step - loss: 20.4708 - accuracy: 0.9626 - val_loss: 23.1081 - val_accuracy: 0.5382\n",
            "Epoch 36/200\n",
            "65/65 [==============================] - 0s 6ms/step - loss: 20.0469 - accuracy: 0.9618 - val_loss: 22.6954 - val_accuracy: 0.5449\n",
            "Epoch 37/200\n",
            "65/65 [==============================] - 0s 6ms/step - loss: 19.6323 - accuracy: 0.9635 - val_loss: 22.3814 - val_accuracy: 0.5275\n",
            "Epoch 38/200\n",
            "65/65 [==============================] - 0s 6ms/step - loss: 19.2228 - accuracy: 0.9618 - val_loss: 22.0555 - val_accuracy: 0.5377\n",
            "Epoch 39/200\n",
            "65/65 [==============================] - 0s 6ms/step - loss: 18.8219 - accuracy: 0.9626 - val_loss: 21.3533 - val_accuracy: 0.5459\n",
            "Epoch 40/200\n",
            "65/65 [==============================] - 0s 6ms/step - loss: 18.4297 - accuracy: 0.9630 - val_loss: 21.3161 - val_accuracy: 0.5425\n",
            "Epoch 41/200\n",
            "65/65 [==============================] - 0s 6ms/step - loss: 18.0430 - accuracy: 0.9628 - val_loss: 20.7980 - val_accuracy: 0.5464\n",
            "Epoch 42/200\n",
            "65/65 [==============================] - 0s 6ms/step - loss: 17.6635 - accuracy: 0.9647 - val_loss: 20.4815 - val_accuracy: 0.5391\n",
            "Epoch 43/200\n",
            "65/65 [==============================] - 0s 6ms/step - loss: 17.2928 - accuracy: 0.9643 - val_loss: 19.9766 - val_accuracy: 0.5454\n",
            "Epoch 44/200\n",
            "65/65 [==============================] - 0s 6ms/step - loss: 16.9265 - accuracy: 0.9638 - val_loss: 19.7989 - val_accuracy: 0.5469\n",
            "Epoch 45/200\n",
            "65/65 [==============================] - 0s 6ms/step - loss: 16.5701 - accuracy: 0.9614 - val_loss: 19.4843 - val_accuracy: 0.5362\n",
            "Epoch 46/200\n",
            "65/65 [==============================] - 0s 6ms/step - loss: 16.2181 - accuracy: 0.9647 - val_loss: 18.9624 - val_accuracy: 0.5169\n",
            "Epoch 47/200\n",
            "65/65 [==============================] - 0s 6ms/step - loss: 15.8721 - accuracy: 0.9633 - val_loss: 18.8154 - val_accuracy: 0.5391\n",
            "Epoch 48/200\n",
            "65/65 [==============================] - 0s 6ms/step - loss: 15.5344 - accuracy: 0.9643 - val_loss: 18.3221 - val_accuracy: 0.5469\n",
            "Epoch 49/200\n",
            "65/65 [==============================] - 0s 6ms/step - loss: 15.2025 - accuracy: 0.9611 - val_loss: 18.1290 - val_accuracy: 0.5406\n",
            "Epoch 50/200\n",
            "65/65 [==============================] - 0s 6ms/step - loss: 14.8764 - accuracy: 0.9621 - val_loss: 17.6725 - val_accuracy: 0.5488\n",
            "Epoch 51/200\n",
            "65/65 [==============================] - 0s 6ms/step - loss: 14.5557 - accuracy: 0.9650 - val_loss: 17.5569 - val_accuracy: 0.5382\n",
            "Epoch 52/200\n",
            "65/65 [==============================] - 0s 6ms/step - loss: 14.2422 - accuracy: 0.9640 - val_loss: 17.1021 - val_accuracy: 0.5483\n",
            "Epoch 53/200\n",
            "65/65 [==============================] - 0s 6ms/step - loss: 13.9339 - accuracy: 0.9633 - val_loss: 16.8747 - val_accuracy: 0.5449\n",
            "Epoch 54/200\n",
            "65/65 [==============================] - 0s 6ms/step - loss: 13.6304 - accuracy: 0.9643 - val_loss: 16.4956 - val_accuracy: 0.5430\n",
            "Epoch 55/200\n",
            "65/65 [==============================] - 0s 6ms/step - loss: 13.3337 - accuracy: 0.9643 - val_loss: 16.2200 - val_accuracy: 0.5444\n",
            "Epoch 56/200\n",
            "65/65 [==============================] - 0s 7ms/step - loss: 13.0424 - accuracy: 0.9640 - val_loss: 16.0981 - val_accuracy: 0.5333\n",
            "Epoch 57/200\n",
            "65/65 [==============================] - 0s 6ms/step - loss: 12.7572 - accuracy: 0.9635 - val_loss: 15.7561 - val_accuracy: 0.5449\n",
            "Epoch 58/200\n",
            "65/65 [==============================] - 0s 6ms/step - loss: 12.4775 - accuracy: 0.9638 - val_loss: 15.4769 - val_accuracy: 0.5469\n",
            "Epoch 59/200\n",
            "65/65 [==============================] - 0s 6ms/step - loss: 12.2026 - accuracy: 0.9621 - val_loss: 15.2441 - val_accuracy: 0.5382\n",
            "Epoch 60/200\n",
            "65/65 [==============================] - 0s 6ms/step - loss: 11.9324 - accuracy: 0.9655 - val_loss: 14.6748 - val_accuracy: 0.5464\n",
            "Epoch 61/200\n",
            "65/65 [==============================] - 0s 6ms/step - loss: 11.6680 - accuracy: 0.9635 - val_loss: 14.4822 - val_accuracy: 0.5464\n",
            "Epoch 62/200\n",
            "65/65 [==============================] - 0s 6ms/step - loss: 11.4086 - accuracy: 0.9645 - val_loss: 14.4237 - val_accuracy: 0.5464\n",
            "Epoch 63/200\n",
            "65/65 [==============================] - 0s 6ms/step - loss: 11.1553 - accuracy: 0.9652 - val_loss: 14.2639 - val_accuracy: 0.5367\n",
            "Epoch 64/200\n",
            "65/65 [==============================] - 0s 6ms/step - loss: 10.9050 - accuracy: 0.9616 - val_loss: 13.8975 - val_accuracy: 0.5415\n",
            "Epoch 65/200\n",
            "65/65 [==============================] - 0s 6ms/step - loss: 10.6610 - accuracy: 0.9650 - val_loss: 13.5716 - val_accuracy: 0.5449\n",
            "Epoch 66/200\n",
            "65/65 [==============================] - 0s 6ms/step - loss: 10.4188 - accuracy: 0.9638 - val_loss: 13.6389 - val_accuracy: 0.5285\n",
            "Epoch 67/200\n",
            "65/65 [==============================] - 0s 6ms/step - loss: 10.1838 - accuracy: 0.9645 - val_loss: 13.0955 - val_accuracy: 0.5449\n",
            "Epoch 68/200\n",
            "65/65 [==============================] - 0s 6ms/step - loss: 9.9529 - accuracy: 0.9645 - val_loss: 13.0054 - val_accuracy: 0.5406\n",
            "Epoch 69/200\n",
            "65/65 [==============================] - 0s 6ms/step - loss: 9.7266 - accuracy: 0.9647 - val_loss: 12.7539 - val_accuracy: 0.5473\n",
            "Epoch 70/200\n",
            "65/65 [==============================] - 0s 6ms/step - loss: 9.5056 - accuracy: 0.9623 - val_loss: 12.5641 - val_accuracy: 0.5469\n",
            "Epoch 71/200\n",
            "65/65 [==============================] - 0s 6ms/step - loss: 9.2874 - accuracy: 0.9635 - val_loss: 12.1838 - val_accuracy: 0.5478\n",
            "Epoch 72/200\n",
            "65/65 [==============================] - 0s 6ms/step - loss: 9.0739 - accuracy: 0.9633 - val_loss: 12.0211 - val_accuracy: 0.5464\n",
            "Epoch 73/200\n",
            "65/65 [==============================] - 0s 6ms/step - loss: 8.8661 - accuracy: 0.9638 - val_loss: 11.9232 - val_accuracy: 0.5473\n",
            "Epoch 74/200\n",
            "65/65 [==============================] - 0s 6ms/step - loss: 8.6597 - accuracy: 0.9650 - val_loss: 11.7358 - val_accuracy: 0.5396\n",
            "Epoch 75/200\n",
            "65/65 [==============================] - 0s 6ms/step - loss: 8.4612 - accuracy: 0.9638 - val_loss: 11.6077 - val_accuracy: 0.5401\n",
            "Epoch 76/200\n",
            "65/65 [==============================] - 0s 6ms/step - loss: 8.2635 - accuracy: 0.9623 - val_loss: 11.3241 - val_accuracy: 0.5454\n",
            "Epoch 77/200\n",
            "65/65 [==============================] - 0s 6ms/step - loss: 8.0691 - accuracy: 0.9638 - val_loss: 11.2753 - val_accuracy: 0.5386\n",
            "Epoch 78/200\n",
            "65/65 [==============================] - 0s 6ms/step - loss: 7.8810 - accuracy: 0.9628 - val_loss: 10.9777 - val_accuracy: 0.5459\n",
            "Epoch 79/200\n",
            "65/65 [==============================] - 0s 6ms/step - loss: 7.6950 - accuracy: 0.9643 - val_loss: 10.7694 - val_accuracy: 0.5469\n",
            "Epoch 80/200\n",
            "65/65 [==============================] - 0s 6ms/step - loss: 7.5141 - accuracy: 0.9643 - val_loss: 10.4756 - val_accuracy: 0.5464\n",
            "Epoch 81/200\n",
            "65/65 [==============================] - 0s 6ms/step - loss: 7.3362 - accuracy: 0.9638 - val_loss: 10.3149 - val_accuracy: 0.5449\n",
            "Epoch 82/200\n",
            "65/65 [==============================] - 0s 6ms/step - loss: 7.1636 - accuracy: 0.9635 - val_loss: 10.2211 - val_accuracy: 0.5459\n",
            "Epoch 83/200\n",
            "65/65 [==============================] - 0s 6ms/step - loss: 6.9923 - accuracy: 0.9640 - val_loss: 10.2564 - val_accuracy: 0.5348\n",
            "Epoch 84/200\n",
            "65/65 [==============================] - 0s 6ms/step - loss: 6.8258 - accuracy: 0.9616 - val_loss: 9.9067 - val_accuracy: 0.5459\n",
            "Epoch 85/200\n",
            "65/65 [==============================] - 0s 6ms/step - loss: 6.6608 - accuracy: 0.9645 - val_loss: 9.7485 - val_accuracy: 0.5464\n",
            "Epoch 86/200\n",
            "65/65 [==============================] - 0s 6ms/step - loss: 6.5005 - accuracy: 0.9645 - val_loss: 9.6247 - val_accuracy: 0.5300\n",
            "Epoch 87/200\n",
            "65/65 [==============================] - 0s 6ms/step - loss: 6.3442 - accuracy: 0.9638 - val_loss: 9.3974 - val_accuracy: 0.5459\n",
            "Epoch 88/200\n",
            "65/65 [==============================] - 0s 6ms/step - loss: 6.1900 - accuracy: 0.9640 - val_loss: 9.1981 - val_accuracy: 0.5449\n",
            "Epoch 89/200\n",
            "65/65 [==============================] - 0s 6ms/step - loss: 6.0415 - accuracy: 0.9633 - val_loss: 8.9556 - val_accuracy: 0.5464\n",
            "Epoch 90/200\n",
            "65/65 [==============================] - 0s 6ms/step - loss: 5.8936 - accuracy: 0.9621 - val_loss: 8.9349 - val_accuracy: 0.5478\n",
            "Epoch 91/200\n",
            "65/65 [==============================] - 0s 6ms/step - loss: 5.7488 - accuracy: 0.9643 - val_loss: 8.6142 - val_accuracy: 0.5184\n",
            "Epoch 92/200\n",
            "65/65 [==============================] - 0s 6ms/step - loss: 5.6079 - accuracy: 0.9609 - val_loss: 8.7126 - val_accuracy: 0.5377\n",
            "Epoch 93/200\n",
            "65/65 [==============================] - 0s 6ms/step - loss: 5.4702 - accuracy: 0.9635 - val_loss: 8.5792 - val_accuracy: 0.5425\n",
            "Epoch 94/200\n",
            "65/65 [==============================] - 0s 6ms/step - loss: 5.3350 - accuracy: 0.9635 - val_loss: 8.3866 - val_accuracy: 0.5444\n",
            "Epoch 95/200\n",
            "65/65 [==============================] - 0s 6ms/step - loss: 5.2025 - accuracy: 0.9643 - val_loss: 8.2927 - val_accuracy: 0.5454\n",
            "Epoch 96/200\n",
            "65/65 [==============================] - 0s 6ms/step - loss: 5.0741 - accuracy: 0.9638 - val_loss: 8.0440 - val_accuracy: 0.5507\n",
            "Epoch 97/200\n",
            "65/65 [==============================] - 0s 6ms/step - loss: 4.9462 - accuracy: 0.9655 - val_loss: 8.0198 - val_accuracy: 0.5435\n",
            "Epoch 98/200\n",
            "65/65 [==============================] - 0s 6ms/step - loss: 4.8227 - accuracy: 0.9635 - val_loss: 7.8388 - val_accuracy: 0.5469\n",
            "Epoch 99/200\n",
            "65/65 [==============================] - 0s 6ms/step - loss: 4.7005 - accuracy: 0.9633 - val_loss: 7.7074 - val_accuracy: 0.5464\n",
            "Epoch 100/200\n",
            "65/65 [==============================] - 0s 6ms/step - loss: 4.5834 - accuracy: 0.9659 - val_loss: 7.7845 - val_accuracy: 0.5386\n",
            "Epoch 101/200\n",
            "65/65 [==============================] - 0s 6ms/step - loss: 4.4670 - accuracy: 0.9640 - val_loss: 7.5153 - val_accuracy: 0.5459\n",
            "Epoch 102/200\n",
            "65/65 [==============================] - 0s 6ms/step - loss: 4.3545 - accuracy: 0.9633 - val_loss: 7.4337 - val_accuracy: 0.5449\n",
            "Epoch 103/200\n",
            "65/65 [==============================] - 0s 6ms/step - loss: 4.2431 - accuracy: 0.9635 - val_loss: 7.2127 - val_accuracy: 0.5464\n",
            "Epoch 104/200\n",
            "65/65 [==============================] - 0s 7ms/step - loss: 4.1350 - accuracy: 0.9643 - val_loss: 7.2304 - val_accuracy: 0.5440\n",
            "Epoch 105/200\n",
            "65/65 [==============================] - 0s 6ms/step - loss: 4.0301 - accuracy: 0.9621 - val_loss: 6.9237 - val_accuracy: 0.5449\n",
            "Epoch 106/200\n",
            "65/65 [==============================] - 0s 6ms/step - loss: 3.9256 - accuracy: 0.9626 - val_loss: 6.9638 - val_accuracy: 0.5464\n",
            "Epoch 107/200\n",
            "65/65 [==============================] - 0s 6ms/step - loss: 3.8252 - accuracy: 0.9633 - val_loss: 6.8872 - val_accuracy: 0.5469\n",
            "Epoch 108/200\n",
            "65/65 [==============================] - 0s 6ms/step - loss: 3.7262 - accuracy: 0.9650 - val_loss: 6.7324 - val_accuracy: 0.5464\n",
            "Epoch 109/200\n",
            "65/65 [==============================] - 0s 6ms/step - loss: 3.6286 - accuracy: 0.9647 - val_loss: 6.6279 - val_accuracy: 0.5449\n",
            "Epoch 110/200\n",
            "65/65 [==============================] - 0s 6ms/step - loss: 3.5355 - accuracy: 0.9616 - val_loss: 6.5268 - val_accuracy: 0.5464\n",
            "Epoch 111/200\n",
            "65/65 [==============================] - 0s 6ms/step - loss: 3.4429 - accuracy: 0.9638 - val_loss: 6.5116 - val_accuracy: 0.5435\n",
            "Epoch 112/200\n",
            "65/65 [==============================] - 0s 6ms/step - loss: 3.3530 - accuracy: 0.9626 - val_loss: 6.1629 - val_accuracy: 0.5106\n",
            "Epoch 113/200\n",
            "65/65 [==============================] - 0s 6ms/step - loss: 3.2650 - accuracy: 0.9659 - val_loss: 6.3757 - val_accuracy: 0.5454\n",
            "Epoch 114/200\n",
            "65/65 [==============================] - 0s 6ms/step - loss: 3.1792 - accuracy: 0.9633 - val_loss: 6.1070 - val_accuracy: 0.5473\n",
            "Epoch 115/200\n",
            "65/65 [==============================] - 0s 6ms/step - loss: 3.0950 - accuracy: 0.9643 - val_loss: 6.1777 - val_accuracy: 0.5430\n",
            "Epoch 116/200\n",
            "65/65 [==============================] - 0s 6ms/step - loss: 3.0132 - accuracy: 0.9633 - val_loss: 6.0704 - val_accuracy: 0.5425\n",
            "Epoch 117/200\n",
            "65/65 [==============================] - 0s 6ms/step - loss: 2.9328 - accuracy: 0.9623 - val_loss: 5.9547 - val_accuracy: 0.5440\n",
            "Epoch 118/200\n",
            "65/65 [==============================] - 0s 6ms/step - loss: 2.8553 - accuracy: 0.9640 - val_loss: 5.8660 - val_accuracy: 0.5435\n",
            "Epoch 119/200\n",
            "65/65 [==============================] - 0s 6ms/step - loss: 2.7785 - accuracy: 0.9633 - val_loss: 5.7241 - val_accuracy: 0.5440\n",
            "Epoch 120/200\n",
            "65/65 [==============================] - 0s 6ms/step - loss: 2.7043 - accuracy: 0.9645 - val_loss: 5.6031 - val_accuracy: 0.5454\n",
            "Epoch 121/200\n",
            "65/65 [==============================] - 0s 6ms/step - loss: 2.6315 - accuracy: 0.9638 - val_loss: 5.6485 - val_accuracy: 0.5469\n",
            "Epoch 122/200\n",
            "65/65 [==============================] - 0s 6ms/step - loss: 2.5609 - accuracy: 0.9643 - val_loss: 5.5122 - val_accuracy: 0.5459\n",
            "Epoch 123/200\n",
            "65/65 [==============================] - 0s 6ms/step - loss: 2.4924 - accuracy: 0.9645 - val_loss: 5.4307 - val_accuracy: 0.5449\n",
            "Epoch 124/200\n",
            "65/65 [==============================] - 0s 6ms/step - loss: 2.4244 - accuracy: 0.9640 - val_loss: 5.3822 - val_accuracy: 0.5459\n",
            "Epoch 125/200\n",
            "65/65 [==============================] - 0s 6ms/step - loss: 2.3579 - accuracy: 0.9635 - val_loss: 5.2565 - val_accuracy: 0.5459\n",
            "Epoch 126/200\n",
            "65/65 [==============================] - 0s 6ms/step - loss: 2.2942 - accuracy: 0.9643 - val_loss: 5.2302 - val_accuracy: 0.5459\n",
            "Epoch 127/200\n",
            "65/65 [==============================] - 0s 6ms/step - loss: 2.2318 - accuracy: 0.9633 - val_loss: 5.2515 - val_accuracy: 0.5425\n",
            "Epoch 128/200\n",
            "65/65 [==============================] - 0s 6ms/step - loss: 2.1714 - accuracy: 0.9630 - val_loss: 5.1982 - val_accuracy: 0.5464\n",
            "Epoch 129/200\n",
            "65/65 [==============================] - 0s 6ms/step - loss: 2.1113 - accuracy: 0.9652 - val_loss: 5.1174 - val_accuracy: 0.5459\n",
            "Epoch 130/200\n",
            "65/65 [==============================] - 0s 6ms/step - loss: 2.0533 - accuracy: 0.9659 - val_loss: 5.0128 - val_accuracy: 0.5469\n",
            "Epoch 131/200\n",
            "65/65 [==============================] - 0s 6ms/step - loss: 1.9963 - accuracy: 0.9647 - val_loss: 4.9373 - val_accuracy: 0.5454\n",
            "Epoch 132/200\n",
            "65/65 [==============================] - 0s 6ms/step - loss: 1.9417 - accuracy: 0.9630 - val_loss: 4.8027 - val_accuracy: 0.5454\n",
            "Epoch 133/200\n",
            "65/65 [==============================] - 0s 6ms/step - loss: 1.8879 - accuracy: 0.9650 - val_loss: 5.0003 - val_accuracy: 0.5435\n",
            "Epoch 134/200\n",
            "65/65 [==============================] - 0s 6ms/step - loss: 1.8360 - accuracy: 0.9640 - val_loss: 4.7330 - val_accuracy: 0.5498\n",
            "Epoch 135/200\n",
            "65/65 [==============================] - 0s 6ms/step - loss: 1.7841 - accuracy: 0.9650 - val_loss: 4.7935 - val_accuracy: 0.5473\n",
            "Epoch 136/200\n",
            "65/65 [==============================] - 0s 6ms/step - loss: 1.7348 - accuracy: 0.9621 - val_loss: 4.7324 - val_accuracy: 0.5430\n",
            "Epoch 137/200\n",
            "65/65 [==============================] - 0s 6ms/step - loss: 1.6867 - accuracy: 0.9626 - val_loss: 4.6453 - val_accuracy: 0.5459\n",
            "Epoch 138/200\n",
            "65/65 [==============================] - 0s 6ms/step - loss: 1.6393 - accuracy: 0.9650 - val_loss: 4.5774 - val_accuracy: 0.5464\n",
            "Epoch 139/200\n",
            "65/65 [==============================] - 0s 6ms/step - loss: 1.5936 - accuracy: 0.9640 - val_loss: 4.6216 - val_accuracy: 0.5459\n",
            "Epoch 140/200\n",
            "65/65 [==============================] - 0s 6ms/step - loss: 1.5489 - accuracy: 0.9638 - val_loss: 4.3567 - val_accuracy: 0.5449\n",
            "Epoch 141/200\n",
            "65/65 [==============================] - 0s 6ms/step - loss: 1.5048 - accuracy: 0.9640 - val_loss: 4.4711 - val_accuracy: 0.5507\n",
            "Epoch 142/200\n",
            "65/65 [==============================] - 0s 6ms/step - loss: 1.4628 - accuracy: 0.9621 - val_loss: 4.4245 - val_accuracy: 0.5425\n",
            "Epoch 143/200\n",
            "65/65 [==============================] - 0s 6ms/step - loss: 1.4217 - accuracy: 0.9633 - val_loss: 4.3619 - val_accuracy: 0.5184\n",
            "Epoch 144/200\n",
            "65/65 [==============================] - 0s 7ms/step - loss: 1.3818 - accuracy: 0.9643 - val_loss: 4.3547 - val_accuracy: 0.5464\n",
            "Epoch 145/200\n",
            "65/65 [==============================] - 0s 7ms/step - loss: 1.3426 - accuracy: 0.9628 - val_loss: 4.2054 - val_accuracy: 0.5184\n",
            "Epoch 146/200\n",
            "65/65 [==============================] - 0s 6ms/step - loss: 1.3045 - accuracy: 0.9623 - val_loss: 4.2401 - val_accuracy: 0.5502\n",
            "Epoch 147/200\n",
            "65/65 [==============================] - 0s 6ms/step - loss: 1.2679 - accuracy: 0.9643 - val_loss: 4.2187 - val_accuracy: 0.5449\n",
            "Epoch 148/200\n",
            "65/65 [==============================] - 0s 6ms/step - loss: 1.2311 - accuracy: 0.9645 - val_loss: 4.1787 - val_accuracy: 0.5449\n",
            "Epoch 149/200\n",
            "65/65 [==============================] - 0s 6ms/step - loss: 1.1970 - accuracy: 0.9630 - val_loss: 4.2253 - val_accuracy: 0.5464\n",
            "Epoch 150/200\n",
            "65/65 [==============================] - 0s 6ms/step - loss: 1.1626 - accuracy: 0.9633 - val_loss: 4.0338 - val_accuracy: 0.5459\n",
            "Epoch 151/200\n",
            "65/65 [==============================] - 0s 6ms/step - loss: 1.1290 - accuracy: 0.9630 - val_loss: 4.0453 - val_accuracy: 0.5459\n",
            "Epoch 152/200\n",
            "65/65 [==============================] - 0s 6ms/step - loss: 1.0968 - accuracy: 0.9659 - val_loss: 4.0656 - val_accuracy: 0.5459\n",
            "Epoch 153/200\n",
            "65/65 [==============================] - 0s 6ms/step - loss: 1.0664 - accuracy: 0.9638 - val_loss: 3.9359 - val_accuracy: 0.5459\n",
            "Epoch 154/200\n",
            "65/65 [==============================] - 0s 7ms/step - loss: 1.0354 - accuracy: 0.9652 - val_loss: 4.0046 - val_accuracy: 0.5401\n",
            "Epoch 155/200\n",
            "65/65 [==============================] - 0s 6ms/step - loss: 1.0071 - accuracy: 0.9616 - val_loss: 3.7619 - val_accuracy: 0.5459\n",
            "Epoch 156/200\n",
            "65/65 [==============================] - 0s 6ms/step - loss: 0.9773 - accuracy: 0.9652 - val_loss: 3.9264 - val_accuracy: 0.5478\n",
            "Epoch 157/200\n",
            "65/65 [==============================] - 0s 6ms/step - loss: 0.9499 - accuracy: 0.9616 - val_loss: 3.7949 - val_accuracy: 0.5188\n",
            "Epoch 158/200\n",
            "65/65 [==============================] - 0s 6ms/step - loss: 0.9225 - accuracy: 0.9635 - val_loss: 3.7742 - val_accuracy: 0.5459\n",
            "Epoch 159/200\n",
            "65/65 [==============================] - 0s 6ms/step - loss: 0.8955 - accuracy: 0.9633 - val_loss: 3.7836 - val_accuracy: 0.5464\n",
            "Epoch 160/200\n",
            "65/65 [==============================] - 0s 6ms/step - loss: 0.8719 - accuracy: 0.9652 - val_loss: 3.6976 - val_accuracy: 0.5454\n",
            "Epoch 161/200\n",
            "65/65 [==============================] - 0s 6ms/step - loss: 0.8459 - accuracy: 0.9633 - val_loss: 3.6568 - val_accuracy: 0.5449\n",
            "Epoch 162/200\n",
            "65/65 [==============================] - 0s 6ms/step - loss: 0.8215 - accuracy: 0.9645 - val_loss: 3.5856 - val_accuracy: 0.5444\n",
            "Epoch 163/200\n",
            "65/65 [==============================] - 0s 6ms/step - loss: 0.7980 - accuracy: 0.9645 - val_loss: 3.5907 - val_accuracy: 0.5464\n",
            "Epoch 164/200\n",
            "65/65 [==============================] - 0s 6ms/step - loss: 0.7750 - accuracy: 0.9662 - val_loss: 3.6660 - val_accuracy: 0.5498\n",
            "Epoch 165/200\n",
            "65/65 [==============================] - 0s 6ms/step - loss: 0.7530 - accuracy: 0.9616 - val_loss: 3.6127 - val_accuracy: 0.5459\n",
            "Epoch 166/200\n",
            "65/65 [==============================] - 0s 6ms/step - loss: 0.7317 - accuracy: 0.9643 - val_loss: 3.6183 - val_accuracy: 0.5464\n",
            "Epoch 167/200\n",
            "65/65 [==============================] - 0s 6ms/step - loss: 0.7104 - accuracy: 0.9628 - val_loss: 3.5284 - val_accuracy: 0.5444\n",
            "Epoch 168/200\n",
            "65/65 [==============================] - 0s 6ms/step - loss: 0.6907 - accuracy: 0.9628 - val_loss: 3.5587 - val_accuracy: 0.5464\n",
            "Epoch 169/200\n",
            "65/65 [==============================] - 0s 6ms/step - loss: 0.6715 - accuracy: 0.9647 - val_loss: 3.4587 - val_accuracy: 0.5454\n",
            "Epoch 170/200\n",
            "65/65 [==============================] - 0s 6ms/step - loss: 0.6518 - accuracy: 0.9652 - val_loss: 3.5263 - val_accuracy: 0.5498\n",
            "Epoch 171/200\n",
            "65/65 [==============================] - 0s 6ms/step - loss: 0.6339 - accuracy: 0.9643 - val_loss: 3.4131 - val_accuracy: 0.5449\n",
            "Epoch 172/200\n",
            "65/65 [==============================] - 0s 6ms/step - loss: 0.6154 - accuracy: 0.9645 - val_loss: 3.4468 - val_accuracy: 0.5449\n",
            "Epoch 173/200\n",
            "65/65 [==============================] - 0s 6ms/step - loss: 0.5980 - accuracy: 0.9633 - val_loss: 3.4337 - val_accuracy: 0.5444\n",
            "Epoch 174/200\n",
            "65/65 [==============================] - 0s 6ms/step - loss: 0.5819 - accuracy: 0.9623 - val_loss: 3.4215 - val_accuracy: 0.5459\n",
            "Epoch 175/200\n",
            "65/65 [==============================] - 0s 6ms/step - loss: 0.5646 - accuracy: 0.9647 - val_loss: 3.3868 - val_accuracy: 0.5169\n",
            "Epoch 176/200\n",
            "65/65 [==============================] - 0s 6ms/step - loss: 0.5502 - accuracy: 0.9643 - val_loss: 3.3389 - val_accuracy: 0.5444\n",
            "Epoch 177/200\n",
            "65/65 [==============================] - 0s 6ms/step - loss: 0.5346 - accuracy: 0.9630 - val_loss: 3.3653 - val_accuracy: 0.5464\n",
            "Epoch 178/200\n",
            "65/65 [==============================] - 0s 6ms/step - loss: 0.5192 - accuracy: 0.9628 - val_loss: 3.2574 - val_accuracy: 0.5459\n",
            "Epoch 179/200\n",
            "65/65 [==============================] - 0s 6ms/step - loss: 0.5039 - accuracy: 0.9645 - val_loss: 3.3375 - val_accuracy: 0.5444\n",
            "Epoch 180/200\n",
            "65/65 [==============================] - 0s 6ms/step - loss: 0.4911 - accuracy: 0.9647 - val_loss: 3.3226 - val_accuracy: 0.5454\n",
            "Epoch 181/200\n",
            "65/65 [==============================] - 0s 6ms/step - loss: 0.4773 - accuracy: 0.9638 - val_loss: 3.1290 - val_accuracy: 0.5435\n",
            "Epoch 182/200\n",
            "65/65 [==============================] - 0s 6ms/step - loss: 0.4644 - accuracy: 0.9633 - val_loss: 3.3300 - val_accuracy: 0.5454\n",
            "Epoch 183/200\n",
            "65/65 [==============================] - 0s 6ms/step - loss: 0.4506 - accuracy: 0.9650 - val_loss: 3.3359 - val_accuracy: 0.5430\n",
            "Epoch 184/200\n",
            "65/65 [==============================] - 0s 6ms/step - loss: 0.4383 - accuracy: 0.9635 - val_loss: 3.1747 - val_accuracy: 0.5449\n",
            "Epoch 185/200\n",
            "65/65 [==============================] - 0s 6ms/step - loss: 0.4265 - accuracy: 0.9650 - val_loss: 3.3111 - val_accuracy: 0.5411\n",
            "Epoch 186/200\n",
            "65/65 [==============================] - 0s 6ms/step - loss: 0.4154 - accuracy: 0.9626 - val_loss: 3.2038 - val_accuracy: 0.5449\n",
            "Epoch 187/200\n",
            "65/65 [==============================] - 0s 6ms/step - loss: 0.4034 - accuracy: 0.9626 - val_loss: 3.2183 - val_accuracy: 0.5430\n",
            "Epoch 188/200\n",
            "65/65 [==============================] - 0s 6ms/step - loss: 0.3927 - accuracy: 0.9638 - val_loss: 3.1944 - val_accuracy: 0.5502\n",
            "Epoch 189/200\n",
            "65/65 [==============================] - 0s 6ms/step - loss: 0.3818 - accuracy: 0.9662 - val_loss: 3.2341 - val_accuracy: 0.5386\n",
            "Epoch 190/200\n",
            "65/65 [==============================] - 0s 6ms/step - loss: 0.3720 - accuracy: 0.9633 - val_loss: 3.1294 - val_accuracy: 0.5449\n",
            "Epoch 191/200\n",
            "65/65 [==============================] - 0s 6ms/step - loss: 0.3628 - accuracy: 0.9626 - val_loss: 3.1014 - val_accuracy: 0.5444\n",
            "Epoch 192/200\n",
            "65/65 [==============================] - 0s 6ms/step - loss: 0.3525 - accuracy: 0.9633 - val_loss: 3.0773 - val_accuracy: 0.5425\n",
            "Epoch 193/200\n",
            "65/65 [==============================] - 0s 6ms/step - loss: 0.3433 - accuracy: 0.9640 - val_loss: 3.0934 - val_accuracy: 0.5459\n",
            "Epoch 194/200\n",
            "65/65 [==============================] - 0s 6ms/step - loss: 0.3338 - accuracy: 0.9635 - val_loss: 3.1348 - val_accuracy: 0.5459\n",
            "Epoch 195/200\n",
            "65/65 [==============================] - 0s 6ms/step - loss: 0.3251 - accuracy: 0.9626 - val_loss: 3.0928 - val_accuracy: 0.5464\n",
            "Epoch 196/200\n",
            "65/65 [==============================] - 0s 6ms/step - loss: 0.3165 - accuracy: 0.9643 - val_loss: 3.0528 - val_accuracy: 0.5430\n",
            "Epoch 197/200\n",
            "65/65 [==============================] - 0s 6ms/step - loss: 0.3090 - accuracy: 0.9609 - val_loss: 3.1402 - val_accuracy: 0.5488\n",
            "Epoch 198/200\n",
            "65/65 [==============================] - 0s 6ms/step - loss: 0.3013 - accuracy: 0.9623 - val_loss: 3.1204 - val_accuracy: 0.5464\n",
            "Epoch 199/200\n",
            "65/65 [==============================] - 0s 6ms/step - loss: 0.2937 - accuracy: 0.9614 - val_loss: 3.0060 - val_accuracy: 0.5174\n",
            "Epoch 200/200\n",
            "65/65 [==============================] - 0s 6ms/step - loss: 0.2858 - accuracy: 0.9650 - val_loss: 3.0470 - val_accuracy: 0.5459\n",
            "CPU times: user 2min 9s, sys: 19 s, total: 2min 28s\n",
            "Wall time: 2min 23s\n"
          ]
        }
      ]
    },
    {
      "cell_type": "code",
      "source": [
        "pd.DataFrame(model_lstm_hist_1_imp.history).plot(figsize=(8, 5))\n",
        "plt.grid(True)\n",
        "plt.gca().set_ylim(0, 10)\n",
        "plt.title(\"Learning Curves LSTM Improvement\")\n",
        "plt.show()"
      ],
      "metadata": {
        "colab": {
          "base_uri": "https://localhost:8080/",
          "height": 336
        },
        "id": "8rKYXK3vkvr4",
        "outputId": "ad0685d4-76d7-4386-c88a-1a3006c65ca0"
      },
      "execution_count": 260,
      "outputs": [
        {
          "output_type": "display_data",
          "data": {
            "text/plain": [
              "<Figure size 576x360 with 1 Axes>"
            ],
            "image/png": "[encoded data removed]"
          },
          "metadata": {
            "needs_background": "light"
          }
        }
      ]
    },
    {
      "cell_type": "code",
      "source": [
        "model_lstm_1_imp.evaluate(X_test, y_test_ohe, batch_size=64)"
      ],
      "metadata": {
        "colab": {
          "base_uri": "https://localhost:8080/"
        },
        "id": "-Lawjcj5spce",
        "outputId": "4773a593-31e8-406a-9c42-ff8b3e5ca7bd"
      },
      "execution_count": 261,
      "outputs": [
        {
          "output_type": "stream",
          "name": "stdout",
          "text": [
            "12/12 [==============================] - 0s 3ms/step - loss: 1.5947 - accuracy: 0.7102\n"
          ]
        },
        {
          "output_type": "execute_result",
          "data": {
            "text/plain": [
              "[1.5946706533432007, 0.7102425694465637]"
            ]
          },
          "metadata": {},
          "execution_count": 261
        }
      ]
    },
    {
      "cell_type": "code",
      "source": [
        "yp_seq_lstm_imp = model_lstm_1_imp.predict(X_test)\n",
        "yp_seq_lstm_imp[:20]"
      ],
      "metadata": {
        "colab": {
          "base_uri": "https://localhost:8080/"
        },
        "id": "UJbb8U_ktXeV",
        "outputId": "abfd4854-2c0e-4b6f-f60b-9f838edb7913"
      },
      "execution_count": 262,
      "outputs": [
        {
          "output_type": "execute_result",
          "data": {
            "text/plain": [
              "array([[3.9490956e-06, 9.9968469e-01, 3.1139384e-04],\n",
              "       [1.1791661e-04, 5.5877218e-04, 9.9932337e-01],\n",
              "       [4.6494414e-04, 6.6627115e-01, 3.3326396e-01],\n",
              "       [7.3640852e-04, 4.4431728e-01, 5.5494630e-01],\n",
              "       [3.9468946e-06, 9.9970502e-01, 2.9096415e-04],\n",
              "       [4.6494414e-04, 6.6627115e-01, 3.3326396e-01],\n",
              "       [3.0197724e-04, 1.0637945e-03, 9.9863416e-01],\n",
              "       [4.6494414e-04, 6.6627115e-01, 3.3326396e-01],\n",
              "       [4.1790090e-06, 9.9965358e-01, 3.4221288e-04],\n",
              "       [3.9568904e-06, 9.9968624e-01, 3.0988079e-04],\n",
              "       [4.6494414e-04, 6.6627115e-01, 3.3326396e-01],\n",
              "       [3.9396482e-06, 9.9970514e-01, 2.9095533e-04],\n",
              "       [4.6494414e-04, 6.6627115e-01, 3.3326396e-01],\n",
              "       [1.1638154e-04, 6.2813592e-04, 9.9925548e-01],\n",
              "       [4.6494414e-04, 6.6627115e-01, 3.3326396e-01],\n",
              "       [9.8644173e-01, 1.2344947e-02, 1.2133619e-03],\n",
              "       [4.6494414e-04, 6.6627115e-01, 3.3326396e-01],\n",
              "       [4.8245120e-04, 5.4871994e-01, 4.5079759e-01],\n",
              "       [3.7109602e-04, 2.6416394e-01, 7.3546493e-01],\n",
              "       [9.6781523e-06, 9.9963617e-01, 3.5412842e-04]], dtype=float32)"
            ]
          },
          "metadata": {},
          "execution_count": 262
        }
      ]
    },
    {
      "cell_type": "code",
      "source": [
        "# Test is the data right after splitting into train, test and val (shuffle was false in dataset so the order will match)\n",
        "# Classification report\n",
        "res_argmax_lstm_imp = yp_seq_lstm_imp.argmax(axis=1)\n",
        "print('Classification Report (Model Sequential Improvement LSTM)')\n",
        "print(classification_report(y_test, res_argmax_lstm_imp, target_names=[\"Neutral\", \"Negative\", \"Positive\"]))"
      ],
      "metadata": {
        "colab": {
          "base_uri": "https://localhost:8080/"
        },
        "id": "IlE002NjtZqq",
        "outputId": "d49dbb45-ddd8-4820-a5e6-42b982b662a7"
      },
      "execution_count": 263,
      "outputs": [
        {
          "output_type": "stream",
          "name": "stdout",
          "text": [
            "Classification Report (Model Sequential Improvement LSTM)\n",
            "              precision    recall  f1-score   support\n",
            "\n",
            "     Neutral       0.80      0.41      0.55        29\n",
            "    Negative       0.76      0.86      0.81       500\n",
            "    Positive       0.53      0.40      0.46       213\n",
            "\n",
            "    accuracy                           0.71       742\n",
            "   macro avg       0.70      0.56      0.60       742\n",
            "weighted avg       0.70      0.71      0.70       742\n",
            "\n"
          ]
        }
      ]
    },
    {
      "cell_type": "code",
      "source": [
        "cm = confusion_matrix(y_test, res_argmax_lstm_imp)\n",
        "disp = ConfusionMatrixDisplay(confusion_matrix=cm)\n",
        "\n",
        "disp.plot()\n",
        "plt.title(\"LSTM with Improvement\")\n",
        "plt.show()"
      ],
      "metadata": {
        "colab": {
          "base_uri": "https://localhost:8080/",
          "height": 295
        },
        "id": "fv5ZIM9ptaZC",
        "outputId": "261d6aed-e72c-473d-cd2f-f5d6684f2c74"
      },
      "execution_count": 264,
      "outputs": [
        {
          "output_type": "display_data",
          "data": {
            "text/plain": [
              "<Figure size 432x288 with 2 Axes>"
            ],
            "image/png": "[encoded data removed]"
          },
          "metadata": {
            "needs_background": "light"
          }
        }
      ]
    },
    {
      "cell_type": "markdown",
      "source": [
        "# 7 - Saving Model"
      ],
      "metadata": {
        "id": "p-1T7K573o2w"
      }
    },
    {
      "cell_type": "code",
      "source": [
        "# freeze model\n",
        "for layer in model_lstm_1_imp.layers:\n",
        "  layer.trainable = False\n"
      ],
      "metadata": {
        "id": "le2dlpjD3rPF"
      },
      "execution_count": 279,
      "outputs": []
    },
    {
      "cell_type": "code",
      "source": [
        "# prepare directory for saving model\n",
        "model_lstm_1_imp.save('model_auto_reply_tf')\n"
      ],
      "metadata": {
        "id": "7gOgrEWA3y1O"
      },
      "execution_count": null,
      "outputs": []
    },
    {
      "cell_type": "markdown",
      "source": [
        "# 8 - Model Inference\n",
        "\n",
        "Based on the classification report, the model that gets the best accuracy is the Model LSTM x Conv1D x DNN after improvement. So I will decide to use the Model LSTM x Conv1D x DNN for data inference later so that the model can predict sentiment correctly and better, but it is not perfect."
      ],
      "metadata": {
        "id": "CVS78qx_5kfw"
      }
    },
    {
      "cell_type": "code",
      "source": [
        "twt = [\"bank ini jelek banget deh\"]\n",
        "\n",
        "sentiment = model_lstm_1_imp.predict(twt)\n",
        "if(np.argmax(sentiment) == 0):\n",
        "    print(\"Neutral\")\n",
        "elif(np.argmax(sentiment) == 1):\n",
        "    print(\"Negative\")\n",
        "elif(np.argmax(sentiment) == 2):\n",
        "    print(\"Positive\")"
      ],
      "metadata": {
        "colab": {
          "base_uri": "https://localhost:8080/"
        },
        "id": "-6dZJMsF37VU",
        "outputId": "4d7629db-4801-47d5-fe6a-3520ca0f0638"
      },
      "execution_count": 289,
      "outputs": [
        {
          "output_type": "stream",
          "name": "stdout",
          "text": [
            "Negative\n"
          ]
        }
      ]
    }
  ]
}