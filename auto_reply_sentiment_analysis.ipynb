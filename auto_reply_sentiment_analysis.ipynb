{
  "nbformat": 4,
  "nbformat_minor": 0,
  "metadata": {
    "colab": {
      "name": "auto_reply_sentiment_analysis.ipynb",
      "provenance": [],
      "machine_shape": "hm",
      "collapsed_sections": []
    },
    "kernelspec": {
      "name": "python3",
      "display_name": "Python 3"
    },
    "language_info": {
      "name": "python"
    },
    "accelerator": "GPU",
    "gpuClass": "standard"
  },
  "cells": [
    {
      "cell_type": "markdown",
      "source": [
        "# 1 - Introduction\n",
        "\n",
        "**Credit by  :** \n",
        "  - Enggar Kristian \n",
        "  - Wahyudi\n",
        "\n",
        "**Batch : FTDS - 012** \n",
        "\n",
        "**Objective : Final project, to predict sentiment analysis Twitter**"
      ],
      "metadata": {
        "id": "U7OTn2sP6FBc"
      }
    },
    {
      "cell_type": "markdown",
      "source": [
        "# 2 - Import Libraries"
      ],
      "metadata": {
        "id": "j-A4phR5Zasi"
      }
    },
    {
      "cell_type": "code",
      "execution_count": 64,
      "metadata": {
        "colab": {
          "base_uri": "https://localhost:8080/"
        },
        "id": "G7uYCDQxZTul",
        "outputId": "8a6dfac8-b046-470e-a7c4-910367edee34"
      },
      "outputs": [
        {
          "output_type": "stream",
          "name": "stdout",
          "text": [
            "Drive already mounted at /content/gdrive; to attempt to forcibly remount, call drive.mount(\"/content/gdrive\", force_remount=True).\n"
          ]
        }
      ],
      "source": [
        "from google.colab import drive\n",
        "\n",
        "drive.mount('/content/gdrive')"
      ]
    },
    {
      "cell_type": "code",
      "source": [
        "# masuk folder \"model_ml_dl\"\n",
        "% cd /content/gdrive/MyDrive/model_dl_ml"
      ],
      "metadata": {
        "colab": {
          "base_uri": "https://localhost:8080/"
        },
        "id": "tlq_fYsQZdlN",
        "outputId": "200bbb2b-e6a0-4652-9bfe-5a8d40fdeefb"
      },
      "execution_count": 65,
      "outputs": [
        {
          "output_type": "stream",
          "name": "stdout",
          "text": [
            "/content/gdrive/MyDrive/model_dl_ml\n"
          ]
        }
      ]
    },
    {
      "cell_type": "code",
      "source": [
        "\n",
        "import pandas as pd\n",
        "import numpy as np\n",
        "import seaborn as sns\n",
        "import matplotlib.pyplot as plt\n",
        "import sklearn\n",
        "from sklearn.model_selection import train_test_split\n",
        "import joblib\n",
        "import pickle\n",
        "import plotly.express as px\n",
        "from sklearn.model_selection import train_test_split, cross_validate\n",
        "import warnings\n",
        "warnings.filterwarnings('ignore')\n",
        "from sklearn import preprocessing\n",
        "from pathlib import Path\n",
        "from imblearn.over_sampling import RandomOverSampler\n",
        "\n",
        "# Evaluate Classification Models\n",
        "from sklearn.metrics import classification_report, roc_auc_score, auc, RocCurveDisplay, roc_curve, accuracy_score\n",
        "from sklearn.metrics import accuracy_score,classification_report,ConfusionMatrixDisplay,confusion_matrix\n",
        "\n",
        "import tensorflow as tf \n",
        "from tensorflow import keras\n",
        "import pathlib\n",
        "!pip install -q pysastrawi\n",
        "from sklearn.metrics import confusion_matrix ,accuracy_score\n",
        "np.random.seed(15)\n",
        "tf.random.set_seed(15)\n",
        "import re # for preprocessing text\n",
        "import string # for preprocessing text\n",
        "from sklearn.feature_extraction.text import CountVectorizer # to create Bag of words\n",
        "import nltk # for processing texts\n",
        "from nltk.corpus import stopwords # list of stop words\n",
        "from wordcloud import WordCloud,STOPWORDS\n",
        "from Sastrawi.Stemmer.StemmerFactory import StemmerFactory\n",
        "from nltk.tokenize import word_tokenize\n",
        "from keras.preprocessing.text import Tokenizer\n",
        "from keras.preprocessing.sequence import pad_sequences\n",
        "from sklearn.feature_extraction.text import CountVectorizer, TfidfTransformer\n",
        "from tensorflow.keras.layers import TextVectorization, Embedding\n",
        "from tensorflow.keras.layers import Dense, Conv1D, GlobalAveragePooling1D, MaxPooling1D, Input, LSTM, GRU, SpatialDropout1D, Dense, Dropout, Masking, Embedding, Flatten, Input, BatchNormalization\n",
        "from tensorflow.keras.models import Model, Sequential\n",
        "from tensorflow.keras.utils import to_categorical\n",
        "\n",
        "!pip install -q pysastrawi\n",
        "nltk.download('punkt')\n",
        "nltk.download('stopwords')\n",
        "nltk.download('wordnet')"
      ],
      "metadata": {
        "colab": {
          "base_uri": "https://localhost:8080/"
        },
        "id": "0yt_-285ZetK",
        "outputId": "fb59ceba-8710-401c-a2bd-6543085bf2d8"
      },
      "execution_count": 66,
      "outputs": [
        {
          "output_type": "stream",
          "name": "stderr",
          "text": [
            "[nltk_data] Downloading package punkt to /root/nltk_data...\n",
            "[nltk_data]   Package punkt is already up-to-date!\n",
            "[nltk_data] Downloading package stopwords to /root/nltk_data...\n",
            "[nltk_data]   Package stopwords is already up-to-date!\n",
            "[nltk_data] Downloading package wordnet to /root/nltk_data...\n",
            "[nltk_data]   Package wordnet is already up-to-date!\n"
          ]
        },
        {
          "output_type": "execute_result",
          "data": {
            "text/plain": [
              "True"
            ]
          },
          "metadata": {},
          "execution_count": 66
        }
      ]
    },
    {
      "cell_type": "code",
      "source": [
        "tf.__version__"
      ],
      "metadata": {
        "colab": {
          "base_uri": "https://localhost:8080/",
          "height": 35
        },
        "id": "coEv72JqZ-UW",
        "outputId": "84ac7e00-772a-47f9-deee-8fb2c6e9e502"
      },
      "execution_count": 67,
      "outputs": [
        {
          "output_type": "execute_result",
          "data": {
            "text/plain": [
              "'2.8.2'"
            ],
            "application/vnd.google.colaboratory.intrinsic+json": {
              "type": "string"
            }
          },
          "metadata": {},
          "execution_count": 67
        }
      ]
    },
    {
      "cell_type": "code",
      "source": [
        "sklearn.__version__"
      ],
      "metadata": {
        "colab": {
          "base_uri": "https://localhost:8080/",
          "height": 35
        },
        "id": "lWl6lPA-Z-vP",
        "outputId": "2ffd2cd1-8712-4f32-b290-57fd0e9c9fd5"
      },
      "execution_count": 68,
      "outputs": [
        {
          "output_type": "execute_result",
          "data": {
            "text/plain": [
              "'1.0.2'"
            ],
            "application/vnd.google.colaboratory.intrinsic+json": {
              "type": "string"
            }
          },
          "metadata": {},
          "execution_count": 68
        }
      ]
    },
    {
      "cell_type": "markdown",
      "source": [
        "# 3 - Data Loading"
      ],
      "metadata": {
        "id": "Nd5aG3X_aASn"
      }
    },
    {
      "cell_type": "code",
      "source": [
        "data = pd.read_csv(\"/content/gdrive/MyDrive/model_dl_ml/auto_reply.csv\")\n",
        "data.head()"
      ],
      "metadata": {
        "colab": {
          "base_uri": "https://localhost:8080/",
          "height": 206
        },
        "id": "8I9yYXUKZ4-C",
        "outputId": "3a1813ff-7881-4112-c3e7-1c3be4d6ef0f"
      },
      "execution_count": 69,
      "outputs": [
        {
          "output_type": "execute_result",
          "data": {
            "text/plain": [
              "   Unnamed: 0  sentimen                                               text\n",
              "0         0.0  Positive  |@PrincessSuperC Hai Cici tersayang! Cuma mau ...\n",
              "1         1.0  Positive  |@Msdebramaye Saya mendengar tentang kontes it...\n",
              "2         2.0  Positive  |UNC!!! Pemenang NCAA!! Franklin St.: I ADA DI...\n",
              "3         3.0  Positive  |@DivHumas_Polri: Hoax dan Ujaran Kebencian da...\n",
              "4         4.0  Positive  |@DivHumas_Polri: Polri : Reuni 212 Berjalan K..."
            ],
            "text/html": [
              "\n",
              "  <div id=\"df-6fceebf7-99f2-4a35-8218-b88f55c75734\">\n",
              "    <div class=\"colab-df-container\">\n",
              "      <div>\n",
              "<style scoped>\n",
              "    .dataframe tbody tr th:only-of-type {\n",
              "        vertical-align: middle;\n",
              "    }\n",
              "\n",
              "    .dataframe tbody tr th {\n",
              "        vertical-align: top;\n",
              "    }\n",
              "\n",
              "    .dataframe thead th {\n",
              "        text-align: right;\n",
              "    }\n",
              "</style>\n",
              "<table border=\"1\" class=\"dataframe\">\n",
              "  <thead>\n",
              "    <tr style=\"text-align: right;\">\n",
              "      <th></th>\n",
              "      <th>Unnamed: 0</th>\n",
              "      <th>sentimen</th>\n",
              "      <th>text</th>\n",
              "    </tr>\n",
              "  </thead>\n",
              "  <tbody>\n",
              "    <tr>\n",
              "      <th>0</th>\n",
              "      <td>0.0</td>\n",
              "      <td>Positive</td>\n",
              "      <td>|@PrincessSuperC Hai Cici tersayang! Cuma mau ...</td>\n",
              "    </tr>\n",
              "    <tr>\n",
              "      <th>1</th>\n",
              "      <td>1.0</td>\n",
              "      <td>Positive</td>\n",
              "      <td>|@Msdebramaye Saya mendengar tentang kontes it...</td>\n",
              "    </tr>\n",
              "    <tr>\n",
              "      <th>2</th>\n",
              "      <td>2.0</td>\n",
              "      <td>Positive</td>\n",
              "      <td>|UNC!!! Pemenang NCAA!! Franklin St.: I ADA DI...</td>\n",
              "    </tr>\n",
              "    <tr>\n",
              "      <th>3</th>\n",
              "      <td>3.0</td>\n",
              "      <td>Positive</td>\n",
              "      <td>|@DivHumas_Polri: Hoax dan Ujaran Kebencian da...</td>\n",
              "    </tr>\n",
              "    <tr>\n",
              "      <th>4</th>\n",
              "      <td>4.0</td>\n",
              "      <td>Positive</td>\n",
              "      <td>|@DivHumas_Polri: Polri : Reuni 212 Berjalan K...</td>\n",
              "    </tr>\n",
              "  </tbody>\n",
              "</table>\n",
              "</div>\n",
              "      <button class=\"colab-df-convert\" onclick=\"convertToInteractive('df-6fceebf7-99f2-4a35-8218-b88f55c75734')\"\n",
              "              title=\"Convert this dataframe to an interactive table.\"\n",
              "              style=\"display:none;\">\n",
              "        \n",
              "  <svg xmlns=\"http://www.w3.org/2000/svg\" height=\"24px\"viewBox=\"0 0 24 24\"\n",
              "       width=\"24px\">\n",
              "    <path d=\"M0 0h24v24H0V0z\" fill=\"none\"/>\n",
              "    <path d=\"M18.56 5.44l.94 2.06.94-2.06 2.06-.94-2.06-.94-.94-2.06-.94 2.06-2.06.94zm-11 1L8.5 8.5l.94-2.06 2.06-.94-2.06-.94L8.5 2.5l-.94 2.06-2.06.94zm10 10l.94 2.06.94-2.06 2.06-.94-2.06-.94-.94-2.06-.94 2.06-2.06.94z\"/><path d=\"M17.41 7.96l-1.37-1.37c-.4-.4-.92-.59-1.43-.59-.52 0-1.04.2-1.43.59L10.3 9.45l-7.72 7.72c-.78.78-.78 2.05 0 2.83L4 21.41c.39.39.9.59 1.41.59.51 0 1.02-.2 1.41-.59l7.78-7.78 2.81-2.81c.8-.78.8-2.07 0-2.86zM5.41 20L4 18.59l7.72-7.72 1.47 1.35L5.41 20z\"/>\n",
              "  </svg>\n",
              "      </button>\n",
              "      \n",
              "  <style>\n",
              "    .colab-df-container {\n",
              "      display:flex;\n",
              "      flex-wrap:wrap;\n",
              "      gap: 12px;\n",
              "    }\n",
              "\n",
              "    .colab-df-convert {\n",
              "      background-color: #E8F0FE;\n",
              "      border: none;\n",
              "      border-radius: 50%;\n",
              "      cursor: pointer;\n",
              "      display: none;\n",
              "      fill: #1967D2;\n",
              "      height: 32px;\n",
              "      padding: 0 0 0 0;\n",
              "      width: 32px;\n",
              "    }\n",
              "\n",
              "    .colab-df-convert:hover {\n",
              "      background-color: #E2EBFA;\n",
              "      box-shadow: 0px 1px 2px rgba(60, 64, 67, 0.3), 0px 1px 3px 1px rgba(60, 64, 67, 0.15);\n",
              "      fill: #174EA6;\n",
              "    }\n",
              "\n",
              "    [theme=dark] .colab-df-convert {\n",
              "      background-color: #3B4455;\n",
              "      fill: #D2E3FC;\n",
              "    }\n",
              "\n",
              "    [theme=dark] .colab-df-convert:hover {\n",
              "      background-color: #434B5C;\n",
              "      box-shadow: 0px 1px 3px 1px rgba(0, 0, 0, 0.15);\n",
              "      filter: drop-shadow(0px 1px 2px rgba(0, 0, 0, 0.3));\n",
              "      fill: #FFFFFF;\n",
              "    }\n",
              "  </style>\n",
              "\n",
              "      <script>\n",
              "        const buttonEl =\n",
              "          document.querySelector('#df-6fceebf7-99f2-4a35-8218-b88f55c75734 button.colab-df-convert');\n",
              "        buttonEl.style.display =\n",
              "          google.colab.kernel.accessAllowed ? 'block' : 'none';\n",
              "\n",
              "        async function convertToInteractive(key) {\n",
              "          const element = document.querySelector('#df-6fceebf7-99f2-4a35-8218-b88f55c75734');\n",
              "          const dataTable =\n",
              "            await google.colab.kernel.invokeFunction('convertToInteractive',\n",
              "                                                     [key], {});\n",
              "          if (!dataTable) return;\n",
              "\n",
              "          const docLinkHtml = 'Like what you see? Visit the ' +\n",
              "            '<a target=\"_blank\" href=https://colab.research.google.com/notebooks/data_table.ipynb>data table notebook</a>'\n",
              "            + ' to learn more about interactive tables.';\n",
              "          element.innerHTML = '';\n",
              "          dataTable['output_type'] = 'display_data';\n",
              "          await google.colab.output.renderOutput(dataTable, element);\n",
              "          const docLink = document.createElement('div');\n",
              "          docLink.innerHTML = docLinkHtml;\n",
              "          element.appendChild(docLink);\n",
              "        }\n",
              "      </script>\n",
              "    </div>\n",
              "  </div>\n",
              "  "
            ]
          },
          "metadata": {},
          "execution_count": 69
        }
      ]
    },
    {
      "cell_type": "code",
      "source": [
        "# Size\n",
        "data.shape"
      ],
      "metadata": {
        "colab": {
          "base_uri": "https://localhost:8080/"
        },
        "id": "5vMEHK4mZ61n",
        "outputId": "60456562-a28b-45b2-db76-db693db8a062"
      },
      "execution_count": 70,
      "outputs": [
        {
          "output_type": "execute_result",
          "data": {
            "text/plain": [
              "(13946, 3)"
            ]
          },
          "metadata": {},
          "execution_count": 70
        }
      ]
    },
    {
      "cell_type": "code",
      "source": [
        "data.info()"
      ],
      "metadata": {
        "colab": {
          "base_uri": "https://localhost:8080/"
        },
        "id": "CynS2BIMaGyP",
        "outputId": "c0ae82b7-790c-4607-e6bf-4720e75ddd45"
      },
      "execution_count": 71,
      "outputs": [
        {
          "output_type": "stream",
          "name": "stdout",
          "text": [
            "<class 'pandas.core.frame.DataFrame'>\n",
            "RangeIndex: 13946 entries, 0 to 13945\n",
            "Data columns (total 3 columns):\n",
            " #   Column      Non-Null Count  Dtype  \n",
            "---  ------      --------------  -----  \n",
            " 0   Unnamed: 0  3708 non-null   float64\n",
            " 1   sentimen    13946 non-null  object \n",
            " 2   text        13946 non-null  object \n",
            "dtypes: float64(1), object(2)\n",
            "memory usage: 327.0+ KB\n"
          ]
        }
      ]
    },
    {
      "cell_type": "code",
      "source": [
        "# Know about unique all columns in dataset\n",
        "for col in data:\n",
        "    print(f'{col}: {data[col].unique()}')"
      ],
      "metadata": {
        "colab": {
          "base_uri": "https://localhost:8080/"
        },
        "id": "NCaYgOIRaIUM",
        "outputId": "e0e96cf9-96f4-4d46-ca37-68070fb403ca"
      },
      "execution_count": 72,
      "outputs": [
        {
          "output_type": "stream",
          "name": "stdout",
          "text": [
            "Unnamed: 0: [0.000e+00 1.000e+00 2.000e+00 ... 3.706e+03 3.707e+03       nan]\n",
            "sentimen: ['Positive' 'Neutral' 'Negative' 'negative']\n",
            "text: ['|@PrincessSuperC Hai Cici tersayang! Cuma mau memberitaukan kalau saya cinta kamu! OH! Dan akan berkunjung secepatnya? Fantasi berkendari 5 Mei!!!!|'\n",
            " '|@Msdebramaye Saya mendengar tentang kontes itu! Selamat teman!!|'\n",
            " '|UNC!!! Pemenang NCAA!! Franklin St.: I ADA DISANA!! SANGAT SERU!!!!!! Ini adalah yang terbaik...yang pernah ada http://tinyurl.com/49955t3|'\n",
            " ...\n",
            " 'Sudah sampai kabupaten sebelah kawan... Mari kita terapkan sosial distancing yang sudah di anjurkan pemerintah... Dalam upaya memutus Mata rantai pemularan covid 19... Anda di rumah saja yaa kawan....untuk kita, untuk semua, untuk Indonesia pic.twitter.com/fJEwCq5UG6'\n",
            " 'Berharap pemerintah Indonesia segara menutup penerbangan Internasional untuk mencegah COVID-19. #DiRumahAjaYa ##COVID19'\n",
            " 'Apapun agama dan kepercayaanmu, sblum tidur, yuk doakan mereka yg dalam prwatan COVID-19, nakes yg menangani, pemerintah dan warga Indonesia agar bersatu visi, bebas dari pandemi ini dalam waktu sesingkat-singkatnya.']\n"
          ]
        }
      ]
    },
    {
      "cell_type": "code",
      "source": [
        "# Copy dataset that can use to modification dataset\n",
        "data_copy = data_copy.drop(columns=[\"Unnamed: 0\"], axis=1) \n",
        "data_copy.tail()"
      ],
      "metadata": {
        "colab": {
          "base_uri": "https://localhost:8080/",
          "height": 206
        },
        "id": "U_SixC0daUIK",
        "outputId": "b6c84bf6-0324-4193-b071-0ecc82ab6738"
      },
      "execution_count": 77,
      "outputs": [
        {
          "output_type": "execute_result",
          "data": {
            "text/plain": [
              "       sentimen                                               text\n",
              "13941   Neutral  Semoga KTT luar biasa memberikan manfaat bg In...\n",
              "13942  Negative  1. Corona sudah menyerang di berbagai Negative...\n",
              "13943  Positive  Sudah sampai kabupaten sebelah kawan... Mari k...\n",
              "13944   Neutral  Berharap pemerintah Indonesia segara menutup p...\n",
              "13945  Positive  Apapun agama dan kepercayaanmu, sblum tidur, y..."
            ],
            "text/html": [
              "\n",
              "  <div id=\"df-9edc6c19-0c79-4b2b-972c-0def5f1db03c\">\n",
              "    <div class=\"colab-df-container\">\n",
              "      <div>\n",
              "<style scoped>\n",
              "    .dataframe tbody tr th:only-of-type {\n",
              "        vertical-align: middle;\n",
              "    }\n",
              "\n",
              "    .dataframe tbody tr th {\n",
              "        vertical-align: top;\n",
              "    }\n",
              "\n",
              "    .dataframe thead th {\n",
              "        text-align: right;\n",
              "    }\n",
              "</style>\n",
              "<table border=\"1\" class=\"dataframe\">\n",
              "  <thead>\n",
              "    <tr style=\"text-align: right;\">\n",
              "      <th></th>\n",
              "      <th>sentimen</th>\n",
              "      <th>text</th>\n",
              "    </tr>\n",
              "  </thead>\n",
              "  <tbody>\n",
              "    <tr>\n",
              "      <th>13941</th>\n",
              "      <td>Neutral</td>\n",
              "      <td>Semoga KTT luar biasa memberikan manfaat bg In...</td>\n",
              "    </tr>\n",
              "    <tr>\n",
              "      <th>13942</th>\n",
              "      <td>Negative</td>\n",
              "      <td>1. Corona sudah menyerang di berbagai Negative...</td>\n",
              "    </tr>\n",
              "    <tr>\n",
              "      <th>13943</th>\n",
              "      <td>Positive</td>\n",
              "      <td>Sudah sampai kabupaten sebelah kawan... Mari k...</td>\n",
              "    </tr>\n",
              "    <tr>\n",
              "      <th>13944</th>\n",
              "      <td>Neutral</td>\n",
              "      <td>Berharap pemerintah Indonesia segara menutup p...</td>\n",
              "    </tr>\n",
              "    <tr>\n",
              "      <th>13945</th>\n",
              "      <td>Positive</td>\n",
              "      <td>Apapun agama dan kepercayaanmu, sblum tidur, y...</td>\n",
              "    </tr>\n",
              "  </tbody>\n",
              "</table>\n",
              "</div>\n",
              "      <button class=\"colab-df-convert\" onclick=\"convertToInteractive('df-9edc6c19-0c79-4b2b-972c-0def5f1db03c')\"\n",
              "              title=\"Convert this dataframe to an interactive table.\"\n",
              "              style=\"display:none;\">\n",
              "        \n",
              "  <svg xmlns=\"http://www.w3.org/2000/svg\" height=\"24px\"viewBox=\"0 0 24 24\"\n",
              "       width=\"24px\">\n",
              "    <path d=\"M0 0h24v24H0V0z\" fill=\"none\"/>\n",
              "    <path d=\"M18.56 5.44l.94 2.06.94-2.06 2.06-.94-2.06-.94-.94-2.06-.94 2.06-2.06.94zm-11 1L8.5 8.5l.94-2.06 2.06-.94-2.06-.94L8.5 2.5l-.94 2.06-2.06.94zm10 10l.94 2.06.94-2.06 2.06-.94-2.06-.94-.94-2.06-.94 2.06-2.06.94z\"/><path d=\"M17.41 7.96l-1.37-1.37c-.4-.4-.92-.59-1.43-.59-.52 0-1.04.2-1.43.59L10.3 9.45l-7.72 7.72c-.78.78-.78 2.05 0 2.83L4 21.41c.39.39.9.59 1.41.59.51 0 1.02-.2 1.41-.59l7.78-7.78 2.81-2.81c.8-.78.8-2.07 0-2.86zM5.41 20L4 18.59l7.72-7.72 1.47 1.35L5.41 20z\"/>\n",
              "  </svg>\n",
              "      </button>\n",
              "      \n",
              "  <style>\n",
              "    .colab-df-container {\n",
              "      display:flex;\n",
              "      flex-wrap:wrap;\n",
              "      gap: 12px;\n",
              "    }\n",
              "\n",
              "    .colab-df-convert {\n",
              "      background-color: #E8F0FE;\n",
              "      border: none;\n",
              "      border-radius: 50%;\n",
              "      cursor: pointer;\n",
              "      display: none;\n",
              "      fill: #1967D2;\n",
              "      height: 32px;\n",
              "      padding: 0 0 0 0;\n",
              "      width: 32px;\n",
              "    }\n",
              "\n",
              "    .colab-df-convert:hover {\n",
              "      background-color: #E2EBFA;\n",
              "      box-shadow: 0px 1px 2px rgba(60, 64, 67, 0.3), 0px 1px 3px 1px rgba(60, 64, 67, 0.15);\n",
              "      fill: #174EA6;\n",
              "    }\n",
              "\n",
              "    [theme=dark] .colab-df-convert {\n",
              "      background-color: #3B4455;\n",
              "      fill: #D2E3FC;\n",
              "    }\n",
              "\n",
              "    [theme=dark] .colab-df-convert:hover {\n",
              "      background-color: #434B5C;\n",
              "      box-shadow: 0px 1px 3px 1px rgba(0, 0, 0, 0.15);\n",
              "      filter: drop-shadow(0px 1px 2px rgba(0, 0, 0, 0.3));\n",
              "      fill: #FFFFFF;\n",
              "    }\n",
              "  </style>\n",
              "\n",
              "      <script>\n",
              "        const buttonEl =\n",
              "          document.querySelector('#df-9edc6c19-0c79-4b2b-972c-0def5f1db03c button.colab-df-convert');\n",
              "        buttonEl.style.display =\n",
              "          google.colab.kernel.accessAllowed ? 'block' : 'none';\n",
              "\n",
              "        async function convertToInteractive(key) {\n",
              "          const element = document.querySelector('#df-9edc6c19-0c79-4b2b-972c-0def5f1db03c');\n",
              "          const dataTable =\n",
              "            await google.colab.kernel.invokeFunction('convertToInteractive',\n",
              "                                                     [key], {});\n",
              "          if (!dataTable) return;\n",
              "\n",
              "          const docLinkHtml = 'Like what you see? Visit the ' +\n",
              "            '<a target=\"_blank\" href=https://colab.research.google.com/notebooks/data_table.ipynb>data table notebook</a>'\n",
              "            + ' to learn more about interactive tables.';\n",
              "          element.innerHTML = '';\n",
              "          dataTable['output_type'] = 'display_data';\n",
              "          await google.colab.output.renderOutput(dataTable, element);\n",
              "          const docLink = document.createElement('div');\n",
              "          docLink.innerHTML = docLinkHtml;\n",
              "          element.appendChild(docLink);\n",
              "        }\n",
              "      </script>\n",
              "    </div>\n",
              "  </div>\n",
              "  "
            ]
          },
          "metadata": {},
          "execution_count": 77
        }
      ]
    },
    {
      "cell_type": "code",
      "source": [
        "data_copy = data_copy[data_copy['sentimen']!='negative']"
      ],
      "metadata": {
        "id": "RPO76rTEMG-0"
      },
      "execution_count": 79,
      "outputs": []
    },
    {
      "cell_type": "markdown",
      "source": [
        "# 4 - Exploratory Data Analysis (EDA)"
      ],
      "metadata": {
        "id": "7ci155HVabAc"
      }
    },
    {
      "cell_type": "code",
      "source": [
        "data_copy['sentimen'].value_counts()"
      ],
      "metadata": {
        "colab": {
          "base_uri": "https://localhost:8080/"
        },
        "id": "uFyMAn-CaWGh",
        "outputId": "5336b82f-5869-497e-82b5-c6f9b0e547d8"
      },
      "execution_count": 80,
      "outputs": [
        {
          "output_type": "execute_result",
          "data": {
            "text/plain": [
              "Positive    6218\n",
              "Negative    5764\n",
              "Neutral     1962\n",
              "Name: sentimen, dtype: int64"
            ]
          },
          "metadata": {},
          "execution_count": 80
        }
      ]
    },
    {
      "cell_type": "code",
      "source": [
        "f,ax=plt.subplots(1,2,figsize=(16,6))\n",
        "data_copy['sentimen'].value_counts().plot.pie(autopct='%1.1f%%',ax=ax[0],shadow=True)\n",
        "ax[1].set_title('Count of Text Sentiment')\n",
        "ax[0].set_title('Count of text_sentiment')\n",
        "ax[0].set_ylabel('')\n",
        "sns.countplot('sentimen',data=data,ax=ax[1], palette = 'viridis')\n",
        "ax[1].set_title('Count of text_sentiment')\n",
        "plt.show()"
      ],
      "metadata": {
        "colab": {
          "base_uri": "https://localhost:8080/",
          "height": 404
        },
        "id": "ua2NeqoWaf6k",
        "outputId": "3636ae90-b98e-4221-ccb2-4e17ce83a810"
      },
      "execution_count": 81,
      "outputs": [
        {
          "output_type": "display_data",
          "data": {
            "text/plain": [
              "<Figure size 1152x432 with 2 Axes>"
            ],
            "image/png": "[encoded data removed]"
          },
          "metadata": {
            "needs_background": "light"
          }
        }
      ]
    },
    {
      "cell_type": "markdown",
      "source": [
        "# 5 - Data Preprocessing"
      ],
      "metadata": {
        "id": "yiKVK4Hcby8X"
      }
    },
    {
      "cell_type": "markdown",
      "source": [
        "## Clean text\n"
      ],
      "metadata": {
        "id": "q6tpReCMb0U8"
      }
    },
    {
      "cell_type": "markdown",
      "source": [
        "In this Natural Language Program, the data is tabular which contains text and sentiment labels. The text will be cleaned of annoying noise such as punctuation marks, numbers, special words, links, and others. So below I will do data cleaning."
      ],
      "metadata": {
        "id": "VIKTOZe2b3st"
      }
    },
    {
      "cell_type": "code",
      "source": [
        "# let's take a sample one text\n",
        "data_copy['text'][5000]\n"
      ],
      "metadata": {
        "colab": {
          "base_uri": "https://localhost:8080/",
          "height": 35
        },
        "id": "wtPMc6jIbzOJ",
        "outputId": "fb2a4968-0fb3-43c3-9341-b1e0b8802288"
      },
      "execution_count": 86,
      "outputs": [
        {
          "output_type": "execute_result",
          "data": {
            "text/plain": [
              "'Kita perlu yakin kepada kewibawaan SPRM untuk menyelesaikan tanggungjawab mereka dan saya percaya kalau ada kes, kes tersebut akan diserahkan kepada pihak Peguam Negara.'"
            ],
            "application/vnd.google.colaboratory.intrinsic+json": {
              "type": "string"
            }
          },
          "metadata": {},
          "execution_count": 86
        }
      ]
    },
    {
      "cell_type": "code",
      "source": [
        "def clean_text(text):\n",
        "  '''\n",
        "  DESCRIPTION:\n",
        "  This function to clean text \n",
        "  INPUT: \n",
        "  text: string\n",
        "  OUTPUT: \n",
        "  text: string after clean it\n",
        "  ''' \n",
        "  text = text.lower() # convert letters to lower case\n",
        "  text = re.sub(\"@[A-Za-z0-9_]+\",\" \", text) #r emove mention\n",
        "  text = re.sub(\"#[A-Za-z0-9_]+\",\" \", text) # remove hashtag\n",
        "  text = re.sub(r\"\\\\n\",\" \",text) # remove \\n or enter\n",
        "  text = re.sub(\"[^a-zA-Z]\", \" \", text) # remove non-letters\n",
        "  text = re.sub(r'\\d+', '', text) # remove number\n",
        "  text = re.sub(r'http\\S+', '', text) # remove links\n",
        "  text = re.sub(r\"www.\\S+\", \" \", text) # remove link\n",
        "  text = re.sub(\"rt\",\" \",text) # remove RT\n",
        "  text = text.translate(str.maketrans('','', string.punctuation)) # remove punctuation\n",
        "  text = re.sub(' +', ' ',text) # remove extra space\n",
        "  text = text.strip() # remove whitespaces\n",
        "\n",
        "  # remove stopwords\n",
        "  stpwds_id = list(set(stopwords.words('indonesian')))\n",
        "  stpwds_id.append('oh')\n",
        "\n",
        "  tokens = word_tokenize(text)\n",
        "\n",
        "  text = ' '.join([word for word in tokens if word not in stpwds_id])\n",
        "\n",
        "  # Stemming\n",
        "  factory = StemmerFactory()\n",
        "  stemmer = factory.create_stemmer()\n",
        "  text = stemmer.stem(text)\n",
        "\n",
        "  return text"
      ],
      "metadata": {
        "id": "dD9iveURb7J-"
      },
      "execution_count": 83,
      "outputs": []
    },
    {
      "cell_type": "markdown",
      "source": [
        "- Create functions with regex to convert letters to lowercase, remove numbers, punctuation marks, special words, links, stickers and others. so that the machine can read a text one by one word from a sentence which later the word is converted into numbers.\n",
        "\n",
        "- Then use stopwords, which is to eliminate affixes that often appear in English if the machine doesn't need to train it or you could say it reduces words to make the machine work more efficiently.\n",
        "\n",
        "- After removing noise by regex and reducing words with stopwords, word tokenize is done to make a sentence into a vector per word.\n",
        "\n",
        "- And be a function for cleaning text that serves to add results from training data created by deep learning models."
      ],
      "metadata": {
        "id": "SJ7s4znBcJKv"
      }
    },
    {
      "cell_type": "code",
      "source": [
        "%%time\n",
        "# The cleaning function applied in all reviews\n",
        "data_copy['text_processed'] = data_copy['text'].apply(lambda x: clean_text(x))\n"
      ],
      "metadata": {
        "colab": {
          "base_uri": "https://localhost:8080/"
        },
        "id": "OHVZiENRcEEw",
        "outputId": "0d3a5a4b-91ac-4c80-944c-c5c03d373d3f"
      },
      "execution_count": 84,
      "outputs": [
        {
          "output_type": "stream",
          "name": "stdout",
          "text": [
            "CPU times: user 1min 47s, sys: 1.57 s, total: 1min 49s\n",
            "Wall time: 1min 48s\n"
          ]
        }
      ]
    },
    {
      "cell_type": "markdown",
      "source": [
        "Apply function to dataset"
      ],
      "metadata": {
        "id": "GhGNJ0MzcQj_"
      }
    },
    {
      "cell_type": "code",
      "source": [
        "data_copy['text_processed'][5000]"
      ],
      "metadata": {
        "colab": {
          "base_uri": "https://localhost:8080/",
          "height": 35
        },
        "id": "2Zf2mz3GcKhh",
        "outputId": "31755828-e4f2-4788-e00f-6b70a746f1d2"
      },
      "execution_count": 87,
      "outputs": [
        {
          "output_type": "execute_result",
          "data": {
            "text/plain": [
              "'wibawa sprm selesai tanggungjawab percaya kes kes serah peguam negara'"
            ],
            "application/vnd.google.colaboratory.intrinsic+json": {
              "type": "string"
            }
          },
          "metadata": {},
          "execution_count": 87
        }
      ]
    },
    {
      "cell_type": "markdown",
      "source": [
        "Well all text it should be clean from regex, and stopwords library."
      ],
      "metadata": {
        "id": "0-4N0ZO4cT9t"
      }
    },
    {
      "cell_type": "code",
      "source": [
        "data_copy.sentimen.unique()"
      ],
      "metadata": {
        "colab": {
          "base_uri": "https://localhost:8080/"
        },
        "id": "ZblY9UYzcMv2",
        "outputId": "c1c2b28e-d04c-401e-9ab7-fdd818285857"
      },
      "execution_count": 88,
      "outputs": [
        {
          "output_type": "execute_result",
          "data": {
            "text/plain": [
              "array(['Positive', 'Neutral', 'Negative'], dtype=object)"
            ]
          },
          "metadata": {},
          "execution_count": 88
        }
      ]
    },
    {
      "cell_type": "code",
      "source": [
        "data_copy['label'] = data_copy['sentimen'].replace({'Neutral' : 0, 'Negative' : 1, 'Positive' : 2})\n",
        "data_copy"
      ],
      "metadata": {
        "colab": {
          "base_uri": "https://localhost:8080/",
          "height": 423
        },
        "id": "LWCSY5iScZWG",
        "outputId": "87aa7fcb-6e57-4697-c086-3fb3a9d56d7c"
      },
      "execution_count": 89,
      "outputs": [
        {
          "output_type": "execute_result",
          "data": {
            "text/plain": [
              "       sentimen                                               text  \\\n",
              "0      Positive  |@PrincessSuperC Hai Cici tersayang! Cuma mau ...   \n",
              "1      Positive  |@Msdebramaye Saya mendengar tentang kontes it...   \n",
              "2      Positive  |UNC!!! Pemenang NCAA!! Franklin St.: I ADA DI...   \n",
              "3      Positive  |@DivHumas_Polri: Hoax dan Ujaran Kebencian da...   \n",
              "4      Positive  |@DivHumas_Polri: Polri : Reuni 212 Berjalan K...   \n",
              "...         ...                                                ...   \n",
              "13941   Neutral  Semoga KTT luar biasa memberikan manfaat bg In...   \n",
              "13942  Negative  1. Corona sudah menyerang di berbagai Negative...   \n",
              "13943  Positive  Sudah sampai kabupaten sebelah kawan... Mari k...   \n",
              "13944   Neutral  Berharap pemerintah Indonesia segara menutup p...   \n",
              "13945  Positive  Apapun agama dan kepercayaanmu, sblum tidur, y...   \n",
              "\n",
              "                                          text_processed  label  \n",
              "0      hai cici sayang memberitaukan cinta kunjung ce...      2  \n",
              "1                            dengar kontes selamat teman      2  \n",
              "2      unc menang ncaa franklin st i sana seru baik h...      2  \n",
              "3      hoax ujar benci ancam satu lapor janban sebar ...      2  \n",
              "4               polri reuni jalan kondusif t co dxwujk g      2  \n",
              "...                                                  ...    ...  \n",
              "13941  moga ktt manfaat bg indonesia dlm bentuk ringa...      0  \n",
              "13942  corona serang negativeara perintah indonesia r...      1  \n",
              "13943  kabupaten belah kawan mari terap sosial distan...      2  \n",
              "13944  harap perintah indonesia segara tutup terbang ...      0  \n",
              "13945  apa agama percaya sblum tidur yuk doa yg prwat...      2  \n",
              "\n",
              "[13944 rows x 4 columns]"
            ],
            "text/html": [
              "\n",
              "  <div id=\"df-0ad51f88-f801-4081-bf72-804255610afe\">\n",
              "    <div class=\"colab-df-container\">\n",
              "      <div>\n",
              "<style scoped>\n",
              "    .dataframe tbody tr th:only-of-type {\n",
              "        vertical-align: middle;\n",
              "    }\n",
              "\n",
              "    .dataframe tbody tr th {\n",
              "        vertical-align: top;\n",
              "    }\n",
              "\n",
              "    .dataframe thead th {\n",
              "        text-align: right;\n",
              "    }\n",
              "</style>\n",
              "<table border=\"1\" class=\"dataframe\">\n",
              "  <thead>\n",
              "    <tr style=\"text-align: right;\">\n",
              "      <th></th>\n",
              "      <th>sentimen</th>\n",
              "      <th>text</th>\n",
              "      <th>text_processed</th>\n",
              "      <th>label</th>\n",
              "    </tr>\n",
              "  </thead>\n",
              "  <tbody>\n",
              "    <tr>\n",
              "      <th>0</th>\n",
              "      <td>Positive</td>\n",
              "      <td>|@PrincessSuperC Hai Cici tersayang! Cuma mau ...</td>\n",
              "      <td>hai cici sayang memberitaukan cinta kunjung ce...</td>\n",
              "      <td>2</td>\n",
              "    </tr>\n",
              "    <tr>\n",
              "      <th>1</th>\n",
              "      <td>Positive</td>\n",
              "      <td>|@Msdebramaye Saya mendengar tentang kontes it...</td>\n",
              "      <td>dengar kontes selamat teman</td>\n",
              "      <td>2</td>\n",
              "    </tr>\n",
              "    <tr>\n",
              "      <th>2</th>\n",
              "      <td>Positive</td>\n",
              "      <td>|UNC!!! Pemenang NCAA!! Franklin St.: I ADA DI...</td>\n",
              "      <td>unc menang ncaa franklin st i sana seru baik h...</td>\n",
              "      <td>2</td>\n",
              "    </tr>\n",
              "    <tr>\n",
              "      <th>3</th>\n",
              "      <td>Positive</td>\n",
              "      <td>|@DivHumas_Polri: Hoax dan Ujaran Kebencian da...</td>\n",
              "      <td>hoax ujar benci ancam satu lapor janban sebar ...</td>\n",
              "      <td>2</td>\n",
              "    </tr>\n",
              "    <tr>\n",
              "      <th>4</th>\n",
              "      <td>Positive</td>\n",
              "      <td>|@DivHumas_Polri: Polri : Reuni 212 Berjalan K...</td>\n",
              "      <td>polri reuni jalan kondusif t co dxwujk g</td>\n",
              "      <td>2</td>\n",
              "    </tr>\n",
              "    <tr>\n",
              "      <th>...</th>\n",
              "      <td>...</td>\n",
              "      <td>...</td>\n",
              "      <td>...</td>\n",
              "      <td>...</td>\n",
              "    </tr>\n",
              "    <tr>\n",
              "      <th>13941</th>\n",
              "      <td>Neutral</td>\n",
              "      <td>Semoga KTT luar biasa memberikan manfaat bg In...</td>\n",
              "      <td>moga ktt manfaat bg indonesia dlm bentuk ringa...</td>\n",
              "      <td>0</td>\n",
              "    </tr>\n",
              "    <tr>\n",
              "      <th>13942</th>\n",
              "      <td>Negative</td>\n",
              "      <td>1. Corona sudah menyerang di berbagai Negative...</td>\n",
              "      <td>corona serang negativeara perintah indonesia r...</td>\n",
              "      <td>1</td>\n",
              "    </tr>\n",
              "    <tr>\n",
              "      <th>13943</th>\n",
              "      <td>Positive</td>\n",
              "      <td>Sudah sampai kabupaten sebelah kawan... Mari k...</td>\n",
              "      <td>kabupaten belah kawan mari terap sosial distan...</td>\n",
              "      <td>2</td>\n",
              "    </tr>\n",
              "    <tr>\n",
              "      <th>13944</th>\n",
              "      <td>Neutral</td>\n",
              "      <td>Berharap pemerintah Indonesia segara menutup p...</td>\n",
              "      <td>harap perintah indonesia segara tutup terbang ...</td>\n",
              "      <td>0</td>\n",
              "    </tr>\n",
              "    <tr>\n",
              "      <th>13945</th>\n",
              "      <td>Positive</td>\n",
              "      <td>Apapun agama dan kepercayaanmu, sblum tidur, y...</td>\n",
              "      <td>apa agama percaya sblum tidur yuk doa yg prwat...</td>\n",
              "      <td>2</td>\n",
              "    </tr>\n",
              "  </tbody>\n",
              "</table>\n",
              "<p>13944 rows × 4 columns</p>\n",
              "</div>\n",
              "      <button class=\"colab-df-convert\" onclick=\"convertToInteractive('df-0ad51f88-f801-4081-bf72-804255610afe')\"\n",
              "              title=\"Convert this dataframe to an interactive table.\"\n",
              "              style=\"display:none;\">\n",
              "        \n",
              "  <svg xmlns=\"http://www.w3.org/2000/svg\" height=\"24px\"viewBox=\"0 0 24 24\"\n",
              "       width=\"24px\">\n",
              "    <path d=\"M0 0h24v24H0V0z\" fill=\"none\"/>\n",
              "    <path d=\"M18.56 5.44l.94 2.06.94-2.06 2.06-.94-2.06-.94-.94-2.06-.94 2.06-2.06.94zm-11 1L8.5 8.5l.94-2.06 2.06-.94-2.06-.94L8.5 2.5l-.94 2.06-2.06.94zm10 10l.94 2.06.94-2.06 2.06-.94-2.06-.94-.94-2.06-.94 2.06-2.06.94z\"/><path d=\"M17.41 7.96l-1.37-1.37c-.4-.4-.92-.59-1.43-.59-.52 0-1.04.2-1.43.59L10.3 9.45l-7.72 7.72c-.78.78-.78 2.05 0 2.83L4 21.41c.39.39.9.59 1.41.59.51 0 1.02-.2 1.41-.59l7.78-7.78 2.81-2.81c.8-.78.8-2.07 0-2.86zM5.41 20L4 18.59l7.72-7.72 1.47 1.35L5.41 20z\"/>\n",
              "  </svg>\n",
              "      </button>\n",
              "      \n",
              "  <style>\n",
              "    .colab-df-container {\n",
              "      display:flex;\n",
              "      flex-wrap:wrap;\n",
              "      gap: 12px;\n",
              "    }\n",
              "\n",
              "    .colab-df-convert {\n",
              "      background-color: #E8F0FE;\n",
              "      border: none;\n",
              "      border-radius: 50%;\n",
              "      cursor: pointer;\n",
              "      display: none;\n",
              "      fill: #1967D2;\n",
              "      height: 32px;\n",
              "      padding: 0 0 0 0;\n",
              "      width: 32px;\n",
              "    }\n",
              "\n",
              "    .colab-df-convert:hover {\n",
              "      background-color: #E2EBFA;\n",
              "      box-shadow: 0px 1px 2px rgba(60, 64, 67, 0.3), 0px 1px 3px 1px rgba(60, 64, 67, 0.15);\n",
              "      fill: #174EA6;\n",
              "    }\n",
              "\n",
              "    [theme=dark] .colab-df-convert {\n",
              "      background-color: #3B4455;\n",
              "      fill: #D2E3FC;\n",
              "    }\n",
              "\n",
              "    [theme=dark] .colab-df-convert:hover {\n",
              "      background-color: #434B5C;\n",
              "      box-shadow: 0px 1px 3px 1px rgba(0, 0, 0, 0.15);\n",
              "      filter: drop-shadow(0px 1px 2px rgba(0, 0, 0, 0.3));\n",
              "      fill: #FFFFFF;\n",
              "    }\n",
              "  </style>\n",
              "\n",
              "      <script>\n",
              "        const buttonEl =\n",
              "          document.querySelector('#df-0ad51f88-f801-4081-bf72-804255610afe button.colab-df-convert');\n",
              "        buttonEl.style.display =\n",
              "          google.colab.kernel.accessAllowed ? 'block' : 'none';\n",
              "\n",
              "        async function convertToInteractive(key) {\n",
              "          const element = document.querySelector('#df-0ad51f88-f801-4081-bf72-804255610afe');\n",
              "          const dataTable =\n",
              "            await google.colab.kernel.invokeFunction('convertToInteractive',\n",
              "                                                     [key], {});\n",
              "          if (!dataTable) return;\n",
              "\n",
              "          const docLinkHtml = 'Like what you see? Visit the ' +\n",
              "            '<a target=\"_blank\" href=https://colab.research.google.com/notebooks/data_table.ipynb>data table notebook</a>'\n",
              "            + ' to learn more about interactive tables.';\n",
              "          element.innerHTML = '';\n",
              "          dataTable['output_type'] = 'display_data';\n",
              "          await google.colab.output.renderOutput(dataTable, element);\n",
              "          const docLink = document.createElement('div');\n",
              "          docLink.innerHTML = docLinkHtml;\n",
              "          element.appendChild(docLink);\n",
              "        }\n",
              "      </script>\n",
              "    </div>\n",
              "  </div>\n",
              "  "
            ]
          },
          "metadata": {},
          "execution_count": 89
        }
      ]
    },
    {
      "cell_type": "markdown",
      "source": [
        "Replace the label be a numeric from categorical:\n",
        "- Neutral = 0\n",
        "- Negative = 1\n",
        "- Positive = 2\n"
      ],
      "metadata": {
        "id": "6nIfnoBocuAB"
      }
    },
    {
      "cell_type": "markdown",
      "source": [
        "## Splitting Dataset"
      ],
      "metadata": {
        "id": "eBh3LEjGcv7Q"
      }
    },
    {
      "cell_type": "code",
      "source": [
        "# random state\n",
        "random_state=5\n",
        "\n",
        "# Splitting dataset\n",
        "X_train_full, X_test,  y_train_full, y_test = train_test_split(data_copy.text_processed,\n",
        "                                                               data_copy.label,\n",
        "                                                               test_size=0.2, random_state=random_state)\n",
        "\n",
        "X_train, X_val, y_train, y_val = train_test_split(X_train_full,\n",
        "                                                  y_train_full,\n",
        "                                                  test_size=0.33, random_state=random_state)\n",
        "\n",
        "print(\"Training data shape: {}\".format(X_train.shape))\n",
        "print(\"Validation data shape: {}\".format(X_val.shape))\n",
        "print(\"Testing data shape: {}\".format(X_test.shape))"
      ],
      "metadata": {
        "colab": {
          "base_uri": "https://localhost:8080/"
        },
        "id": "XjbdbPJrcoBi",
        "outputId": "9d685f39-aa12-4300-e5d3-73b4c6201184"
      },
      "execution_count": 90,
      "outputs": [
        {
          "output_type": "stream",
          "name": "stdout",
          "text": [
            "Training data shape: (7473,)\n",
            "Validation data shape: (3682,)\n",
            "Testing data shape: (2789,)\n"
          ]
        }
      ]
    },
    {
      "cell_type": "code",
      "source": [
        "ros = RandomOverSampler()\n",
        "X_train_balanced, y_train_balanced = ros.fit_resample(np.array(X_train).reshape(-1, 1), np.array(y_train).reshape(-1, 1));\n",
        "X_val_balanced, y_val_balanced = ros.fit_resample(np.array(X_val).reshape(-1, 1), np.array(y_val).reshape(-1, 1));\n",
        "\n",
        "print('X_train shape berfore oversampling :', X_train.shape)\n",
        "print('y_train shape berfore oversampling :', y_train.shape)\n",
        "print('X_val shape berfore oversampling   :', X_val.shape)\n",
        "print('y_val shape berfore oversampling   :', y_val.shape)"
      ],
      "metadata": {
        "colab": {
          "base_uri": "https://localhost:8080/"
        },
        "id": "d8GuMN2ou9f3",
        "outputId": "433fb350-1d99-499a-e45d-16926b91d5b9"
      },
      "execution_count": 91,
      "outputs": [
        {
          "output_type": "stream",
          "name": "stdout",
          "text": [
            "X_train shape berfore oversampling : (7473,)\n",
            "y_train shape berfore oversampling : (7473,)\n",
            "X_val shape berfore oversampling   : (3682,)\n",
            "y_val shape berfore oversampling   : (3682,)\n"
          ]
        }
      ]
    },
    {
      "cell_type": "code",
      "source": [
        "# print shape after oversampling\n",
        "print('X_train_balanced shape after oversampling:', X_train_balanced.shape)\n",
        "print('y_train_balanced shape after oversampling:', y_train_balanced.shape)\n",
        "print('X_val_balanced shape after oversampling:', X_val_balanced.shape)\n",
        "print('y_val_balanced shape after oversampling:', y_val_balanced.shape)"
      ],
      "metadata": {
        "colab": {
          "base_uri": "https://localhost:8080/"
        },
        "id": "_unbh-caw6Dv",
        "outputId": "55d2f68a-c8c0-4131-f777-c10135c517e8"
      },
      "execution_count": 92,
      "outputs": [
        {
          "output_type": "stream",
          "name": "stdout",
          "text": [
            "X_train_balanced shape after oversampling: (9900, 1)\n",
            "y_train_balanced shape after oversampling: (9900,)\n",
            "X_val_balanced shape after oversampling: (4977, 1)\n",
            "y_val_balanced shape after oversampling: (4977,)\n"
          ]
        }
      ]
    },
    {
      "cell_type": "markdown",
      "source": [
        "## Embedding Layer in Deep Learning with Tensorflow"
      ],
      "metadata": {
        "id": "5PUVpYBLdd2q"
      }
    },
    {
      "cell_type": "code",
      "source": [
        "# Want to know how many vocab and maximum words in a text\n",
        "total_vocab = len(Vectorize.vocabulary_.keys())\n",
        "max_sen_len = max([len(i.split(\" \")) for i in X_train])\n",
        "\n",
        "print(\"Length vocab:\",total_vocab)\n",
        "print(\"Length Maximum Text:\",max_sen_len,\"words\")"
      ],
      "metadata": {
        "colab": {
          "base_uri": "https://localhost:8080/"
        },
        "id": "WfLvI77YdZ1O",
        "outputId": "77577c8a-38c2-40a3-c34a-16934f937dd4"
      },
      "execution_count": 94,
      "outputs": [
        {
          "output_type": "stream",
          "name": "stdout",
          "text": [
            "Length vocab: 2059\n",
            "Length Maximum Text: 67 words\n"
          ]
        }
      ]
    },
    {
      "cell_type": "markdown",
      "source": [
        "- Want to know size of total vocabulary that will be to input shape in model definition\n",
        "- Well there is 2559 vocabulary in dataset and theres 33  words in one text in the dataset."
      ],
      "metadata": {
        "id": "pnRzcGySdhYj"
      }
    },
    {
      "cell_type": "code",
      "source": [
        "# define vocab than convert to numeric\n",
        "text_vectorization = TextVectorization(max_tokens=total_vocab,\n",
        "                                       standardize=\"lower_and_strip_punctuation\",\n",
        "                                       split=\"whitespace\",\n",
        "                                       ngrams=None,\n",
        "                                       output_mode=\"int\",\n",
        "                                       output_sequence_length=max_sen_len,\n",
        "                                       input_shape=(1,) # if i want to use sequential API\n",
        "                                       )\n",
        "\n",
        "text_vectorization.adapt(X_train) # adapt looks like fit"
      ],
      "metadata": {
        "id": "qPfLd3zsdfCq"
      },
      "execution_count": 95,
      "outputs": []
    },
    {
      "cell_type": "code",
      "source": [
        "# let's check the result vectorization\n",
        "data_copy.text_processed[12121]"
      ],
      "metadata": {
        "colab": {
          "base_uri": "https://localhost:8080/",
          "height": 35
        },
        "id": "ch2TwyPedqGg",
        "outputId": "56f995ea-cc50-48ec-d0cd-552c165b6cdf"
      },
      "execution_count": 97,
      "outputs": [
        {
          "output_type": "execute_result",
          "data": {
            "text/plain": [
              "'sdr perintah tni polri media sdng focus putus rantai tular covid saran sy sdr baik bekerjasamalah dgn dgn elemen negativeara utk putus tular covid indonesia'"
            ],
            "application/vnd.google.colaboratory.intrinsic+json": {
              "type": "string"
            }
          },
          "metadata": {},
          "execution_count": 97
        }
      ]
    },
    {
      "cell_type": "code",
      "source": [
        "# after convert it\n",
        "text_vectorization([data_copy.text_processed[0]])"
      ],
      "metadata": {
        "colab": {
          "base_uri": "https://localhost:8080/"
        },
        "id": "Ehp-UwBpdrQ1",
        "outputId": "dc388002-b42f-41c1-b7a7-b203ff170bf8"
      },
      "execution_count": 98,
      "outputs": [
        {
          "output_type": "execute_result",
          "data": {
            "text/plain": [
              "<tf.Tensor: shape=(1, 67), dtype=int64, numpy=\n",
              "array([[   1,    1,  533,    1,  725, 1439,  185,    1,    1, 1570,    0,\n",
              "           0,    0,    0,    0,    0,    0,    0,    0,    0,    0,    0,\n",
              "           0,    0,    0,    0,    0,    0,    0,    0,    0,    0,    0,\n",
              "           0,    0,    0,    0,    0,    0,    0,    0,    0,    0,    0,\n",
              "           0,    0,    0,    0,    0,    0,    0,    0,    0,    0,    0,\n",
              "           0,    0,    0,    0,    0,    0,    0,    0,    0,    0,    0,\n",
              "           0]])>"
            ]
          },
          "metadata": {},
          "execution_count": 98
        }
      ]
    },
    {
      "cell_type": "code",
      "source": [
        "# Change the numerical to weight with embedding\n",
        "embedding = Embedding(input_dim=total_vocab,\n",
        "                      output_dim=256,\n",
        "                      embeddings_initializer=\"uniform\",\n",
        "                      input_length=max_sen_len\n",
        "                      )"
      ],
      "metadata": {
        "id": "jlspho18dsse"
      },
      "execution_count": 99,
      "outputs": []
    },
    {
      "cell_type": "code",
      "source": [
        "# see the result\n",
        "emb_res = embedding(text_vectorization([data_copy.text_processed[50]]))\n",
        "emb_res"
      ],
      "metadata": {
        "colab": {
          "base_uri": "https://localhost:8080/"
        },
        "id": "P9hPD1q6dt07",
        "outputId": "0da9cfa3-24fb-41fb-eee3-6ba704e2d256"
      },
      "execution_count": 100,
      "outputs": [
        {
          "output_type": "execute_result",
          "data": {
            "text/plain": [
              "<tf.Tensor: shape=(1, 67, 256), dtype=float32, numpy=\n",
              "array([[[-0.04181858, -0.00717924,  0.0276329 , ...,  0.01790755,\n",
              "          0.01362551,  0.04527469],\n",
              "        [ 0.02502057, -0.00849206,  0.01966036, ...,  0.04785338,\n",
              "         -0.03058391, -0.02618172],\n",
              "        [-0.00306284, -0.03073263, -0.00417976, ...,  0.01878656,\n",
              "         -0.00145379, -0.01121069],\n",
              "        ...,\n",
              "        [ 0.04200996, -0.02586603, -0.04366267, ...,  0.0448379 ,\n",
              "         -0.02886525, -0.00592061],\n",
              "        [ 0.04200996, -0.02586603, -0.04366267, ...,  0.0448379 ,\n",
              "         -0.02886525, -0.00592061],\n",
              "        [ 0.04200996, -0.02586603, -0.04366267, ...,  0.0448379 ,\n",
              "         -0.02886525, -0.00592061]]], dtype=float32)>"
            ]
          },
          "metadata": {},
          "execution_count": 100
        }
      ]
    },
    {
      "cell_type": "markdown",
      "source": [
        "Dataset has converted. Embedding looks like scaling in feature engineering. "
      ],
      "metadata": {
        "id": "Ed01dJz4dx7F"
      }
    },
    {
      "cell_type": "code",
      "source": [
        "# let's check weight word \"bulls\"\n",
        "emb_res[0][10]"
      ],
      "metadata": {
        "colab": {
          "base_uri": "https://localhost:8080/"
        },
        "id": "EyrPCny9dvAz",
        "outputId": "a3f977ba-04a4-4ba4-9ec9-41380dc30432"
      },
      "execution_count": 101,
      "outputs": [
        {
          "output_type": "execute_result",
          "data": {
            "text/plain": [
              "<tf.Tensor: shape=(256,), dtype=float32, numpy=\n",
              "array([ 0.00122008,  0.03954642, -0.02284892,  0.02267828, -0.0412886 ,\n",
              "       -0.03869846, -0.0371687 ,  0.01441881, -0.0343393 ,  0.0218263 ,\n",
              "        0.00154731, -0.04341732,  0.0322243 ,  0.04115373, -0.03265741,\n",
              "       -0.00947789, -0.04907118,  0.04014585, -0.01852617,  0.02275989,\n",
              "        0.01355273,  0.04051456,  0.04861584,  0.02533307,  0.02844546,\n",
              "        0.01379564,  0.0097808 ,  0.03306079,  0.02393867,  0.04150773,\n",
              "       -0.00572969, -0.00797009, -0.03834816, -0.03572985, -0.02517613,\n",
              "        0.00631214, -0.01538836, -0.04486803, -0.02786158,  0.04784994,\n",
              "        0.03359933, -0.04160787, -0.0214233 ,  0.0281121 , -0.01917952,\n",
              "        0.04841168,  0.01187217, -0.0009694 , -0.02563374, -0.04979267,\n",
              "        0.02135969, -0.04423647, -0.00548268, -0.04225801,  0.00301229,\n",
              "       -0.01829486,  0.02365687, -0.03737084,  0.03253884,  0.03520503,\n",
              "        0.0182194 , -0.038328  ,  0.02859956,  0.00451372,  0.02783861,\n",
              "        0.02242483, -0.0154588 ,  0.02788461, -0.00802691,  0.0411883 ,\n",
              "       -0.0369954 ,  0.01754235, -0.01979791, -0.0118084 ,  0.00989351,\n",
              "        0.02223407,  0.00562362,  0.01630013, -0.0482625 ,  0.03137204,\n",
              "       -0.01528735, -0.01304529, -0.03024117,  0.03478601, -0.02131442,\n",
              "       -0.00059322, -0.00931723,  0.04458766, -0.03682671, -0.00341632,\n",
              "       -0.00508074, -0.00265571,  0.0148623 , -0.02622067, -0.02649719,\n",
              "        0.04518712,  0.00371393, -0.03752019,  0.01474496, -0.0350493 ,\n",
              "       -0.03867459, -0.0404909 ,  0.01296603,  0.0368477 ,  0.04029224,\n",
              "       -0.01939025,  0.01673893,  0.01942476, -0.02808393, -0.00567075,\n",
              "        0.01086915,  0.03688768, -0.0369285 , -0.0278455 , -0.04838694,\n",
              "        0.00319425, -0.04128587, -0.04174485, -0.04324968, -0.01121335,\n",
              "       -0.0227798 , -0.02844874, -0.01297075, -0.02004432,  0.0036546 ,\n",
              "        0.03387985,  0.01043341,  0.00915847,  0.02183947,  0.00511165,\n",
              "       -0.04845369,  0.01348767, -0.00669347,  0.02248133,  0.03886184,\n",
              "       -0.02958384, -0.02574983,  0.01277295, -0.0358514 ,  0.00543922,\n",
              "       -0.00275608, -0.03530889,  0.03278111, -0.01948094,  0.0160207 ,\n",
              "        0.02972976,  0.03548113,  0.00687803, -0.03201778,  0.04478034,\n",
              "       -0.00509374,  0.01769347, -0.01887202,  0.02073069, -0.04839453,\n",
              "       -0.0300634 ,  0.01713258, -0.04024247, -0.02896793,  0.01164032,\n",
              "        0.02486607,  0.01648949,  0.01990714,  0.02022029,  0.00352724,\n",
              "        0.01847972,  0.01054274,  0.01936802,  0.00044993,  0.0417642 ,\n",
              "       -0.01697506,  0.03851878, -0.04852673,  0.0492483 , -0.04777447,\n",
              "       -0.01817684,  0.0123766 , -0.03952712,  0.02800903,  0.02972351,\n",
              "       -0.02187758, -0.01369351,  0.02884319,  0.04268629, -0.047746  ,\n",
              "        0.02429713, -0.00738971,  0.02798108, -0.02024674,  0.02942738,\n",
              "        0.03419996, -0.00301666,  0.03826547, -0.04063104,  0.02426774,\n",
              "        0.01291152, -0.03494366, -0.00275152, -0.0374648 , -0.01302468,\n",
              "        0.0056749 , -0.04128774,  0.03820581,  0.02471505,  0.04272964,\n",
              "        0.04107148, -0.04281248,  0.00871066, -0.02360382, -0.04229322,\n",
              "        0.03095447,  0.00808284, -0.03664377,  0.01926657, -0.02896344,\n",
              "        0.030836  ,  0.02024985,  0.00843252,  0.04755997,  0.04310903,\n",
              "        0.00176448,  0.00524694,  0.01834923, -0.0323283 ,  0.01010541,\n",
              "       -0.02012656, -0.03670248, -0.02607563,  0.04638575, -0.04852866,\n",
              "       -0.02118194,  0.01209465,  0.02492127, -0.02995951, -0.0066698 ,\n",
              "       -0.02983121,  0.04666665, -0.00347031, -0.02497673, -0.01902691,\n",
              "        0.04996135,  0.01705271, -0.00909338,  0.0035059 ,  0.02808192,\n",
              "       -0.01034391, -0.04289923,  0.00504048, -0.01613312,  0.02698878,\n",
              "        0.03850688,  0.04867362, -0.02360336, -0.04278673,  0.00039586,\n",
              "       -0.0141192 ], dtype=float32)>"
            ]
          },
          "metadata": {},
          "execution_count": 101
        }
      ]
    },
    {
      "cell_type": "markdown",
      "source": [
        "well define the weight with embedding for each word in 256 dimensions."
      ],
      "metadata": {
        "id": "6w6iLnnKd6-T"
      }
    },
    {
      "cell_type": "markdown",
      "source": [
        "## Get Dummies\n",
        "\n",
        "Before we modeling, we will do dummy the target, this is looks like onehotencoder with manual coding. Labels will be a features after dummy according to its uniqueness, if a certain line is detected, the label will contain a value of 1"
      ],
      "metadata": {
        "id": "k6_EBdIFeF4y"
      }
    },
    {
      "cell_type": "code",
      "source": [
        "# convert label\n",
        "y_train_ohe = to_categorical(y_train)\n",
        "y_val_ohe = to_categorical(y_val)\n",
        "y_train_balanced_ohe = to_categorical(y_train_balanced)\n",
        "y_val_balanced_ohe = to_categorical(y_val_balanced)\n",
        "\n",
        "y_test_ohe = to_categorical(y_test)\n",
        "\n",
        "y_train_ohe"
      ],
      "metadata": {
        "colab": {
          "base_uri": "https://localhost:8080/"
        },
        "id": "jSumFsEJdzz1",
        "outputId": "eaf2feaf-573c-41d2-adc7-e6e49b7ec1a9"
      },
      "execution_count": 102,
      "outputs": [
        {
          "output_type": "execute_result",
          "data": {
            "text/plain": [
              "array([[0., 1., 0.],\n",
              "       [1., 0., 0.],\n",
              "       [0., 1., 0.],\n",
              "       ...,\n",
              "       [1., 0., 0.],\n",
              "       [0., 0., 1.],\n",
              "       [0., 0., 1.]], dtype=float32)"
            ]
          },
          "metadata": {},
          "execution_count": 102
        }
      ]
    },
    {
      "cell_type": "markdown",
      "source": [
        "The result will be an array."
      ],
      "metadata": {
        "id": "FJPxGGXUeJmk"
      }
    },
    {
      "cell_type": "code",
      "source": [
        "# if we looks in dataframe will be like this\n",
        "pd.get_dummies(y_train)"
      ],
      "metadata": {
        "colab": {
          "base_uri": "https://localhost:8080/",
          "height": 423
        },
        "id": "2noJoJPYeHbS",
        "outputId": "8ce8828b-a51f-430b-ef34-31534779e28c"
      },
      "execution_count": 103,
      "outputs": [
        {
          "output_type": "execute_result",
          "data": {
            "text/plain": [
              "       0  1  2\n",
              "2432   0  1  0\n",
              "10516  1  0  0\n",
              "11430  0  1  0\n",
              "2500   0  1  0\n",
              "9923   0  1  0\n",
              "...   .. .. ..\n",
              "1548   0  1  0\n",
              "8837   0  0  1\n",
              "13064  1  0  0\n",
              "12815  0  0  1\n",
              "10964  0  0  1\n",
              "\n",
              "[7473 rows x 3 columns]"
            ],
            "text/html": [
              "\n",
              "  <div id=\"df-b9d82909-4dd8-453d-970c-49e7ae33bd08\">\n",
              "    <div class=\"colab-df-container\">\n",
              "      <div>\n",
              "<style scoped>\n",
              "    .dataframe tbody tr th:only-of-type {\n",
              "        vertical-align: middle;\n",
              "    }\n",
              "\n",
              "    .dataframe tbody tr th {\n",
              "        vertical-align: top;\n",
              "    }\n",
              "\n",
              "    .dataframe thead th {\n",
              "        text-align: right;\n",
              "    }\n",
              "</style>\n",
              "<table border=\"1\" class=\"dataframe\">\n",
              "  <thead>\n",
              "    <tr style=\"text-align: right;\">\n",
              "      <th></th>\n",
              "      <th>0</th>\n",
              "      <th>1</th>\n",
              "      <th>2</th>\n",
              "    </tr>\n",
              "  </thead>\n",
              "  <tbody>\n",
              "    <tr>\n",
              "      <th>2432</th>\n",
              "      <td>0</td>\n",
              "      <td>1</td>\n",
              "      <td>0</td>\n",
              "    </tr>\n",
              "    <tr>\n",
              "      <th>10516</th>\n",
              "      <td>1</td>\n",
              "      <td>0</td>\n",
              "      <td>0</td>\n",
              "    </tr>\n",
              "    <tr>\n",
              "      <th>11430</th>\n",
              "      <td>0</td>\n",
              "      <td>1</td>\n",
              "      <td>0</td>\n",
              "    </tr>\n",
              "    <tr>\n",
              "      <th>2500</th>\n",
              "      <td>0</td>\n",
              "      <td>1</td>\n",
              "      <td>0</td>\n",
              "    </tr>\n",
              "    <tr>\n",
              "      <th>9923</th>\n",
              "      <td>0</td>\n",
              "      <td>1</td>\n",
              "      <td>0</td>\n",
              "    </tr>\n",
              "    <tr>\n",
              "      <th>...</th>\n",
              "      <td>...</td>\n",
              "      <td>...</td>\n",
              "      <td>...</td>\n",
              "    </tr>\n",
              "    <tr>\n",
              "      <th>1548</th>\n",
              "      <td>0</td>\n",
              "      <td>1</td>\n",
              "      <td>0</td>\n",
              "    </tr>\n",
              "    <tr>\n",
              "      <th>8837</th>\n",
              "      <td>0</td>\n",
              "      <td>0</td>\n",
              "      <td>1</td>\n",
              "    </tr>\n",
              "    <tr>\n",
              "      <th>13064</th>\n",
              "      <td>1</td>\n",
              "      <td>0</td>\n",
              "      <td>0</td>\n",
              "    </tr>\n",
              "    <tr>\n",
              "      <th>12815</th>\n",
              "      <td>0</td>\n",
              "      <td>0</td>\n",
              "      <td>1</td>\n",
              "    </tr>\n",
              "    <tr>\n",
              "      <th>10964</th>\n",
              "      <td>0</td>\n",
              "      <td>0</td>\n",
              "      <td>1</td>\n",
              "    </tr>\n",
              "  </tbody>\n",
              "</table>\n",
              "<p>7473 rows × 3 columns</p>\n",
              "</div>\n",
              "      <button class=\"colab-df-convert\" onclick=\"convertToInteractive('df-b9d82909-4dd8-453d-970c-49e7ae33bd08')\"\n",
              "              title=\"Convert this dataframe to an interactive table.\"\n",
              "              style=\"display:none;\">\n",
              "        \n",
              "  <svg xmlns=\"http://www.w3.org/2000/svg\" height=\"24px\"viewBox=\"0 0 24 24\"\n",
              "       width=\"24px\">\n",
              "    <path d=\"M0 0h24v24H0V0z\" fill=\"none\"/>\n",
              "    <path d=\"M18.56 5.44l.94 2.06.94-2.06 2.06-.94-2.06-.94-.94-2.06-.94 2.06-2.06.94zm-11 1L8.5 8.5l.94-2.06 2.06-.94-2.06-.94L8.5 2.5l-.94 2.06-2.06.94zm10 10l.94 2.06.94-2.06 2.06-.94-2.06-.94-.94-2.06-.94 2.06-2.06.94z\"/><path d=\"M17.41 7.96l-1.37-1.37c-.4-.4-.92-.59-1.43-.59-.52 0-1.04.2-1.43.59L10.3 9.45l-7.72 7.72c-.78.78-.78 2.05 0 2.83L4 21.41c.39.39.9.59 1.41.59.51 0 1.02-.2 1.41-.59l7.78-7.78 2.81-2.81c.8-.78.8-2.07 0-2.86zM5.41 20L4 18.59l7.72-7.72 1.47 1.35L5.41 20z\"/>\n",
              "  </svg>\n",
              "      </button>\n",
              "      \n",
              "  <style>\n",
              "    .colab-df-container {\n",
              "      display:flex;\n",
              "      flex-wrap:wrap;\n",
              "      gap: 12px;\n",
              "    }\n",
              "\n",
              "    .colab-df-convert {\n",
              "      background-color: #E8F0FE;\n",
              "      border: none;\n",
              "      border-radius: 50%;\n",
              "      cursor: pointer;\n",
              "      display: none;\n",
              "      fill: #1967D2;\n",
              "      height: 32px;\n",
              "      padding: 0 0 0 0;\n",
              "      width: 32px;\n",
              "    }\n",
              "\n",
              "    .colab-df-convert:hover {\n",
              "      background-color: #E2EBFA;\n",
              "      box-shadow: 0px 1px 2px rgba(60, 64, 67, 0.3), 0px 1px 3px 1px rgba(60, 64, 67, 0.15);\n",
              "      fill: #174EA6;\n",
              "    }\n",
              "\n",
              "    [theme=dark] .colab-df-convert {\n",
              "      background-color: #3B4455;\n",
              "      fill: #D2E3FC;\n",
              "    }\n",
              "\n",
              "    [theme=dark] .colab-df-convert:hover {\n",
              "      background-color: #434B5C;\n",
              "      box-shadow: 0px 1px 3px 1px rgba(0, 0, 0, 0.15);\n",
              "      filter: drop-shadow(0px 1px 2px rgba(0, 0, 0, 0.3));\n",
              "      fill: #FFFFFF;\n",
              "    }\n",
              "  </style>\n",
              "\n",
              "      <script>\n",
              "        const buttonEl =\n",
              "          document.querySelector('#df-b9d82909-4dd8-453d-970c-49e7ae33bd08 button.colab-df-convert');\n",
              "        buttonEl.style.display =\n",
              "          google.colab.kernel.accessAllowed ? 'block' : 'none';\n",
              "\n",
              "        async function convertToInteractive(key) {\n",
              "          const element = document.querySelector('#df-b9d82909-4dd8-453d-970c-49e7ae33bd08');\n",
              "          const dataTable =\n",
              "            await google.colab.kernel.invokeFunction('convertToInteractive',\n",
              "                                                     [key], {});\n",
              "          if (!dataTable) return;\n",
              "\n",
              "          const docLinkHtml = 'Like what you see? Visit the ' +\n",
              "            '<a target=\"_blank\" href=https://colab.research.google.com/notebooks/data_table.ipynb>data table notebook</a>'\n",
              "            + ' to learn more about interactive tables.';\n",
              "          element.innerHTML = '';\n",
              "          dataTable['output_type'] = 'display_data';\n",
              "          await google.colab.output.renderOutput(dataTable, element);\n",
              "          const docLink = document.createElement('div');\n",
              "          docLink.innerHTML = docLinkHtml;\n",
              "          element.appendChild(docLink);\n",
              "        }\n",
              "      </script>\n",
              "    </div>\n",
              "  </div>\n",
              "  "
            ]
          },
          "metadata": {},
          "execution_count": 103
        }
      ]
    },
    {
      "cell_type": "markdown",
      "source": [
        "There are 3 uniques in column 'label' so will be define 3 features in dataframe."
      ],
      "metadata": {
        "id": "PaklrmMKeNYx"
      }
    },
    {
      "cell_type": "markdown",
      "source": [
        "# 6 - Model Training"
      ],
      "metadata": {
        "id": "niHvjNTvePAw"
      }
    },
    {
      "cell_type": "markdown",
      "source": [
        "## Model Gru"
      ],
      "metadata": {
        "id": "2fTazmbz3bQk"
      }
    },
    {
      "cell_type": "code",
      "source": [
        "model = Sequential()\n",
        "model.add(text_vectorization)\n",
        "model.add(embedding)\n",
        "model.add(GRU(32))\n",
        "model.add(Dense(3,activation='softmax'))\n",
        "\n",
        "model.compile(loss='categorical_crossentropy',optimizer='adam',metrics='accuracy')\n",
        "\n",
        "model_gru_hist_1 = model.fit(X_train_balanced,\n",
        "                         y_train_balanced_ohe,\n",
        "                         epochs=50,\n",
        "                         validation_data=(X_test, y_test_ohe))"
      ],
      "metadata": {
        "colab": {
          "base_uri": "https://localhost:8080/"
        },
        "id": "YlJHLRV8qIEn",
        "outputId": "63c6a968-c287-4559-9aba-a7145b23929c"
      },
      "execution_count": 104,
      "outputs": [
        {
          "output_type": "stream",
          "name": "stdout",
          "text": [
            "Epoch 1/50\n",
            "310/310 [==============================] - 6s 11ms/step - loss: 1.1010 - accuracy: 0.3264 - val_loss: 1.0974 - val_accuracy: 0.4052\n",
            "Epoch 2/50\n",
            "310/310 [==============================] - 2s 8ms/step - loss: 1.0996 - accuracy: 0.3264 - val_loss: 1.0930 - val_accuracy: 0.4052\n",
            "Epoch 3/50\n",
            "310/310 [==============================] - 2s 8ms/step - loss: 1.0993 - accuracy: 0.3219 - val_loss: 1.0924 - val_accuracy: 0.4052\n",
            "Epoch 4/50\n",
            "310/310 [==============================] - 2s 8ms/step - loss: 1.0990 - accuracy: 0.3375 - val_loss: 1.1045 - val_accuracy: 0.1434\n",
            "Epoch 5/50\n",
            "310/310 [==============================] - 2s 8ms/step - loss: 1.0991 - accuracy: 0.3218 - val_loss: 1.0974 - val_accuracy: 0.4052\n",
            "Epoch 6/50\n",
            "310/310 [==============================] - 2s 8ms/step - loss: 1.0990 - accuracy: 0.3252 - val_loss: 1.0971 - val_accuracy: 0.4052\n",
            "Epoch 7/50\n",
            "310/310 [==============================] - 2s 8ms/step - loss: 1.0986 - accuracy: 0.3397 - val_loss: 1.1157 - val_accuracy: 0.1434\n",
            "Epoch 8/50\n",
            "310/310 [==============================] - 2s 8ms/step - loss: 1.0987 - accuracy: 0.3406 - val_loss: 1.0903 - val_accuracy: 0.4514\n",
            "Epoch 9/50\n",
            "310/310 [==============================] - 2s 8ms/step - loss: 1.0988 - accuracy: 0.3351 - val_loss: 1.0948 - val_accuracy: 0.4514\n",
            "Epoch 10/50\n",
            "310/310 [==============================] - 2s 8ms/step - loss: 1.0988 - accuracy: 0.3298 - val_loss: 1.0989 - val_accuracy: 0.4052\n",
            "Epoch 11/50\n",
            "310/310 [==============================] - 2s 8ms/step - loss: 1.0987 - accuracy: 0.3295 - val_loss: 1.0947 - val_accuracy: 0.4052\n",
            "Epoch 12/50\n",
            "310/310 [==============================] - 2s 8ms/step - loss: 1.0988 - accuracy: 0.3354 - val_loss: 1.1028 - val_accuracy: 0.1434\n",
            "Epoch 13/50\n",
            "310/310 [==============================] - 2s 8ms/step - loss: 1.0987 - accuracy: 0.3353 - val_loss: 1.0996 - val_accuracy: 0.1434\n",
            "Epoch 14/50\n",
            "310/310 [==============================] - 2s 8ms/step - loss: 1.0989 - accuracy: 0.3300 - val_loss: 1.0960 - val_accuracy: 0.4052\n",
            "Epoch 15/50\n",
            "310/310 [==============================] - 2s 8ms/step - loss: 1.0988 - accuracy: 0.3201 - val_loss: 1.0967 - val_accuracy: 0.4514\n",
            "Epoch 16/50\n",
            "310/310 [==============================] - 2s 8ms/step - loss: 1.0987 - accuracy: 0.3280 - val_loss: 1.0973 - val_accuracy: 0.4514\n",
            "Epoch 17/50\n",
            "310/310 [==============================] - 2s 8ms/step - loss: 1.0987 - accuracy: 0.3292 - val_loss: 1.1034 - val_accuracy: 0.1434\n",
            "Epoch 18/50\n",
            "310/310 [==============================] - 2s 8ms/step - loss: 1.0987 - accuracy: 0.3336 - val_loss: 1.1011 - val_accuracy: 0.1434\n",
            "Epoch 19/50\n",
            "310/310 [==============================] - 2s 8ms/step - loss: 1.0987 - accuracy: 0.3254 - val_loss: 1.0992 - val_accuracy: 0.4052\n",
            "Epoch 20/50\n",
            "310/310 [==============================] - 2s 8ms/step - loss: 1.0987 - accuracy: 0.3306 - val_loss: 1.0986 - val_accuracy: 0.4514\n",
            "Epoch 21/50\n",
            "310/310 [==============================] - 2s 8ms/step - loss: 1.0987 - accuracy: 0.3265 - val_loss: 1.0987 - val_accuracy: 0.4052\n",
            "Epoch 22/50\n",
            "310/310 [==============================] - 2s 8ms/step - loss: 1.0986 - accuracy: 0.3334 - val_loss: 1.0973 - val_accuracy: 0.4514\n",
            "Epoch 23/50\n",
            "310/310 [==============================] - 2s 8ms/step - loss: 1.0987 - accuracy: 0.3259 - val_loss: 1.1006 - val_accuracy: 0.1434\n",
            "Epoch 24/50\n",
            "310/310 [==============================] - 2s 8ms/step - loss: 1.0987 - accuracy: 0.3405 - val_loss: 1.0973 - val_accuracy: 0.4514\n",
            "Epoch 25/50\n",
            "310/310 [==============================] - 2s 8ms/step - loss: 1.0987 - accuracy: 0.3322 - val_loss: 1.0948 - val_accuracy: 0.4052\n",
            "Epoch 26/50\n",
            "310/310 [==============================] - 2s 8ms/step - loss: 1.0987 - accuracy: 0.3236 - val_loss: 1.0968 - val_accuracy: 0.4514\n",
            "Epoch 27/50\n",
            "310/310 [==============================] - 2s 8ms/step - loss: 1.0986 - accuracy: 0.3272 - val_loss: 1.0972 - val_accuracy: 0.4514\n",
            "Epoch 28/50\n",
            "310/310 [==============================] - 2s 8ms/step - loss: 1.0989 - accuracy: 0.3314 - val_loss: 1.1025 - val_accuracy: 0.1434\n",
            "Epoch 29/50\n",
            "310/310 [==============================] - 2s 8ms/step - loss: 1.0987 - accuracy: 0.3358 - val_loss: 1.0966 - val_accuracy: 0.4514\n",
            "Epoch 30/50\n",
            "310/310 [==============================] - 2s 8ms/step - loss: 1.0987 - accuracy: 0.3313 - val_loss: 1.0996 - val_accuracy: 0.4052\n",
            "Epoch 31/50\n",
            "310/310 [==============================] - 3s 8ms/step - loss: 1.0987 - accuracy: 0.3159 - val_loss: 1.0991 - val_accuracy: 0.4052\n",
            "Epoch 32/50\n",
            "310/310 [==============================] - 2s 8ms/step - loss: 1.0986 - accuracy: 0.3316 - val_loss: 1.0977 - val_accuracy: 0.4514\n",
            "Epoch 33/50\n",
            "310/310 [==============================] - 2s 8ms/step - loss: 1.0987 - accuracy: 0.3309 - val_loss: 1.0975 - val_accuracy: 0.4514\n",
            "Epoch 34/50\n",
            "310/310 [==============================] - 2s 8ms/step - loss: 1.0986 - accuracy: 0.3253 - val_loss: 1.0985 - val_accuracy: 0.4052\n",
            "Epoch 35/50\n",
            "310/310 [==============================] - 2s 8ms/step - loss: 1.0987 - accuracy: 0.3290 - val_loss: 1.0984 - val_accuracy: 0.4052\n",
            "Epoch 36/50\n",
            "310/310 [==============================] - 2s 8ms/step - loss: 1.0986 - accuracy: 0.3297 - val_loss: 1.0966 - val_accuracy: 0.4514\n",
            "Epoch 37/50\n",
            "310/310 [==============================] - 2s 8ms/step - loss: 1.0987 - accuracy: 0.3366 - val_loss: 1.0909 - val_accuracy: 0.4052\n",
            "Epoch 38/50\n",
            "310/310 [==============================] - 2s 8ms/step - loss: 1.0987 - accuracy: 0.3224 - val_loss: 1.0980 - val_accuracy: 0.4514\n",
            "Epoch 39/50\n",
            "310/310 [==============================] - 2s 8ms/step - loss: 1.0987 - accuracy: 0.3280 - val_loss: 1.0992 - val_accuracy: 0.1434\n",
            "Epoch 40/50\n",
            "310/310 [==============================] - 2s 8ms/step - loss: 1.0987 - accuracy: 0.3323 - val_loss: 1.0981 - val_accuracy: 0.4052\n",
            "Epoch 41/50\n",
            "310/310 [==============================] - 2s 8ms/step - loss: 1.0989 - accuracy: 0.3176 - val_loss: 1.0996 - val_accuracy: 0.1434\n",
            "Epoch 42/50\n",
            "310/310 [==============================] - 2s 8ms/step - loss: 1.0987 - accuracy: 0.3247 - val_loss: 1.0989 - val_accuracy: 0.4514\n",
            "Epoch 43/50\n",
            "310/310 [==============================] - 2s 8ms/step - loss: 1.0986 - accuracy: 0.3270 - val_loss: 1.0974 - val_accuracy: 0.4052\n",
            "Epoch 44/50\n",
            "310/310 [==============================] - 2s 8ms/step - loss: 1.0987 - accuracy: 0.3345 - val_loss: 1.1003 - val_accuracy: 0.1434\n",
            "Epoch 45/50\n",
            "310/310 [==============================] - 2s 8ms/step - loss: 1.0987 - accuracy: 0.3293 - val_loss: 1.0996 - val_accuracy: 0.4052\n",
            "Epoch 46/50\n",
            "310/310 [==============================] - 2s 8ms/step - loss: 1.0986 - accuracy: 0.3367 - val_loss: 1.1002 - val_accuracy: 0.4514\n",
            "Epoch 47/50\n",
            "310/310 [==============================] - 2s 8ms/step - loss: 1.0987 - accuracy: 0.3282 - val_loss: 1.0972 - val_accuracy: 0.4052\n",
            "Epoch 48/50\n",
            "310/310 [==============================] - 2s 8ms/step - loss: 1.0987 - accuracy: 0.3270 - val_loss: 1.0987 - val_accuracy: 0.4052\n",
            "Epoch 49/50\n",
            "310/310 [==============================] - 2s 8ms/step - loss: 1.0986 - accuracy: 0.3283 - val_loss: 1.0978 - val_accuracy: 0.4514\n",
            "Epoch 50/50\n",
            "310/310 [==============================] - 2s 8ms/step - loss: 1.0987 - accuracy: 0.3327 - val_loss: 1.0971 - val_accuracy: 0.4514\n"
          ]
        }
      ]
    },
    {
      "cell_type": "code",
      "source": [
        "pd.DataFrame(model_gru_hist_1.history).plot(figsize=(8, 5))\n",
        "plt.grid(True)\n",
        "plt.gca().set_ylim(0, 10)\n",
        "plt.title(\"Learning Curves GRU Improvement\")\n",
        "plt.show()"
      ],
      "metadata": {
        "colab": {
          "base_uri": "https://localhost:8080/",
          "height": 336
        },
        "outputId": "539f0749-0981-4bb3-ba0f-4560e45dcd3d",
        "id": "e3I6CHIG0hoM"
      },
      "execution_count": 105,
      "outputs": [
        {
          "output_type": "display_data",
          "data": {
            "text/plain": [
              "<Figure size 576x360 with 1 Axes>"
            ],
            "image/png": "[encoded data removed]"
          },
          "metadata": {
            "needs_background": "light"
          }
        }
      ]
    },
    {
      "cell_type": "code",
      "source": [
        "model.evaluate(X_test, y_test_ohe, batch_size=64)"
      ],
      "metadata": {
        "colab": {
          "base_uri": "https://localhost:8080/"
        },
        "outputId": "75eedd4a-a5dc-4bec-ec19-27988f647eea",
        "id": "VXrTrqGm0hoN"
      },
      "execution_count": 106,
      "outputs": [
        {
          "output_type": "stream",
          "name": "stdout",
          "text": [
            "44/44 [==============================] - 0s 5ms/step - loss: 1.0971 - accuracy: 0.4514\n"
          ]
        },
        {
          "output_type": "execute_result",
          "data": {
            "text/plain": [
              "[1.0970852375030518, 0.4514162838459015]"
            ]
          },
          "metadata": {},
          "execution_count": 106
        }
      ]
    },
    {
      "cell_type": "code",
      "source": [
        "yp_seq_gru_imp = model.predict(X_test)\n",
        "yp_seq_gru_imp[:20]"
      ],
      "metadata": {
        "colab": {
          "base_uri": "https://localhost:8080/"
        },
        "outputId": "0cb2be68-8377-44c6-f677-995529df4491",
        "id": "xCir-Khx0hoO"
      },
      "execution_count": 107,
      "outputs": [
        {
          "output_type": "execute_result",
          "data": {
            "text/plain": [
              "array([[0.3319171 , 0.33155793, 0.33652493],\n",
              "       [0.3319171 , 0.33155793, 0.33652493],\n",
              "       [0.3319171 , 0.33155793, 0.33652493],\n",
              "       [0.3319171 , 0.33155793, 0.33652493],\n",
              "       [0.33191708, 0.33155793, 0.33652502],\n",
              "       [0.3319171 , 0.33155793, 0.33652493],\n",
              "       [0.3319171 , 0.33155793, 0.33652493],\n",
              "       [0.3319171 , 0.33155793, 0.33652493],\n",
              "       [0.3319171 , 0.33155793, 0.33652493],\n",
              "       [0.3319171 , 0.33155793, 0.33652493],\n",
              "       [0.3319171 , 0.33155793, 0.33652493],\n",
              "       [0.3319171 , 0.33155793, 0.33652493],\n",
              "       [0.3319171 , 0.33155793, 0.33652493],\n",
              "       [0.3319171 , 0.33155793, 0.33652493],\n",
              "       [0.3319171 , 0.33155793, 0.33652493],\n",
              "       [0.3319171 , 0.33155793, 0.33652493],\n",
              "       [0.3319171 , 0.33155793, 0.33652493],\n",
              "       [0.3319171 , 0.33155793, 0.33652493],\n",
              "       [0.3319171 , 0.33155793, 0.33652493],\n",
              "       [0.3319171 , 0.33155793, 0.33652493]], dtype=float32)"
            ]
          },
          "metadata": {},
          "execution_count": 107
        }
      ]
    },
    {
      "cell_type": "code",
      "source": [
        "# Test is the data right after splitting into train, test and val (shuffle was false in dataset so the order will match)\n",
        "# Classification report\n",
        "res_argmax_gru_imp = yp_seq_gru_imp.argmax(axis=1)\n",
        "print('Classification Report (Model Sequential Improvement LSTM)')\n",
        "print(classification_report(y_test, res_argmax_gru_imp, target_names=[\"Neutral\", \"Negative\", \"Positive\"]))"
      ],
      "metadata": {
        "colab": {
          "base_uri": "https://localhost:8080/"
        },
        "outputId": "2ea3e45e-0a3a-41a8-ac36-f8041ba9d2e7",
        "id": "J6iQbNNo0hoO"
      },
      "execution_count": 108,
      "outputs": [
        {
          "output_type": "stream",
          "name": "stdout",
          "text": [
            "Classification Report (Model Sequential Improvement LSTM)\n",
            "              precision    recall  f1-score   support\n",
            "\n",
            "     Neutral       0.00      0.00      0.00       400\n",
            "    Negative       0.00      0.00      0.00      1130\n",
            "    Positive       0.45      1.00      0.62      1259\n",
            "\n",
            "    accuracy                           0.45      2789\n",
            "   macro avg       0.15      0.33      0.21      2789\n",
            "weighted avg       0.20      0.45      0.28      2789\n",
            "\n"
          ]
        }
      ]
    },
    {
      "cell_type": "code",
      "source": [
        "cm = confusion_matrix(y_test, res_argmax_gru_imp)\n",
        "disp = ConfusionMatrixDisplay(confusion_matrix=cm)\n",
        "\n",
        "disp.plot()\n",
        "plt.title(\"GRU with Improvement\")\n",
        "plt.show()"
      ],
      "metadata": {
        "colab": {
          "base_uri": "https://localhost:8080/",
          "height": 295
        },
        "outputId": "a840167d-6eef-4949-abcc-40344cbb2cca",
        "id": "aNBPiGDw0hoP"
      },
      "execution_count": 109,
      "outputs": [
        {
          "output_type": "display_data",
          "data": {
            "text/plain": [
              "<Figure size 432x288 with 2 Axes>"
            ],
            "image/png": "[encoded data removed]"
          },
          "metadata": {
            "needs_background": "light"
          }
        }
      ]
    },
    {
      "cell_type": "markdown",
      "source": [
        "## Model LSTM x Conv1D x DNN"
      ],
      "metadata": {
        "id": "-YgwNCQ23eU-"
      }
    },
    {
      "cell_type": "code",
      "source": [
        "model_lstm_1_imp = Sequential()\n",
        "model_lstm_1_imp.add(text_vectorization)\n",
        "model_lstm_1_imp.add(embedding)\n",
        "model_lstm_1_imp.add(Conv1D(64, 5, activation='relu'))\n",
        "model_lstm_1_imp.add(MaxPooling1D(pool_size=4))\n",
        "model_lstm_1_imp.add(LSTM(64))\n",
        "model_lstm_1_imp.add(Dense(256,activation='relu', kernel_regularizer=tf.keras.regularizers.L2(),\n",
        "                      kernel_initializer=keras.initializers.RandomNormal(stddev=0.5)))\n",
        "# model_lstm_1_imp.add(BatchNormalization())\n",
        "# model_lstm_1_imp.add(Dropout(0.5))\n",
        "# model_lstm_1_imp.add(Dense(128,activation='relu', kernel_regularizer=tf.keras.regularizers.L2(),\n",
        "#                       kernel_initializer=keras.initializers.RandomNormal(stddev=0.5)))\n",
        "# model_lstm_1_imp.add(BatchNormalization())\n",
        "# model_lstm_1_imp.add(Dropout(0.5))\n",
        "model_lstm_1_imp.add(Dense(3,activation='softmax'))\n",
        "\n",
        "model_lstm_1_imp.compile(loss=keras.losses.categorical_crossentropy,\n",
        "                    optimizer=tf.keras.optimizers.Adam(learning_rate=0.0001),\n",
        "                    metrics='accuracy')"
      ],
      "metadata": {
        "id": "f7bFQyAJfx4N"
      },
      "execution_count": 111,
      "outputs": []
    },
    {
      "cell_type": "code",
      "source": [
        "%%time\n",
        "model_lstm_hist_1_imp = model_lstm_1_imp.fit(X_train_balanced,\n",
        "                         y_train_balanced_ohe, \n",
        "                         batch_size=64,\n",
        "                         epochs=200,\n",
        "                         shuffle=True,\n",
        "                         validation_data=(X_val_balanced, y_val_balanced_ohe))"
      ],
      "metadata": {
        "colab": {
          "base_uri": "https://localhost:8080/"
        },
        "id": "a53eVHpCiKIp",
        "outputId": "66166732-ce02-4534-f07c-c45b08693230"
      },
      "execution_count": 112,
      "outputs": [
        {
          "output_type": "stream",
          "name": "stdout",
          "text": [
            "Epoch 1/200\n",
            "155/155 [==============================] - 5s 15ms/step - loss: 41.5479 - accuracy: 0.3955 - val_loss: 40.5420 - val_accuracy: 0.4322\n",
            "Epoch 2/200\n",
            "155/155 [==============================] - 1s 9ms/step - loss: 39.5613 - accuracy: 0.4648 - val_loss: 38.6040 - val_accuracy: 0.4933\n",
            "Epoch 3/200\n",
            "155/155 [==============================] - 1s 9ms/step - loss: 37.6007 - accuracy: 0.5662 - val_loss: 36.7695 - val_accuracy: 0.5296\n",
            "Epoch 4/200\n",
            "155/155 [==============================] - 1s 9ms/step - loss: 35.6911 - accuracy: 0.6641 - val_loss: 35.0976 - val_accuracy: 0.5726\n",
            "Epoch 5/200\n",
            "155/155 [==============================] - 1s 9ms/step - loss: 33.8665 - accuracy: 0.7755 - val_loss: 33.5517 - val_accuracy: 0.6186\n",
            "Epoch 6/200\n",
            "155/155 [==============================] - 1s 9ms/step - loss: 32.1143 - accuracy: 0.8662 - val_loss: 32.2636 - val_accuracy: 0.6454\n",
            "Epoch 7/200\n",
            "155/155 [==============================] - 1s 9ms/step - loss: 30.5082 - accuracy: 0.9143 - val_loss: 30.9352 - val_accuracy: 0.6687\n",
            "Epoch 8/200\n",
            "155/155 [==============================] - 1s 9ms/step - loss: 29.0445 - accuracy: 0.9237 - val_loss: 29.4414 - val_accuracy: 0.6663\n",
            "Epoch 9/200\n",
            "155/155 [==============================] - 1s 9ms/step - loss: 27.6366 - accuracy: 0.9454 - val_loss: 28.3169 - val_accuracy: 0.6779\n",
            "Epoch 10/200\n",
            "155/155 [==============================] - 1s 9ms/step - loss: 26.3170 - accuracy: 0.9510 - val_loss: 27.2072 - val_accuracy: 0.6751\n",
            "Epoch 11/200\n",
            "155/155 [==============================] - 1s 9ms/step - loss: 25.0621 - accuracy: 0.9547 - val_loss: 26.1225 - val_accuracy: 0.6643\n",
            "Epoch 12/200\n",
            "155/155 [==============================] - 1s 9ms/step - loss: 23.8801 - accuracy: 0.9513 - val_loss: 24.7036 - val_accuracy: 0.6852\n",
            "Epoch 13/200\n",
            "155/155 [==============================] - 1s 9ms/step - loss: 22.7364 - accuracy: 0.9572 - val_loss: 23.5864 - val_accuracy: 0.6805\n",
            "Epoch 14/200\n",
            "155/155 [==============================] - 1s 9ms/step - loss: 21.6452 - accuracy: 0.9591 - val_loss: 22.5221 - val_accuracy: 0.6831\n",
            "Epoch 15/200\n",
            "155/155 [==============================] - 1s 9ms/step - loss: 20.6055 - accuracy: 0.9596 - val_loss: 21.6059 - val_accuracy: 0.6799\n",
            "Epoch 16/200\n",
            "155/155 [==============================] - 1s 9ms/step - loss: 19.6108 - accuracy: 0.9593 - val_loss: 20.5042 - val_accuracy: 0.6876\n",
            "Epoch 17/200\n",
            "155/155 [==============================] - 1s 9ms/step - loss: 18.6560 - accuracy: 0.9616 - val_loss: 19.6365 - val_accuracy: 0.6886\n",
            "Epoch 18/200\n",
            "155/155 [==============================] - 1s 9ms/step - loss: 17.7452 - accuracy: 0.9644 - val_loss: 18.7941 - val_accuracy: 0.6860\n",
            "Epoch 19/200\n",
            "155/155 [==============================] - 1s 9ms/step - loss: 16.8724 - accuracy: 0.9616 - val_loss: 17.8905 - val_accuracy: 0.6922\n",
            "Epoch 20/200\n",
            "155/155 [==============================] - 1s 9ms/step - loss: 16.0420 - accuracy: 0.9620 - val_loss: 17.1004 - val_accuracy: 0.6890\n",
            "Epoch 21/200\n",
            "155/155 [==============================] - 1s 9ms/step - loss: 15.2459 - accuracy: 0.9620 - val_loss: 16.2746 - val_accuracy: 0.6870\n",
            "Epoch 22/200\n",
            "155/155 [==============================] - 1s 9ms/step - loss: 14.4855 - accuracy: 0.9605 - val_loss: 15.5979 - val_accuracy: 0.6858\n",
            "Epoch 23/200\n",
            "155/155 [==============================] - 1s 10ms/step - loss: 13.7484 - accuracy: 0.9641 - val_loss: 14.8547 - val_accuracy: 0.6902\n",
            "Epoch 24/200\n",
            "155/155 [==============================] - 1s 9ms/step - loss: 13.0509 - accuracy: 0.9646 - val_loss: 14.2201 - val_accuracy: 0.6880\n",
            "Epoch 25/200\n",
            "155/155 [==============================] - 1s 9ms/step - loss: 12.3846 - accuracy: 0.9642 - val_loss: 13.5476 - val_accuracy: 0.6839\n",
            "Epoch 26/200\n",
            "155/155 [==============================] - 1s 9ms/step - loss: 11.7470 - accuracy: 0.9631 - val_loss: 12.8772 - val_accuracy: 0.6882\n",
            "Epoch 27/200\n",
            "155/155 [==============================] - 1s 9ms/step - loss: 11.1368 - accuracy: 0.9654 - val_loss: 12.4547 - val_accuracy: 0.6755\n",
            "Epoch 28/200\n",
            "155/155 [==============================] - 1s 9ms/step - loss: 10.5553 - accuracy: 0.9645 - val_loss: 11.6974 - val_accuracy: 0.6916\n",
            "Epoch 29/200\n",
            "155/155 [==============================] - 1s 9ms/step - loss: 10.0051 - accuracy: 0.9635 - val_loss: 11.2177 - val_accuracy: 0.6868\n",
            "Epoch 30/200\n",
            "155/155 [==============================] - 1s 9ms/step - loss: 9.4683 - accuracy: 0.9653 - val_loss: 10.6045 - val_accuracy: 0.6934\n",
            "Epoch 31/200\n",
            "155/155 [==============================] - 1s 9ms/step - loss: 8.9645 - accuracy: 0.9634 - val_loss: 10.2496 - val_accuracy: 0.6884\n",
            "Epoch 32/200\n",
            "155/155 [==============================] - 1s 9ms/step - loss: 8.4875 - accuracy: 0.9626 - val_loss: 9.7283 - val_accuracy: 0.6878\n",
            "Epoch 33/200\n",
            "155/155 [==============================] - 1s 9ms/step - loss: 8.0211 - accuracy: 0.9634 - val_loss: 9.3829 - val_accuracy: 0.6870\n",
            "Epoch 34/200\n",
            "155/155 [==============================] - 1s 9ms/step - loss: 7.5888 - accuracy: 0.9624 - val_loss: 8.8859 - val_accuracy: 0.6906\n",
            "Epoch 35/200\n",
            "155/155 [==============================] - 1s 9ms/step - loss: 7.1627 - accuracy: 0.9642 - val_loss: 8.3684 - val_accuracy: 0.6936\n",
            "Epoch 36/200\n",
            "155/155 [==============================] - 1s 9ms/step - loss: 6.7615 - accuracy: 0.9664 - val_loss: 8.1145 - val_accuracy: 0.6884\n",
            "Epoch 37/200\n",
            "155/155 [==============================] - 1s 9ms/step - loss: 6.3829 - accuracy: 0.9655 - val_loss: 7.7248 - val_accuracy: 0.6868\n",
            "Epoch 38/200\n",
            "155/155 [==============================] - 1s 9ms/step - loss: 6.0227 - accuracy: 0.9651 - val_loss: 7.3790 - val_accuracy: 0.6930\n",
            "Epoch 39/200\n",
            "155/155 [==============================] - 1s 9ms/step - loss: 5.6789 - accuracy: 0.9660 - val_loss: 6.9504 - val_accuracy: 0.6920\n",
            "Epoch 40/200\n",
            "155/155 [==============================] - 1s 9ms/step - loss: 5.3544 - accuracy: 0.9657 - val_loss: 6.6736 - val_accuracy: 0.6845\n",
            "Epoch 41/200\n",
            "155/155 [==============================] - 1s 10ms/step - loss: 5.0399 - accuracy: 0.9666 - val_loss: 6.4372 - val_accuracy: 0.6900\n",
            "Epoch 42/200\n",
            "155/155 [==============================] - 1s 9ms/step - loss: 4.7465 - accuracy: 0.9667 - val_loss: 6.1443 - val_accuracy: 0.6904\n",
            "Epoch 43/200\n",
            "155/155 [==============================] - 1s 9ms/step - loss: 4.4707 - accuracy: 0.9642 - val_loss: 5.9221 - val_accuracy: 0.6898\n",
            "Epoch 44/200\n",
            "155/155 [==============================] - 1s 9ms/step - loss: 4.2066 - accuracy: 0.9658 - val_loss: 5.6816 - val_accuracy: 0.6896\n",
            "Epoch 45/200\n",
            "155/155 [==============================] - 1s 9ms/step - loss: 3.9593 - accuracy: 0.9640 - val_loss: 5.4005 - val_accuracy: 0.6787\n",
            "Epoch 46/200\n",
            "155/155 [==============================] - 1s 9ms/step - loss: 3.7179 - accuracy: 0.9658 - val_loss: 5.1538 - val_accuracy: 0.6892\n",
            "Epoch 47/200\n",
            "155/155 [==============================] - 1s 10ms/step - loss: 3.4895 - accuracy: 0.9653 - val_loss: 4.9747 - val_accuracy: 0.6920\n",
            "Epoch 48/200\n",
            "155/155 [==============================] - 1s 9ms/step - loss: 3.2771 - accuracy: 0.9655 - val_loss: 4.7059 - val_accuracy: 0.6930\n",
            "Epoch 49/200\n",
            "155/155 [==============================] - 1s 9ms/step - loss: 3.0764 - accuracy: 0.9653 - val_loss: 4.6215 - val_accuracy: 0.6845\n",
            "Epoch 50/200\n",
            "155/155 [==============================] - 1s 9ms/step - loss: 2.8836 - accuracy: 0.9672 - val_loss: 4.3326 - val_accuracy: 0.6986\n",
            "Epoch 51/200\n",
            "155/155 [==============================] - 1s 9ms/step - loss: 2.7104 - accuracy: 0.9640 - val_loss: 4.0459 - val_accuracy: 0.6944\n",
            "Epoch 52/200\n",
            "155/155 [==============================] - 1s 9ms/step - loss: 2.5389 - accuracy: 0.9646 - val_loss: 4.1044 - val_accuracy: 0.6886\n",
            "Epoch 53/200\n",
            "155/155 [==============================] - 1s 10ms/step - loss: 2.3768 - accuracy: 0.9657 - val_loss: 3.8838 - val_accuracy: 0.6964\n",
            "Epoch 54/200\n",
            "155/155 [==============================] - 1s 9ms/step - loss: 2.2294 - accuracy: 0.9643 - val_loss: 3.7641 - val_accuracy: 0.6904\n",
            "Epoch 55/200\n",
            "155/155 [==============================] - 1s 9ms/step - loss: 2.0847 - accuracy: 0.9667 - val_loss: 3.6422 - val_accuracy: 0.6862\n",
            "Epoch 56/200\n",
            "155/155 [==============================] - 1s 9ms/step - loss: 1.9513 - accuracy: 0.9665 - val_loss: 3.4474 - val_accuracy: 0.6924\n",
            "Epoch 57/200\n",
            "155/155 [==============================] - 1s 9ms/step - loss: 1.8212 - accuracy: 0.9668 - val_loss: 3.4128 - val_accuracy: 0.6894\n",
            "Epoch 58/200\n",
            "155/155 [==============================] - 1s 9ms/step - loss: 1.7092 - accuracy: 0.9657 - val_loss: 3.1750 - val_accuracy: 0.6908\n",
            "Epoch 59/200\n",
            "155/155 [==============================] - 1s 10ms/step - loss: 1.6007 - accuracy: 0.9641 - val_loss: 3.0086 - val_accuracy: 0.6874\n",
            "Epoch 60/200\n",
            "155/155 [==============================] - 1s 9ms/step - loss: 1.5012 - accuracy: 0.9645 - val_loss: 3.0205 - val_accuracy: 0.6920\n",
            "Epoch 61/200\n",
            "155/155 [==============================] - 1s 10ms/step - loss: 1.3911 - accuracy: 0.9671 - val_loss: 2.9343 - val_accuracy: 0.6926\n",
            "Epoch 62/200\n",
            "155/155 [==============================] - 1s 9ms/step - loss: 1.2991 - accuracy: 0.9667 - val_loss: 2.8420 - val_accuracy: 0.6896\n",
            "Epoch 63/200\n",
            "155/155 [==============================] - 1s 9ms/step - loss: 1.2136 - accuracy: 0.9663 - val_loss: 2.7276 - val_accuracy: 0.6938\n",
            "Epoch 64/200\n",
            "155/155 [==============================] - 1s 9ms/step - loss: 1.1317 - accuracy: 0.9668 - val_loss: 2.6500 - val_accuracy: 0.6944\n",
            "Epoch 65/200\n",
            "155/155 [==============================] - 1s 9ms/step - loss: 1.0577 - accuracy: 0.9664 - val_loss: 2.6781 - val_accuracy: 0.6920\n",
            "Epoch 66/200\n",
            "155/155 [==============================] - 1s 9ms/step - loss: 0.9870 - accuracy: 0.9662 - val_loss: 2.5746 - val_accuracy: 0.6954\n",
            "Epoch 67/200\n",
            "155/155 [==============================] - 1s 9ms/step - loss: 0.9223 - accuracy: 0.9667 - val_loss: 2.5274 - val_accuracy: 0.6898\n",
            "Epoch 68/200\n",
            "155/155 [==============================] - 1s 10ms/step - loss: 0.8589 - accuracy: 0.9667 - val_loss: 2.4968 - val_accuracy: 0.6882\n",
            "Epoch 69/200\n",
            "155/155 [==============================] - 1s 10ms/step - loss: 0.8034 - accuracy: 0.9671 - val_loss: 2.4598 - val_accuracy: 0.6862\n",
            "Epoch 70/200\n",
            "155/155 [==============================] - 1s 9ms/step - loss: 0.7517 - accuracy: 0.9654 - val_loss: 2.3270 - val_accuracy: 0.6892\n",
            "Epoch 71/200\n",
            "155/155 [==============================] - 1s 9ms/step - loss: 0.7011 - accuracy: 0.9659 - val_loss: 2.2503 - val_accuracy: 0.6934\n",
            "Epoch 72/200\n",
            "155/155 [==============================] - 1s 9ms/step - loss: 0.6535 - accuracy: 0.9667 - val_loss: 2.2482 - val_accuracy: 0.6874\n",
            "Epoch 73/200\n",
            "155/155 [==============================] - 1s 9ms/step - loss: 0.6215 - accuracy: 0.9632 - val_loss: 2.2099 - val_accuracy: 0.6847\n",
            "Epoch 74/200\n",
            "155/155 [==============================] - 1s 9ms/step - loss: 0.5814 - accuracy: 0.9632 - val_loss: 2.1466 - val_accuracy: 0.6912\n",
            "Epoch 75/200\n",
            "155/155 [==============================] - 1s 10ms/step - loss: 0.5374 - accuracy: 0.9649 - val_loss: 2.2196 - val_accuracy: 0.6809\n",
            "Epoch 76/200\n",
            "155/155 [==============================] - 1s 9ms/step - loss: 0.4975 - accuracy: 0.9667 - val_loss: 2.1587 - val_accuracy: 0.6896\n",
            "Epoch 77/200\n",
            "155/155 [==============================] - 1s 9ms/step - loss: 0.4650 - accuracy: 0.9680 - val_loss: 2.0892 - val_accuracy: 0.6890\n",
            "Epoch 78/200\n",
            "155/155 [==============================] - 1s 9ms/step - loss: 0.4354 - accuracy: 0.9668 - val_loss: 2.0216 - val_accuracy: 0.6880\n",
            "Epoch 79/200\n",
            "155/155 [==============================] - 1s 9ms/step - loss: 0.4076 - accuracy: 0.9678 - val_loss: 2.0686 - val_accuracy: 0.6878\n",
            "Epoch 80/200\n",
            "155/155 [==============================] - 1s 9ms/step - loss: 0.3835 - accuracy: 0.9677 - val_loss: 1.9872 - val_accuracy: 0.6847\n",
            "Epoch 81/200\n",
            "155/155 [==============================] - 1s 9ms/step - loss: 0.3617 - accuracy: 0.9664 - val_loss: 2.1772 - val_accuracy: 0.6687\n",
            "Epoch 82/200\n",
            "155/155 [==============================] - 1s 10ms/step - loss: 0.3518 - accuracy: 0.9633 - val_loss: 1.9464 - val_accuracy: 0.6886\n",
            "Epoch 83/200\n",
            "155/155 [==============================] - 1s 9ms/step - loss: 0.3188 - accuracy: 0.9671 - val_loss: 1.9580 - val_accuracy: 0.6876\n",
            "Epoch 84/200\n",
            "155/155 [==============================] - 1s 9ms/step - loss: 0.2987 - accuracy: 0.9667 - val_loss: 1.9526 - val_accuracy: 0.6870\n",
            "Epoch 85/200\n",
            "155/155 [==============================] - 1s 9ms/step - loss: 0.2797 - accuracy: 0.9675 - val_loss: 1.9999 - val_accuracy: 0.6880\n",
            "Epoch 86/200\n",
            "155/155 [==============================] - 1s 9ms/step - loss: 0.2636 - accuracy: 0.9679 - val_loss: 1.9669 - val_accuracy: 0.6856\n",
            "Epoch 87/200\n",
            "155/155 [==============================] - 1s 9ms/step - loss: 0.2502 - accuracy: 0.9672 - val_loss: 1.9712 - val_accuracy: 0.6870\n",
            "Epoch 88/200\n",
            "155/155 [==============================] - 1s 9ms/step - loss: 0.2445 - accuracy: 0.9639 - val_loss: 1.8798 - val_accuracy: 0.6880\n",
            "Epoch 89/200\n",
            "155/155 [==============================] - 1s 10ms/step - loss: 0.2313 - accuracy: 0.9648 - val_loss: 2.0036 - val_accuracy: 0.6789\n",
            "Epoch 90/200\n",
            "155/155 [==============================] - 1s 9ms/step - loss: 0.2124 - accuracy: 0.9672 - val_loss: 1.9160 - val_accuracy: 0.6888\n",
            "Epoch 91/200\n",
            "155/155 [==============================] - 1s 9ms/step - loss: 0.2018 - accuracy: 0.9675 - val_loss: 1.9139 - val_accuracy: 0.6868\n",
            "Epoch 92/200\n",
            "155/155 [==============================] - 1s 9ms/step - loss: 0.1920 - accuracy: 0.9670 - val_loss: 1.8740 - val_accuracy: 0.6904\n",
            "Epoch 93/200\n",
            "155/155 [==============================] - 1s 9ms/step - loss: 0.1859 - accuracy: 0.9662 - val_loss: 1.8978 - val_accuracy: 0.6847\n",
            "Epoch 94/200\n",
            "155/155 [==============================] - 1s 9ms/step - loss: 0.1748 - accuracy: 0.9666 - val_loss: 1.8052 - val_accuracy: 0.6914\n",
            "Epoch 95/200\n",
            "155/155 [==============================] - 1s 10ms/step - loss: 0.1668 - accuracy: 0.9671 - val_loss: 1.8323 - val_accuracy: 0.6914\n",
            "Epoch 96/200\n",
            "155/155 [==============================] - 1s 10ms/step - loss: 0.1582 - accuracy: 0.9676 - val_loss: 1.8925 - val_accuracy: 0.6896\n",
            "Epoch 97/200\n",
            "155/155 [==============================] - 1s 10ms/step - loss: 0.1531 - accuracy: 0.9674 - val_loss: 1.8596 - val_accuracy: 0.6900\n",
            "Epoch 98/200\n",
            "155/155 [==============================] - 1s 9ms/step - loss: 0.1618 - accuracy: 0.9632 - val_loss: 1.8328 - val_accuracy: 0.6884\n",
            "Epoch 99/200\n",
            "155/155 [==============================] - 1s 10ms/step - loss: 0.1492 - accuracy: 0.9652 - val_loss: 1.7854 - val_accuracy: 0.6882\n",
            "Epoch 100/200\n",
            "155/155 [==============================] - 1s 9ms/step - loss: 0.1407 - accuracy: 0.9670 - val_loss: 1.8743 - val_accuracy: 0.6868\n",
            "Epoch 101/200\n",
            "155/155 [==============================] - 1s 9ms/step - loss: 0.1332 - accuracy: 0.9666 - val_loss: 1.8669 - val_accuracy: 0.6902\n",
            "Epoch 102/200\n",
            "155/155 [==============================] - 1s 9ms/step - loss: 0.1285 - accuracy: 0.9676 - val_loss: 1.8643 - val_accuracy: 0.6916\n",
            "Epoch 103/200\n",
            "155/155 [==============================] - 1s 9ms/step - loss: 0.1241 - accuracy: 0.9678 - val_loss: 1.8503 - val_accuracy: 0.6906\n",
            "Epoch 104/200\n",
            "155/155 [==============================] - 1s 10ms/step - loss: 0.1195 - accuracy: 0.9676 - val_loss: 1.8162 - val_accuracy: 0.6886\n",
            "Epoch 105/200\n",
            "155/155 [==============================] - 1s 10ms/step - loss: 0.1167 - accuracy: 0.9672 - val_loss: 1.9788 - val_accuracy: 0.6874\n",
            "Epoch 106/200\n",
            "155/155 [==============================] - 1s 9ms/step - loss: 0.1149 - accuracy: 0.9678 - val_loss: 1.8143 - val_accuracy: 0.6942\n",
            "Epoch 107/200\n",
            "155/155 [==============================] - 1s 9ms/step - loss: 0.1115 - accuracy: 0.9667 - val_loss: 1.8351 - val_accuracy: 0.6900\n",
            "Epoch 108/200\n",
            "155/155 [==============================] - 1s 10ms/step - loss: 0.1089 - accuracy: 0.9680 - val_loss: 1.8632 - val_accuracy: 0.6898\n",
            "Epoch 109/200\n",
            "155/155 [==============================] - 1s 10ms/step - loss: 0.1060 - accuracy: 0.9675 - val_loss: 1.7880 - val_accuracy: 0.6914\n",
            "Epoch 110/200\n",
            "155/155 [==============================] - 1s 9ms/step - loss: 0.1177 - accuracy: 0.9635 - val_loss: 1.8645 - val_accuracy: 0.6890\n",
            "Epoch 111/200\n",
            "155/155 [==============================] - 1s 9ms/step - loss: 0.1099 - accuracy: 0.9653 - val_loss: 1.7978 - val_accuracy: 0.6890\n",
            "Epoch 112/200\n",
            "155/155 [==============================] - 1s 10ms/step - loss: 0.1063 - accuracy: 0.9664 - val_loss: 1.8734 - val_accuracy: 0.6878\n",
            "Epoch 113/200\n",
            "155/155 [==============================] - 1s 9ms/step - loss: 0.0994 - accuracy: 0.9674 - val_loss: 1.8829 - val_accuracy: 0.6908\n",
            "Epoch 114/200\n",
            "155/155 [==============================] - 1s 9ms/step - loss: 0.0980 - accuracy: 0.9668 - val_loss: 1.7868 - val_accuracy: 0.6956\n",
            "Epoch 115/200\n",
            "155/155 [==============================] - 1s 10ms/step - loss: 0.0960 - accuracy: 0.9676 - val_loss: 1.9202 - val_accuracy: 0.6890\n",
            "Epoch 116/200\n",
            "155/155 [==============================] - 1s 10ms/step - loss: 0.0953 - accuracy: 0.9674 - val_loss: 1.9381 - val_accuracy: 0.6888\n",
            "Epoch 117/200\n",
            "155/155 [==============================] - 1s 9ms/step - loss: 0.0946 - accuracy: 0.9667 - val_loss: 1.8964 - val_accuracy: 0.6898\n",
            "Epoch 118/200\n",
            "155/155 [==============================] - 1s 10ms/step - loss: 0.0931 - accuracy: 0.9678 - val_loss: 1.9618 - val_accuracy: 0.6868\n",
            "Epoch 119/200\n",
            "155/155 [==============================] - 1s 10ms/step - loss: 0.0921 - accuracy: 0.9677 - val_loss: 1.8187 - val_accuracy: 0.6940\n",
            "Epoch 120/200\n",
            "155/155 [==============================] - 1s 9ms/step - loss: 0.0914 - accuracy: 0.9674 - val_loss: 1.9485 - val_accuracy: 0.6880\n",
            "Epoch 121/200\n",
            "155/155 [==============================] - 1s 9ms/step - loss: 0.0908 - accuracy: 0.9679 - val_loss: 1.9538 - val_accuracy: 0.6868\n",
            "Epoch 122/200\n",
            "155/155 [==============================] - 1s 10ms/step - loss: 0.0898 - accuracy: 0.9671 - val_loss: 1.9320 - val_accuracy: 0.6904\n",
            "Epoch 123/200\n",
            "155/155 [==============================] - 1s 9ms/step - loss: 0.0891 - accuracy: 0.9670 - val_loss: 2.0236 - val_accuracy: 0.6843\n",
            "Epoch 124/200\n",
            "155/155 [==============================] - 1s 10ms/step - loss: 0.1049 - accuracy: 0.9623 - val_loss: 1.8739 - val_accuracy: 0.6878\n",
            "Epoch 125/200\n",
            "155/155 [==============================] - 1s 10ms/step - loss: 0.0932 - accuracy: 0.9658 - val_loss: 1.8579 - val_accuracy: 0.6930\n",
            "Epoch 126/200\n",
            "155/155 [==============================] - 1s 10ms/step - loss: 0.0946 - accuracy: 0.9664 - val_loss: 1.9179 - val_accuracy: 0.6837\n",
            "Epoch 127/200\n",
            "155/155 [==============================] - 1s 9ms/step - loss: 0.0888 - accuracy: 0.9669 - val_loss: 1.9341 - val_accuracy: 0.6894\n",
            "Epoch 128/200\n",
            "155/155 [==============================] - 1s 10ms/step - loss: 0.0876 - accuracy: 0.9680 - val_loss: 1.8883 - val_accuracy: 0.6876\n",
            "Epoch 129/200\n",
            "155/155 [==============================] - 1s 9ms/step - loss: 0.0872 - accuracy: 0.9680 - val_loss: 1.9015 - val_accuracy: 0.6878\n",
            "Epoch 130/200\n",
            "155/155 [==============================] - 1s 9ms/step - loss: 0.0868 - accuracy: 0.9678 - val_loss: 1.9040 - val_accuracy: 0.6898\n",
            "Epoch 131/200\n",
            "155/155 [==============================] - 1s 10ms/step - loss: 0.0857 - accuracy: 0.9680 - val_loss: 1.8694 - val_accuracy: 0.6884\n",
            "Epoch 132/200\n",
            "155/155 [==============================] - 1s 10ms/step - loss: 0.0863 - accuracy: 0.9677 - val_loss: 1.9502 - val_accuracy: 0.6892\n",
            "Epoch 133/200\n",
            "155/155 [==============================] - 1s 9ms/step - loss: 0.0864 - accuracy: 0.9672 - val_loss: 1.9657 - val_accuracy: 0.6872\n",
            "Epoch 134/200\n",
            "155/155 [==============================] - 1s 10ms/step - loss: 0.0850 - accuracy: 0.9681 - val_loss: 1.9941 - val_accuracy: 0.6924\n",
            "Epoch 135/200\n",
            "155/155 [==============================] - 1s 10ms/step - loss: 0.0900 - accuracy: 0.9661 - val_loss: 2.0616 - val_accuracy: 0.6769\n",
            "Epoch 136/200\n",
            "155/155 [==============================] - 1s 9ms/step - loss: 0.1077 - accuracy: 0.9611 - val_loss: 1.9001 - val_accuracy: 0.6854\n",
            "Epoch 137/200\n",
            "155/155 [==============================] - 1s 10ms/step - loss: 0.0873 - accuracy: 0.9677 - val_loss: 1.8483 - val_accuracy: 0.6880\n",
            "Epoch 138/200\n",
            "155/155 [==============================] - 1s 10ms/step - loss: 0.0847 - accuracy: 0.9669 - val_loss: 1.9595 - val_accuracy: 0.6839\n",
            "Epoch 139/200\n",
            "155/155 [==============================] - 1s 10ms/step - loss: 0.0896 - accuracy: 0.9660 - val_loss: 1.8005 - val_accuracy: 0.6837\n",
            "Epoch 140/200\n",
            "155/155 [==============================] - 1s 10ms/step - loss: 0.0869 - accuracy: 0.9667 - val_loss: 1.9279 - val_accuracy: 0.6914\n",
            "Epoch 141/200\n",
            "155/155 [==============================] - 1s 9ms/step - loss: 0.0869 - accuracy: 0.9664 - val_loss: 1.9172 - val_accuracy: 0.6902\n",
            "Epoch 142/200\n",
            "155/155 [==============================] - 1s 10ms/step - loss: 0.0858 - accuracy: 0.9674 - val_loss: 1.9565 - val_accuracy: 0.6894\n",
            "Epoch 143/200\n",
            "155/155 [==============================] - 1s 10ms/step - loss: 0.0845 - accuracy: 0.9675 - val_loss: 1.9482 - val_accuracy: 0.6870\n",
            "Epoch 144/200\n",
            "155/155 [==============================] - 1s 10ms/step - loss: 0.0842 - accuracy: 0.9677 - val_loss: 1.9436 - val_accuracy: 0.6880\n",
            "Epoch 145/200\n",
            "155/155 [==============================] - 1s 10ms/step - loss: 0.0840 - accuracy: 0.9672 - val_loss: 1.9683 - val_accuracy: 0.6876\n",
            "Epoch 146/200\n",
            "155/155 [==============================] - 1s 10ms/step - loss: 0.0836 - accuracy: 0.9675 - val_loss: 1.9395 - val_accuracy: 0.6912\n",
            "Epoch 147/200\n",
            "155/155 [==============================] - 1s 10ms/step - loss: 0.0835 - accuracy: 0.9681 - val_loss: 1.9671 - val_accuracy: 0.6902\n",
            "Epoch 148/200\n",
            "155/155 [==============================] - 1s 10ms/step - loss: 0.0833 - accuracy: 0.9672 - val_loss: 1.9869 - val_accuracy: 0.6843\n",
            "Epoch 149/200\n",
            "155/155 [==============================] - 2s 10ms/step - loss: 0.0827 - accuracy: 0.9677 - val_loss: 1.9803 - val_accuracy: 0.6864\n",
            "Epoch 150/200\n",
            "155/155 [==============================] - 1s 10ms/step - loss: 0.0824 - accuracy: 0.9680 - val_loss: 1.9974 - val_accuracy: 0.6839\n",
            "Epoch 151/200\n",
            "155/155 [==============================] - 1s 9ms/step - loss: 0.0834 - accuracy: 0.9679 - val_loss: 1.9977 - val_accuracy: 0.6872\n",
            "Epoch 152/200\n",
            "155/155 [==============================] - 1s 9ms/step - loss: 0.0836 - accuracy: 0.9676 - val_loss: 1.9887 - val_accuracy: 0.6852\n",
            "Epoch 153/200\n",
            "155/155 [==============================] - 1s 10ms/step - loss: 0.0890 - accuracy: 0.9663 - val_loss: 1.8638 - val_accuracy: 0.6852\n",
            "Epoch 154/200\n",
            "155/155 [==============================] - 1s 10ms/step - loss: 0.0916 - accuracy: 0.9653 - val_loss: 1.8176 - val_accuracy: 0.6918\n",
            "Epoch 155/200\n",
            "155/155 [==============================] - 1s 9ms/step - loss: 0.0839 - accuracy: 0.9676 - val_loss: 1.9478 - val_accuracy: 0.6890\n",
            "Epoch 156/200\n",
            "155/155 [==============================] - 1s 10ms/step - loss: 0.0860 - accuracy: 0.9671 - val_loss: 2.0480 - val_accuracy: 0.6841\n",
            "Epoch 157/200\n",
            "155/155 [==============================] - 2s 10ms/step - loss: 0.0868 - accuracy: 0.9672 - val_loss: 1.8913 - val_accuracy: 0.6946\n",
            "Epoch 158/200\n",
            "155/155 [==============================] - 2s 10ms/step - loss: 0.0838 - accuracy: 0.9679 - val_loss: 2.0028 - val_accuracy: 0.6914\n",
            "Epoch 159/200\n",
            "155/155 [==============================] - 2s 10ms/step - loss: 0.0836 - accuracy: 0.9681 - val_loss: 1.9718 - val_accuracy: 0.6900\n",
            "Epoch 160/200\n",
            "155/155 [==============================] - 2s 10ms/step - loss: 0.0838 - accuracy: 0.9671 - val_loss: 1.9742 - val_accuracy: 0.6892\n",
            "Epoch 161/200\n",
            "155/155 [==============================] - 2s 10ms/step - loss: 0.0826 - accuracy: 0.9678 - val_loss: 1.9701 - val_accuracy: 0.6870\n",
            "Epoch 162/200\n",
            "155/155 [==============================] - 2s 10ms/step - loss: 0.0826 - accuracy: 0.9666 - val_loss: 2.0020 - val_accuracy: 0.6902\n",
            "Epoch 163/200\n",
            "155/155 [==============================] - 2s 10ms/step - loss: 0.0826 - accuracy: 0.9680 - val_loss: 2.0266 - val_accuracy: 0.6878\n",
            "Epoch 164/200\n",
            "155/155 [==============================] - 2s 10ms/step - loss: 0.0823 - accuracy: 0.9684 - val_loss: 2.0216 - val_accuracy: 0.6902\n",
            "Epoch 165/200\n",
            "155/155 [==============================] - 2s 10ms/step - loss: 0.0830 - accuracy: 0.9672 - val_loss: 1.9768 - val_accuracy: 0.6900\n",
            "Epoch 166/200\n",
            "155/155 [==============================] - 2s 10ms/step - loss: 0.0825 - accuracy: 0.9680 - val_loss: 2.0490 - val_accuracy: 0.6880\n",
            "Epoch 167/200\n",
            "155/155 [==============================] - 1s 10ms/step - loss: 0.0824 - accuracy: 0.9676 - val_loss: 2.0066 - val_accuracy: 0.6898\n",
            "Epoch 168/200\n",
            "155/155 [==============================] - 1s 9ms/step - loss: 0.0822 - accuracy: 0.9685 - val_loss: 2.0681 - val_accuracy: 0.6862\n",
            "Epoch 169/200\n",
            "155/155 [==============================] - 1s 9ms/step - loss: 0.0940 - accuracy: 0.9645 - val_loss: 1.7880 - val_accuracy: 0.6866\n",
            "Epoch 170/200\n",
            "155/155 [==============================] - 1s 9ms/step - loss: 0.0854 - accuracy: 0.9672 - val_loss: 1.8820 - val_accuracy: 0.6902\n",
            "Epoch 171/200\n",
            "155/155 [==============================] - 1s 10ms/step - loss: 0.0827 - accuracy: 0.9678 - val_loss: 2.0123 - val_accuracy: 0.6837\n",
            "Epoch 172/200\n",
            "155/155 [==============================] - 1s 10ms/step - loss: 0.0820 - accuracy: 0.9670 - val_loss: 1.9801 - val_accuracy: 0.6868\n",
            "Epoch 173/200\n",
            "155/155 [==============================] - 1s 10ms/step - loss: 0.0827 - accuracy: 0.9677 - val_loss: 1.9808 - val_accuracy: 0.6868\n",
            "Epoch 174/200\n",
            "155/155 [==============================] - 1s 10ms/step - loss: 0.0818 - accuracy: 0.9684 - val_loss: 2.1039 - val_accuracy: 0.6813\n",
            "Epoch 175/200\n",
            "155/155 [==============================] - 1s 10ms/step - loss: 0.0826 - accuracy: 0.9687 - val_loss: 2.0051 - val_accuracy: 0.6900\n",
            "Epoch 176/200\n",
            "155/155 [==============================] - 1s 10ms/step - loss: 0.0820 - accuracy: 0.9685 - val_loss: 2.1424 - val_accuracy: 0.6835\n",
            "Epoch 177/200\n",
            "155/155 [==============================] - 1s 10ms/step - loss: 0.0826 - accuracy: 0.9676 - val_loss: 2.0599 - val_accuracy: 0.6850\n",
            "Epoch 178/200\n",
            "155/155 [==============================] - 1s 10ms/step - loss: 0.0831 - accuracy: 0.9680 - val_loss: 2.0211 - val_accuracy: 0.6835\n",
            "Epoch 179/200\n",
            "155/155 [==============================] - 1s 10ms/step - loss: 0.0819 - accuracy: 0.9679 - val_loss: 1.9594 - val_accuracy: 0.6878\n",
            "Epoch 180/200\n",
            "155/155 [==============================] - 1s 10ms/step - loss: 0.0820 - accuracy: 0.9677 - val_loss: 2.0473 - val_accuracy: 0.6862\n",
            "Epoch 181/200\n",
            "155/155 [==============================] - 1s 10ms/step - loss: 0.0831 - accuracy: 0.9674 - val_loss: 2.0628 - val_accuracy: 0.6850\n",
            "Epoch 182/200\n",
            "155/155 [==============================] - 1s 10ms/step - loss: 0.0978 - accuracy: 0.9636 - val_loss: 1.9004 - val_accuracy: 0.6880\n",
            "Epoch 183/200\n",
            "155/155 [==============================] - 1s 10ms/step - loss: 0.0822 - accuracy: 0.9678 - val_loss: 2.0007 - val_accuracy: 0.6868\n",
            "Epoch 184/200\n",
            "155/155 [==============================] - 1s 9ms/step - loss: 0.0820 - accuracy: 0.9673 - val_loss: 2.0883 - val_accuracy: 0.6823\n",
            "Epoch 185/200\n",
            "155/155 [==============================] - 1s 9ms/step - loss: 0.0816 - accuracy: 0.9676 - val_loss: 1.9807 - val_accuracy: 0.6942\n",
            "Epoch 186/200\n",
            "155/155 [==============================] - 1s 10ms/step - loss: 0.0811 - accuracy: 0.9678 - val_loss: 2.0706 - val_accuracy: 0.6862\n",
            "Epoch 187/200\n",
            "155/155 [==============================] - 1s 10ms/step - loss: 0.0817 - accuracy: 0.9689 - val_loss: 2.0735 - val_accuracy: 0.6839\n",
            "Epoch 188/200\n",
            "155/155 [==============================] - 2s 10ms/step - loss: 0.0818 - accuracy: 0.9676 - val_loss: 1.9792 - val_accuracy: 0.6900\n",
            "Epoch 189/200\n",
            "155/155 [==============================] - 1s 10ms/step - loss: 0.0819 - accuracy: 0.9680 - val_loss: 2.0914 - val_accuracy: 0.6870\n",
            "Epoch 190/200\n",
            "155/155 [==============================] - 1s 10ms/step - loss: 0.0817 - accuracy: 0.9684 - val_loss: 2.0418 - val_accuracy: 0.6896\n",
            "Epoch 191/200\n",
            "155/155 [==============================] - 1s 10ms/step - loss: 0.0822 - accuracy: 0.9670 - val_loss: 2.0210 - val_accuracy: 0.6902\n",
            "Epoch 192/200\n",
            "155/155 [==============================] - 1s 10ms/step - loss: 0.0814 - accuracy: 0.9683 - val_loss: 2.0482 - val_accuracy: 0.6936\n",
            "Epoch 193/200\n",
            "155/155 [==============================] - 1s 10ms/step - loss: 0.0885 - accuracy: 0.9661 - val_loss: 1.8410 - val_accuracy: 0.6922\n",
            "Epoch 194/200\n",
            "155/155 [==============================] - 1s 9ms/step - loss: 0.0907 - accuracy: 0.9652 - val_loss: 1.9520 - val_accuracy: 0.6839\n",
            "Epoch 195/200\n",
            "155/155 [==============================] - 1s 10ms/step - loss: 0.0844 - accuracy: 0.9672 - val_loss: 2.0298 - val_accuracy: 0.6868\n",
            "Epoch 196/200\n",
            "155/155 [==============================] - 1s 10ms/step - loss: 0.0822 - accuracy: 0.9681 - val_loss: 1.9751 - val_accuracy: 0.6928\n",
            "Epoch 197/200\n",
            "155/155 [==============================] - 1s 10ms/step - loss: 0.0806 - accuracy: 0.9681 - val_loss: 1.9878 - val_accuracy: 0.6894\n",
            "Epoch 198/200\n",
            "155/155 [==============================] - 1s 9ms/step - loss: 0.0820 - accuracy: 0.9675 - val_loss: 2.0308 - val_accuracy: 0.6910\n",
            "Epoch 199/200\n",
            "155/155 [==============================] - 1s 9ms/step - loss: 0.0817 - accuracy: 0.9678 - val_loss: 1.9813 - val_accuracy: 0.6920\n",
            "Epoch 200/200\n",
            "155/155 [==============================] - 2s 10ms/step - loss: 0.0818 - accuracy: 0.9677 - val_loss: 1.9601 - val_accuracy: 0.6884\n",
            "CPU times: user 7min 26s, sys: 1min 21s, total: 8min 48s\n",
            "Wall time: 4min 58s\n"
          ]
        }
      ]
    },
    {
      "cell_type": "code",
      "source": [
        "pd.DataFrame(model_lstm_hist_1_imp.history).plot(figsize=(8, 5))\n",
        "plt.grid(True)\n",
        "plt.gca().set_ylim(0, 10)\n",
        "plt.title(\"Learning Curves LSTM Improvement\")\n",
        "plt.show()"
      ],
      "metadata": {
        "colab": {
          "base_uri": "https://localhost:8080/",
          "height": 336
        },
        "id": "8rKYXK3vkvr4",
        "outputId": "95d2ded9-178f-44aa-9b7e-df30df222258"
      },
      "execution_count": 113,
      "outputs": [
        {
          "output_type": "display_data",
          "data": {
            "text/plain": [
              "<Figure size 576x360 with 1 Axes>"
            ],
            "image/png": "[encoded data removed]"
          },
          "metadata": {
            "needs_background": "light"
          }
        }
      ]
    },
    {
      "cell_type": "code",
      "source": [
        "model_lstm_1_imp.evaluate(X_test, y_test_ohe, batch_size=64)"
      ],
      "metadata": {
        "colab": {
          "base_uri": "https://localhost:8080/"
        },
        "id": "-Lawjcj5spce",
        "outputId": "3ed1d395-b632-4582-f201-9bca7f6c33e2"
      },
      "execution_count": 114,
      "outputs": [
        {
          "output_type": "stream",
          "name": "stdout",
          "text": [
            "44/44 [==============================] - 0s 5ms/step - loss: 1.5832 - accuracy: 0.7200\n"
          ]
        },
        {
          "output_type": "execute_result",
          "data": {
            "text/plain": [
              "[1.5832451581954956, 0.7199712991714478]"
            ]
          },
          "metadata": {},
          "execution_count": 114
        }
      ]
    },
    {
      "cell_type": "code",
      "source": [
        "yp_seq_lstm_imp = model_lstm_1_imp.predict(X_test)\n",
        "yp_seq_lstm_imp[:20]"
      ],
      "metadata": {
        "colab": {
          "base_uri": "https://localhost:8080/"
        },
        "id": "UJbb8U_ktXeV",
        "outputId": "d9265ccb-ac84-4fe8-d1d4-a0201ffdb910"
      },
      "execution_count": 115,
      "outputs": [
        {
          "output_type": "execute_result",
          "data": {
            "text/plain": [
              "array([[2.15948065e-04, 7.53417378e-04, 9.99030590e-01],\n",
              "       [2.02517171e-04, 4.30140784e-03, 9.95496035e-01],\n",
              "       [2.15266366e-04, 6.96319970e-04, 9.99088407e-01],\n",
              "       [9.95375097e-01, 2.11424939e-03, 2.51073041e-03],\n",
              "       [2.31633589e-04, 7.27261824e-04, 9.99041021e-01],\n",
              "       [1.71666127e-02, 7.85293341e-01, 1.97540045e-01],\n",
              "       [1.02647224e-04, 9.99160409e-01, 7.36897287e-04],\n",
              "       [1.06579260e-04, 9.99156356e-01, 7.37024355e-04],\n",
              "       [1.71666127e-02, 7.85293341e-01, 1.97540045e-01],\n",
              "       [2.33065846e-04, 7.28204788e-04, 9.99038815e-01],\n",
              "       [2.60381901e-04, 7.54118722e-04, 9.98985469e-01],\n",
              "       [2.16259199e-04, 7.15349743e-04, 9.99068439e-01],\n",
              "       [1.85653436e-04, 9.97090936e-01, 2.72339233e-03],\n",
              "       [8.97098720e-01, 3.15501504e-02, 7.13510439e-02],\n",
              "       [9.99365389e-01, 2.77226325e-04, 3.57415731e-04],\n",
              "       [2.22073286e-04, 9.41636157e-04, 9.98836339e-01],\n",
              "       [1.07510539e-04, 9.99093175e-01, 7.99268717e-04],\n",
              "       [2.07276287e-04, 7.21478951e-04, 9.99071240e-01],\n",
              "       [2.16204164e-04, 6.93374546e-04, 9.99090433e-01],\n",
              "       [1.06779822e-04, 9.98954773e-01, 9.38334037e-04]], dtype=float32)"
            ]
          },
          "metadata": {},
          "execution_count": 115
        }
      ]
    },
    {
      "cell_type": "code",
      "source": [
        "# Test is the data right after splitting into train, test and val (shuffle was false in dataset so the order will match)\n",
        "# Classification report\n",
        "res_argmax_lstm_imp = yp_seq_lstm_imp.argmax(axis=1)\n",
        "print('Classification Report (Model Sequential Improvement LSTM)')\n",
        "print(classification_report(y_test, res_argmax_lstm_imp, target_names=[\"Neutral\", \"Negative\", \"Positive\"]))"
      ],
      "metadata": {
        "colab": {
          "base_uri": "https://localhost:8080/"
        },
        "id": "IlE002NjtZqq",
        "outputId": "ca61f08a-ff4c-47e5-f740-9b3cfbcc2db9"
      },
      "execution_count": 116,
      "outputs": [
        {
          "output_type": "stream",
          "name": "stdout",
          "text": [
            "Classification Report (Model Sequential Improvement LSTM)\n",
            "              precision    recall  f1-score   support\n",
            "\n",
            "     Neutral       0.66      0.51      0.57       400\n",
            "    Negative       0.73      0.76      0.75      1130\n",
            "    Positive       0.72      0.75      0.74      1259\n",
            "\n",
            "    accuracy                           0.72      2789\n",
            "   macro avg       0.71      0.67      0.69      2789\n",
            "weighted avg       0.72      0.72      0.72      2789\n",
            "\n"
          ]
        }
      ]
    },
    {
      "cell_type": "code",
      "source": [
        "cm = confusion_matrix(y_test, res_argmax_lstm_imp)\n",
        "disp = ConfusionMatrixDisplay(confusion_matrix=cm)\n",
        "\n",
        "disp.plot()\n",
        "plt.title(\"LSTM with Improvement\")\n",
        "plt.show()"
      ],
      "metadata": {
        "colab": {
          "base_uri": "https://localhost:8080/",
          "height": 295
        },
        "id": "fv5ZIM9ptaZC",
        "outputId": "4ad6cea2-c545-4b3c-d135-dfda20206026"
      },
      "execution_count": 117,
      "outputs": [
        {
          "output_type": "display_data",
          "data": {
            "text/plain": [
              "<Figure size 432x288 with 2 Axes>"
            ],
            "image/png": "[encoded data removed]"
          },
          "metadata": {
            "needs_background": "light"
          }
        }
      ]
    },
    {
      "cell_type": "markdown",
      "source": [
        "# 7 - Saving Model"
      ],
      "metadata": {
        "id": "p-1T7K573o2w"
      }
    },
    {
      "cell_type": "code",
      "source": [
        "# freeze model\n",
        "for layer in model_lstm_1_imp.layers:\n",
        "  layer.trainable = False\n"
      ],
      "metadata": {
        "id": "le2dlpjD3rPF"
      },
      "execution_count": 118,
      "outputs": []
    },
    {
      "cell_type": "code",
      "source": [
        "# prepare directory for saving model\n",
        "model_lstm_1_imp.save('model_auto_reply_tf')\n"
      ],
      "metadata": {
        "id": "7gOgrEWA3y1O",
        "colab": {
          "base_uri": "https://localhost:8080/"
        },
        "outputId": "f6260a93-bfe4-446d-9745-a3c0399dcc66"
      },
      "execution_count": 119,
      "outputs": [
        {
          "output_type": "stream",
          "name": "stderr",
          "text": [
            "WARNING:absl:Found untraced functions such as lstm_cell_3_layer_call_fn, lstm_cell_3_layer_call_and_return_conditional_losses while saving (showing 2 of 2). These functions will not be directly callable after loading.\n"
          ]
        },
        {
          "output_type": "stream",
          "name": "stdout",
          "text": [
            "INFO:tensorflow:Assets written to: model_auto_reply_tf/assets\n"
          ]
        },
        {
          "output_type": "stream",
          "name": "stderr",
          "text": [
            "INFO:tensorflow:Assets written to: model_auto_reply_tf/assets\n",
            "WARNING:absl:<keras.layers.recurrent.LSTMCell object at 0x7f7f801a7a90> has the same name 'LSTMCell' as a built-in Keras object. Consider renaming <class 'keras.layers.recurrent.LSTMCell'> to avoid naming conflicts when loading with `tf.keras.models.load_model`. If renaming is not possible, pass the object in the `custom_objects` parameter of the load function.\n"
          ]
        }
      ]
    },
    {
      "cell_type": "markdown",
      "source": [
        "# 8 - Model Inference\n",
        "\n",
        "Based on the classification report, the model that gets the best accuracy is the Model LSTM x Conv1D x DNN after improvement. So I will decide to use the Model LSTM x Conv1D x DNN for data inference later so that the model can predict sentiment correctly and better, but it is not perfect."
      ],
      "metadata": {
        "id": "CVS78qx_5kfw"
      }
    },
    {
      "cell_type": "code",
      "source": [
        "model_auto_reply_tf = tf.keras.models.load_model('model_auto_reply_tf')"
      ],
      "metadata": {
        "id": "bBU-GlUn9nvN"
      },
      "execution_count": 120,
      "outputs": []
    },
    {
      "cell_type": "code",
      "source": [
        "twt = [\"banknya jelek banget sih\"]\n",
        "\n",
        "sentiment = model_auto_reply_tf.predict(twt)\n",
        "if(np.argmax(sentiment) == 0):\n",
        "    print(\"Neutral\")\n",
        "elif(np.argmax(sentiment) == 1):\n",
        "    print(\"Negative\")\n",
        "elif(np.argmax(sentiment) == 2):\n",
        "    print(\"Positive\")"
      ],
      "metadata": {
        "colab": {
          "base_uri": "https://localhost:8080/"
        },
        "id": "-6dZJMsF37VU",
        "outputId": "bafa281d-1ec3-4ea5-9c05-d26dc4f1c9c9"
      },
      "execution_count": 134,
      "outputs": [
        {
          "output_type": "stream",
          "name": "stdout",
          "text": [
            "Negative\n"
          ]
        }
      ]
    },
    {
      "cell_type": "code",
      "source": [
        ""
      ],
      "metadata": {
        "id": "ZID-9Psu7-1E"
      },
      "execution_count": 53,
      "outputs": []
    }
  ]
}